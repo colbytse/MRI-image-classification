{
 "cells": [
  {
   "cell_type": "markdown",
   "metadata": {
    "id": "BmN9V8uOtV9Z"
   },
   "source": [
    "\n",
    "## Introduction\n",
    "In this notebook, \n",
    "\n",
    "\n",
    "## Table of Contents\n",
    "\n",
    "\n",
    "\n",
    "In loving memory of Donna Leung."
   ]
  },
  {
   "cell_type": "markdown",
   "metadata": {
    "id": "jY8sbUitt1-x"
   },
   "source": [
    "## Imports"
   ]
  },
  {
   "cell_type": "code",
   "execution_count": null,
   "metadata": {
    "colab": {
     "base_uri": "https://localhost:8080/"
    },
    "id": "TxlTT0NqwOAl",
    "outputId": "9b702da2-5cf4-48bc-ebf7-59362ec2183f",
    "tags": []
   },
   "outputs": [],
   "source": [
    "from google.colab import drive\n",
    "drive.mount('/content/drive')"
   ]
  },
  {
   "cell_type": "code",
   "execution_count": 2,
   "metadata": {
    "id": "Mzj_ZL0GtRwz"
   },
   "outputs": [],
   "source": [
    "import numpy as np\n",
    "import matplotlib.pyplot as plt\n",
    "import seaborn as sns\n",
    "import pandas as pd\n",
    "\n",
    "import os\n",
    "import random\n",
    "import shutil\n",
    "\n",
    "import imutils\n",
    "import cv2\n",
    "\n",
    "import tensorflow as tf\n",
    "from tensorflow.keras.models import Sequential\n",
    "from tensorflow.keras.layers import Dense, Dropout, Flatten,\\\n",
    " Conv2D, MaxPooling2D, GlobalAveragePooling2D\n",
    "from tensorflow.keras import utils\n",
    "from tensorflow.keras.preprocessing.image import ImageDataGenerator\n",
    "from tensorflow.keras.callbacks import EarlyStopping\n",
    "from tensorflow.keras.applications import VGG16, EfficientNetB0"
   ]
  },
  {
   "cell_type": "markdown",
   "metadata": {
    "id": "Svsa_vLs7zWY"
   },
   "source": [
    "## Functions used in this notebook:\n",
    "\n"
   ]
  },
  {
   "cell_type": "code",
   "execution_count": null,
   "metadata": {
    "id": "ZaSU_70Q7uhH"
   },
   "outputs": [],
   "source": [
    "def model_eval(X_train, y_train, X_test, y_test, X_val, y_val):\n",
    "  '''fn accepts above input variables and \n",
    "  returns the associated score from the most recent model'''\n",
    "  train_results = model.evaluate(X_train, y_train) \n",
    "  test_results = model.evaluate(X_test, y_test)\n",
    "  val_results = model.evaluate(X_val, y_val)\n",
    "\n",
    "  return (f\"Train:{train_results}, Test:{test_results}, Val:{val_results}\")"
   ]
  },
  {
   "cell_type": "code",
   "execution_count": null,
   "metadata": {
    "id": "V1wVqJ5bNHWl"
   },
   "outputs": [],
   "source": [
    "def save_new_images(X, y, file_path):\n",
    "\n",
    "  '''fn reforms image files from the np.array back into a jpg'''\n",
    "  i = 0\n",
    "  for (img, imclass) in zip(X, y):\n",
    "      if imclass == 'neg':\n",
    "          cv2.imwrite(file_path + '/neg/' + str(i) + '.jpg', img)\n",
    "      else:\n",
    "          cv2.imwrite(file_path + '/pos/' + str(i) + '.jpg', img)\n",
    "      i += 1\n"
   ]
  },
  {
   "cell_type": "code",
   "execution_count": null,
   "metadata": {
    "id": "dnxfLghGsaTE"
   },
   "outputs": [],
   "source": [
    "def crop_images(images, add_pixels_value=0):\n",
    "  '''fn identifies all \"extreme\" points of an image and crops a \n",
    "  rectangular cut based on the extreme points. Code adapted from pyimagesearch'''\n",
    "  cropped = []\n",
    "  # load the images, convert to greyscale and blur slightly\n",
    "  for image in images:\n",
    "    gray = cv2.cvtColor(image, cv2.COLOR_RGB2GRAY)\n",
    "    gray = cv2.GaussianBlur(gray, (5,5), 0)\n",
    "\n",
    "    # thresholds image then perform a series of erosions and \n",
    "    # dilations to remove small regions of noise\n",
    "    \n",
    "    thresh = cv2.threshold(gray, 45, 255, cv2.THRESH_BINARY)[1]\n",
    "    thresh = cv2.erode(thresh, None, iterations=2)\n",
    "    thresh = cv2.dilate(thresh, None, iterations=2)\n",
    "\n",
    "    # find contours in thresholded image, then grab the largest one\n",
    "\n",
    "    cnts = cv2.findContours(thresh.copy(), cv2.RETR_EXTERNAL,\n",
    "      cv2.CHAIN_APPROX_SIMPLE)\n",
    "    cnts = imutils.grab_contours(cnts)\n",
    "    c = max(cnts, key=cv2.contourArea)\n",
    "\n",
    "    # extract extreme points\n",
    "    # extLeft (West) is the X-axis min\n",
    "    extLeft = tuple(c[c[:, :, 0].argmin()][0])\n",
    "    # extRight (East) X-axis max\n",
    "    extRight = tuple(c[c[:, :, 0].argmax()][0])\n",
    "    # extTop Y-axis max (North)\n",
    "    extTop = tuple(c[c[:, :, 1].argmin()][0])\n",
    "    # extBot Y-axis min (South)\n",
    "    extBot = tuple(c[c[:, :, 1].argmax()][0])\n",
    "\n",
    "    # cropping step\n",
    "    ADD_PIXELS = add_pixels_value\n",
    "    new_img = image[extTop[1]-ADD_PIXELS:extBot[1]+ADD_PIXELS,\\\n",
    "                  extLeft[0]-ADD_PIXELS:extRight[0]+ADD_PIXELS].copy()\n",
    "    cropped.append(new_img)\n",
    "\n",
    "  return np.array(cropped)"
   ]
  },
  {
   "cell_type": "markdown",
   "metadata": {
    "id": "xBnHLaBl76al"
   },
   "source": [
    "## Initial steps"
   ]
  },
  {
   "cell_type": "markdown",
   "metadata": {
    "id": "3ZQnH04wuLvC"
   },
   "source": [
    "1604 'No' images, 1396 'Yes' for a baseline of 46.5% yes."
   ]
  },
  {
   "cell_type": "code",
   "execution_count": null,
   "metadata": {
    "id": "TtznLtfVw5ne"
   },
   "outputs": [],
   "source": [
    "# The data is currerntly setup as 'yes' and 'no'. \n",
    "# I need to split this into a train, test, validation \n",
    "# with their own pos and neg:\n",
    "\n",
    "path = '/content/drive/MyDrive/Colab/capstone/data/archive'\n",
    "os.chdir(path)"
   ]
  },
  {
   "cell_type": "code",
   "execution_count": null,
   "metadata": {
    "id": "DgmSLSGt2nNV"
   },
   "outputs": [],
   "source": [
    "# THIS CODE BLOCK UNEVENLY DISTRIBUTES THE IMAGES DO NOT USE\n",
    "\n",
    "# # get all images to a list\n",
    "# yes_images = os.listdir('yes')\n",
    "# no_images = os.listdir('no')\n",
    "\n",
    "# # randomly shuffle the images around\n",
    "# random.shuffle(yes_images)\n",
    "# random.shuffle(no_images)\n",
    "\n",
    "# all_images = yes_images + no_images\n",
    "\n",
    "# # slice the images\n",
    "\n",
    "# # setting to int to eliminate error for a partial file split\n",
    "# # for this split, I'm using 70 data for training, 20% for testing\n",
    "# # and 10 % for validation\n",
    "\n",
    "# # len(all_images) # 3000 images\n",
    "\n",
    "# train_images = all_images[:int(0.7*len(all_images))]\n",
    "# test_images = all_images[int(0.7*len(all_images)): int(0.9*len(all_images))]\n",
    "# val_images = all_images[int(0.9*len(all_images)):]\n",
    "\n",
    "# len(train_images), len(test_images), len(val_images) # sanity check (2100, 600, 300)\n",
    "\n",
    "# commenting this code out to prevent accidental reruns \n",
    "# and massive file creation\n",
    "# for image in train_images:\n",
    "#   if image in yes_images:\n",
    "#     shutil.copy(f\"yes/{image}\", \"train/pos\")\n",
    "#   else:\n",
    "#     shutil.copy(f\"no/{image}\", \"train/neg\")\n",
    "\n",
    "# for image in test_images:\n",
    "#   if image in yes_images:\n",
    "#     shutil.copy(f\"yes/{image}\", \"test/pos\")\n",
    "#   else:\n",
    "#     shutil.copy(f\"no/{image}\", \"test/neg\")\n",
    "\n",
    "# for image in val_images:\n",
    "#   if image in yes_images:\n",
    "#     shutil.copy(f\"yes/{image}\", \"val/pos\")\n",
    "#   else:\n",
    "#     shutil.copy(f\"no/{image}\", \"val/neg\")"
   ]
  },
  {
   "cell_type": "code",
   "execution_count": null,
   "metadata": {
    "id": "Cck2buF845MW"
   },
   "outputs": [],
   "source": [
    "# # DO NOT EXECUTE AGAIN\n",
    "# # code block shuffles and evenly splits 'yes' and 'no' file images into \n",
    "# # train, test, val folders 'pos' and 'neg' folders\n",
    "# # Each folder contains a 1:1 split of 'yes' and 'no' images\n",
    "# # The original data set has more 'no' images than 'yes'. \n",
    "\n",
    "# yes_images = os.listdir('yes')\n",
    "# no_images = os.listdir('no')\n",
    "\n",
    "# # randomize the images\n",
    "# random.shuffle(yes_images)\n",
    "# random.shuffle(no_images) \n",
    "\n",
    "# #70% train, 20% test, 10% val\n",
    "# pos_train_images = int(len(yes_images)*0.7)\n",
    "# pos_test_images = int(len(yes_images)*0.2)\n",
    "# pos_val_images = int(len(yes_images)*0.1)\n",
    "\n",
    "# neg_train_images = int(len(no_images)*0.7)\n",
    "# neg_test_images = int(len(no_images)*0.2)\n",
    "# neg_val_images = int(len(no_images)*0.1)\n",
    "\n",
    "# # select the images\n",
    "# train_yes = yes_images[:pos_train_images]\n",
    "# train_no = no_images[:neg_train_images]\n",
    "\n",
    "# # move the files into each respective folder\n",
    "# for image in train_yes:\n",
    "#   shutil.move(f'yes/{image}', 'train/pos')\n",
    "# for image in train_no:\n",
    "#   shutil.move(f'no/{image}', 'train/neg')\n",
    "\n",
    "# # redeclare variable with with the prior images removed\n",
    "# yes_images = yes_images[pos_train_images:]\n",
    "# no_images = no_images[neg_train_images:]\n",
    "\n",
    "# # rinse and repeat for test and val\n",
    "\n",
    "# test_yes = yes_images[:pos_test_images]\n",
    "# test_no = no_images[:neg_test_images]\n",
    "\n",
    "# for image in test_yes:\n",
    "#   shutil.move(f'yes/{image}', 'test/pos')\n",
    "# for image in test_no:\n",
    "#   shutil.move(f'no/{image}', 'test/neg')\n",
    "\n",
    "# yes_images = yes_images[pos_test_images:]\n",
    "# no_images = no_images[neg_test_images:]\n",
    "\n",
    "# val_yes = yes_images[:pos_val_images]\n",
    "# val_no = no_images[:neg_val_images]\n",
    "\n",
    "# for image in val_yes:\n",
    "#   shutil.move(f'yes/{image}', 'val/pos')\n",
    "# for image in val_no:\n",
    "#   shutil.move(f'no/{image}', 'val/neg')\n"
   ]
  },
  {
   "cell_type": "code",
   "execution_count": null,
   "metadata": {
    "id": "xxnlMvOrsmpG"
   },
   "outputs": [],
   "source": [
    "# # This code block will move all the images back into their original folders\n",
    "# # Always have an exit plan\n",
    "\n",
    "# train_pos_images = os.listdir('train/pos')\n",
    "# train_neg_images = os.listdir('train/neg')\n",
    "\n",
    "# for image in train_pos_images:\n",
    "#   shutil.move(f'train/pos/{image}', 'yes')\n",
    "\n",
    "# for image in train_neg_images:\n",
    "#   shutil.move(f'train/neg/{image}', 'no')\n",
    "\n",
    "# test_pos_images = os.listdir('test/pos')\n",
    "# test_neg_images = os.listdir('test/neg')\n",
    "\n",
    "# for image in test_pos_images:\n",
    "#   shutil.move(f'test/pos/{image}', 'yes')\n",
    "\n",
    "# for image in test_neg_images:\n",
    "#   shutil.move(f'test/neg/{image}', 'no')\n",
    "\n",
    "# val_pos_images = os.listdir('val/pos')\n",
    "# val_neg_images = os.listdir('val/neg')\n",
    "\n",
    "# for image in val_pos_images:\n",
    "#   shutil.move(f'val/pos/{image}', 'yes')\n",
    "\n",
    "# for image in val_neg_images:\n",
    "#   shutil.move(f'val/neg/{image}', 'no')\n"
   ]
  },
  {
   "cell_type": "markdown",
   "metadata": {
    "id": "DrJTX8c6Msmx"
   },
   "source": [
    "## Setup\n",
    "\n",
    "Seed set to 33 to retain reproducibility. Parameters were chosen with the intent of comparing the base model versus a VGG16 architecture and the VGG16 pretrained model itself. "
   ]
  },
  {
   "cell_type": "code",
   "execution_count": 5,
   "metadata": {
    "id": "YycQAlPSMRBW"
   },
   "outputs": [],
   "source": [
    "datagen = ImageDataGenerator()"
   ]
  },
  {
   "cell_type": "code",
   "execution_count": 12,
   "metadata": {
    "colab": {
     "base_uri": "https://localhost:8080/"
    },
    "id": "shgovGCWMac4",
    "outputId": "f9a21755-f38d-4546-a70f-3b8a01af6191"
   },
   "outputs": [
    {
     "name": "stdout",
     "output_type": "stream",
     "text": [
      "Found 2100 images belonging to 2 classes.\n"
     ]
    }
   ],
   "source": [
    "train_data = datagen.flow_from_directory(\n",
    "    directory = '/content/drive/MyDrive/Colab/capstone/data/archive/train/',\n",
    "    target_size = (224, 224),\n",
    "    color_mode='rgb',\n",
    "    classes=['neg', 'pos'],\n",
    "    class_mode='binary',\n",
    "    batch_size= 32,\n",
    "    shuffle=True,\n",
    "    seed=33\n",
    ")"
   ]
  },
  {
   "cell_type": "code",
   "execution_count": 6,
   "metadata": {
    "colab": {
     "base_uri": "https://localhost:8080/"
    },
    "id": "NTXRkQzbOPRl",
    "outputId": "641ae440-2a9b-41bb-9976-9df01ab5e993"
   },
   "outputs": [
    {
     "name": "stdout",
     "output_type": "stream",
     "text": [
      "Found 600 images belonging to 2 classes.\n"
     ]
    }
   ],
   "source": [
    "test_data = datagen.flow_from_directory(\n",
    "    directory = '/content/drive/MyDrive/Colab/capstone/data/archive/test/',\n",
    "    target_size = (224, 224),\n",
    "    color_mode='rgb',\n",
    "    classes=['neg', 'pos'],\n",
    "    class_mode='binary',\n",
    "    batch_size= 32,\n",
    "    shuffle=True,\n",
    "    seed=33\n",
    ")"
   ]
  },
  {
   "cell_type": "code",
   "execution_count": 7,
   "metadata": {
    "colab": {
     "base_uri": "https://localhost:8080/"
    },
    "id": "gyusw3VxOhGL",
    "outputId": "ca966348-b8d9-4a4b-8003-57bf16de52a1"
   },
   "outputs": [
    {
     "name": "stdout",
     "output_type": "stream",
     "text": [
      "Found 300 images belonging to 2 classes.\n"
     ]
    }
   ],
   "source": [
    "val_data = datagen.flow_from_directory(\n",
    "    directory = '/content/drive/MyDrive/Colab/capstone/data/archive/val/',\n",
    "    target_size = (224, 224),\n",
    "    color_mode='rgb',\n",
    "    classes=['neg', 'pos'],\n",
    "    class_mode='binary',\n",
    "    batch_size= 32,\n",
    "    shuffle=True,\n",
    "    seed=33\n",
    ")"
   ]
  },
  {
   "cell_type": "code",
   "execution_count": null,
   "metadata": {
    "colab": {
     "base_uri": "https://localhost:8080/"
    },
    "id": "11nMYGTCO17b",
    "outputId": "75d9646e-1180-40fa-f913-c313fc074998"
   },
   "outputs": [
    {
     "data": {
      "text/plain": [
       "((32, 224, 224, 3), (32,), (32, 224, 224, 3), (32,), (32, 224, 224, 3), (32,))"
      ]
     },
     "execution_count": 8,
     "metadata": {},
     "output_type": "execute_result"
    }
   ],
   "source": [
    "X_train, y_train = train_data.next()\n",
    "X_test, y_test = test_data.next()\n",
    "X_val, y_val = val_data.next()\n",
    "\n",
    "X_train.shape, y_train.shape, X_test.shape, y_test.shape, X_val.shape, y_val.shape"
   ]
  },
  {
   "cell_type": "code",
   "execution_count": null,
   "metadata": {
    "colab": {
     "base_uri": "https://localhost:8080/"
    },
    "id": "sDD3TEccZXcZ",
    "outputId": "e631f140-bb96-44ff-9847-133ada559719"
   },
   "outputs": [
    {
     "data": {
      "text/plain": [
       "(2100, 2, {'neg': 0, 'pos': 1})"
      ]
     },
     "execution_count": 9,
     "metadata": {},
     "output_type": "execute_result"
    }
   ],
   "source": [
    "train_data.samples, train_data.num_classes, train_data.class_indices"
   ]
  },
  {
   "cell_type": "markdown",
   "metadata": {
    "id": "BwRzPgWUdztj"
   },
   "source": [
    "## Base model\n",
    "\n",
    "To give myself a metric of how well the models are doing I am establishing a base model with no preprocessing or manipulations to the data. The base model consists of a few basic layers one might find in a basic classification model."
   ]
  },
  {
   "cell_type": "code",
   "execution_count": null,
   "metadata": {
    "id": "Nyn50B_hdHKC"
   },
   "outputs": [],
   "source": [
    "model = Sequential()\n",
    "\n",
    "model.add(\n",
    "    Conv2D(32, kernel_size=(3, 3), \n",
    "           activation='relu', input_shape=(224, 224, 3)))\n",
    "\n",
    "model.add(MaxPooling2D(pool_size=(2,2)))\n",
    "\n",
    "model.add(\n",
    "    Conv2D(64, kernel_size=(3, 3),\n",
    "           activation='relu')\n",
    ")\n",
    "\n",
    "model.add(MaxPooling2D(pool_size=(2,2)))\n",
    "\n",
    "model.add(Flatten())\n",
    "\n",
    "model.add(Dense(128, activation='relu'))\n",
    "\n",
    "model.add(Dropout(0.5))\n",
    "\n",
    "model.add(Dense(1, activation='sigmoid'))\n",
    "\n",
    "model.compile(optimizer='adam', \n",
    "              loss='binary_crossentropy', \n",
    "              metrics =['accuracy'])"
   ]
  },
  {
   "cell_type": "code",
   "execution_count": null,
   "metadata": {
    "id": "loIOO7Vvewv-"
   },
   "outputs": [],
   "source": [
    "early_stopping = EarlyStopping(monitor = 'val_loss', patience = 5)"
   ]
  },
  {
   "cell_type": "code",
   "execution_count": null,
   "metadata": {
    "id": "C2QvysS7e-HD"
   },
   "outputs": [],
   "source": [
    "history = model.fit(X_train, y_train,\n",
    "                    batch_size = 16,\n",
    "                    validation_data = (X_test, y_test),\n",
    "                    epochs = 1000,\n",
    "                    callbacks = [early_stopping],\n",
    "                    verbose =0)"
   ]
  },
  {
   "cell_type": "code",
   "execution_count": null,
   "metadata": {
    "colab": {
     "base_uri": "https://localhost:8080/",
     "height": 35
    },
    "id": "Oe7R-19k6-fD",
    "outputId": "4e67fb4c-35cf-42fa-8d56-156d66ea52a5"
   },
   "outputs": [
    {
     "data": {
      "application/vnd.google.colaboratory.intrinsic+json": {
       "type": "string"
      },
      "text/plain": [
       "'Train:[3.2253228710033e-07, 1.0], Test:[7.4761199951171875, 0.78125], Val:[13.015445709228516, 0.75]'"
      ]
     },
     "execution_count": 25,
     "metadata": {},
     "output_type": "execute_result"
    }
   ],
   "source": [
    "model_eval(X_train, y_train, X_test, y_test, X_val, y_val)"
   ]
  },
  {
   "cell_type": "code",
   "execution_count": null,
   "metadata": {
    "colab": {
     "base_uri": "https://localhost:8080/",
     "height": 295
    },
    "id": "jP-h1CdkkwQY",
    "outputId": "fdb5d78a-0d8e-46b2-8e89-62be31135ca7"
   },
   "outputs": [
    {
     "data": {
      "image/png": "[encoded data removed]",
      "text/plain": [
       "<Figure size 432x288 with 1 Axes>"
      ]
     },
     "metadata": {
      "needs_background": "light"
     },
     "output_type": "display_data"
    }
   ],
   "source": [
    "plt.plot(history.history['accuracy'])\n",
    "plt.plot(history.history['val_accuracy'])\n",
    "plt.title('Model Accuracy')\n",
    "plt.ylabel('Accuracy')\n",
    "plt.xlabel('Epoch')\n",
    "plt.legend(['Train', 'Test'], loc = 'right')\n",
    "plt.show()"
   ]
  },
  {
   "cell_type": "code",
   "execution_count": null,
   "metadata": {
    "colab": {
     "base_uri": "https://localhost:8080/",
     "height": 295
    },
    "id": "1Nn-1HodlL3u",
    "outputId": "d2dca0ba-7d56-4727-a0c1-126a5b3b03c2"
   },
   "outputs": [
    {
     "data": {
      "image/png": "[encoded data removed]",
      "text/plain": [
       "<Figure size 432x288 with 1 Axes>"
      ]
     },
     "metadata": {
      "needs_background": "light"
     },
     "output_type": "display_data"
    }
   ],
   "source": [
    "plt.plot(history.history['loss'])\n",
    "plt.plot(history.history['val_loss'])\n",
    "plt.title('Model Loss')\n",
    "plt.ylabel('Loss')\n",
    "plt.xlabel('Epoch')\n",
    "plt.legend(['Train', 'Test'], loc = 'right')\n",
    "plt.show()"
   ]
  },
  {
   "cell_type": "markdown",
   "metadata": {
    "id": "4gsSXPaYmfR2"
   },
   "source": [
    "### Baseline results: \n",
    "Baseline accuracy 100% train, 75% on validation data. The train data is overfit and I feel the loss could be lower.\n",
    "\n",
    "## VGG16 Architecture\n",
    "\n",
    "[Very Deep Convolutional Networks for Large-Scale Image Recognition](https://arxiv.org/pdf/1409.1556.pdf)\n",
    "\n",
    "Based on various literature, I have decided to use VGG16 Architecture for this \n",
    "Convolutional Neural Network (CNN). VGG16 is an object detection and classification algorithm that is quite popular in this space. There are 13 convolutional layers, 5 Max Pooling layers, and 3 Dense layers adding up to 21 total layers 16 of which have weights (hence the 16). \n",
    "\n",
    "This model takes in a tensor size of 224, 224 and uses 3 RGB channels. But first, a baseline VGG16 style model is in order."
   ]
  },
  {
   "cell_type": "code",
   "execution_count": null,
   "metadata": {
    "id": "9ESYQOAelRcm"
   },
   "outputs": [],
   "source": [
    "model = Sequential()\n",
    "\n",
    "model.add(Conv2D(input_shape=(224,224,3), filters=64, kernel_size=(3,3), padding='same', activation='relu'))\n",
    "model.add(Conv2D(filters=64, kernel_size=(3,3), padding='same', activation='relu'))\n",
    "\n",
    "model.add(MaxPooling2D(pool_size=(2,2), strides=(2,2)))\n",
    "\n",
    "model.add(Conv2D(filters=128, kernel_size=(3,3), padding='same', activation='relu'))\n",
    "model.add(Conv2D(filters=128, kernel_size=(3,3), padding='same', activation='relu'))\n",
    "\n",
    "model.add(MaxPooling2D(pool_size=(2,2), strides=(2,2)))\n",
    "\n",
    "model.add(Conv2D(filters=256, kernel_size=(3,3), padding='same', activation='relu'))\n",
    "model.add(Conv2D(filters=256, kernel_size=(3,3), padding='same', activation='relu'))\n",
    "model.add(Conv2D(filters=256, kernel_size=(3,3), padding='same', activation='relu'))\n",
    "\n",
    "model.add(MaxPooling2D(pool_size=(2,2), strides=(2,2)))\n",
    "\n",
    "model.add(Conv2D(filters=512, kernel_size=(3,3), padding='same', activation='relu'))\n",
    "model.add(Conv2D(filters=512, kernel_size=(3,3), padding='same', activation='relu'))\n",
    "model.add(Conv2D(filters=512, kernel_size=(3,3), padding='same', activation='relu'))\n",
    "\n",
    "model.add(MaxPooling2D(pool_size=(2,2), strides=(2,2)))\n",
    "\n",
    "model.add(Conv2D(filters=1024, kernel_size=(3,3), padding='same', activation='relu'))\n",
    "model.add(Conv2D(filters=1024, kernel_size=(3,3), padding='same', activation='relu'))\n",
    "model.add(Conv2D(filters=1024, kernel_size=(3,3), padding='same', activation='relu'))\n",
    "\n",
    "model.add(MaxPooling2D(pool_size=(2,2), strides=(2,2)))\n",
    "\n",
    "model.add(Flatten(name='flatten'))\n",
    "\n",
    "model.add(Dense(256, activation='relu'))\n",
    "model.add(Dense(128, activation='relu'))\n",
    "model.add(Dense(1, activation='sigmoid'))\n",
    "\n",
    "model.compile(optimizer='adam', \n",
    "              loss='binary_crossentropy', \n",
    "              metrics =['accuracy'])"
   ]
  },
  {
   "cell_type": "code",
   "execution_count": null,
   "metadata": {
    "id": "6-c23bgrrqzo"
   },
   "outputs": [],
   "source": [
    "# Adjusting early stopping for a deeper dive.\n",
    "\n",
    "es = EarlyStopping(monitor = 'val_loss', patience = 10)"
   ]
  },
  {
   "cell_type": "code",
   "execution_count": null,
   "metadata": {
    "id": "RLX326sIrli_"
   },
   "outputs": [],
   "source": [
    "history = model.fit(X_train, y_train,\n",
    "                    batch_size = 16,\n",
    "                    validation_data = (X_test, y_test),\n",
    "                    epochs = 1000,\n",
    "                    callbacks = [es],\n",
    "                    verbose = 0)"
   ]
  },
  {
   "cell_type": "code",
   "execution_count": null,
   "metadata": {
    "colab": {
     "base_uri": "https://localhost:8080/",
     "height": 86
    },
    "id": "WczCMBj0C_R2",
    "outputId": "814033ad-5580-4c1c-e2d4-a2faefa928be"
   },
   "outputs": [
    {
     "name": "stdout",
     "output_type": "stream",
     "text": [
      "1/1 [==============================] - 0s 230ms/step - loss: 0.3566 - accuracy: 0.8125\n",
      "1/1 [==============================] - 0s 195ms/step - loss: 0.5616 - accuracy: 0.5938\n",
      "1/1 [==============================] - 0s 184ms/step - loss: 0.8063 - accuracy: 0.5000\n"
     ]
    },
    {
     "data": {
      "application/vnd.google.colaboratory.intrinsic+json": {
       "type": "string"
      },
      "text/plain": [
       "'Train:[0.35655760765075684, 0.8125], Test:[0.5616276264190674, 0.59375], Val:[0.8062796592712402, 0.5]'"
      ]
     },
     "execution_count": 34,
     "metadata": {},
     "output_type": "execute_result"
    }
   ],
   "source": [
    "model_eval(X_train, y_train, X_test, y_test, X_val, y_val)"
   ]
  },
  {
   "cell_type": "code",
   "execution_count": null,
   "metadata": {
    "colab": {
     "base_uri": "https://localhost:8080/",
     "height": 573
    },
    "id": "03G_BtlesC46",
    "outputId": "a238a1a2-1f36-49eb-dbf7-3d24034c2d23"
   },
   "outputs": [
    {
     "data": {
      "image/png": "[encoded data removed]",
      "text/plain": [
       "<Figure size 432x288 with 1 Axes>"
      ]
     },
     "metadata": {
      "needs_background": "light"
     },
     "output_type": "display_data"
    },
    {
     "data": {
      "image/png": "[encoded data removed]",
      "text/plain": [
       "<Figure size 432x288 with 1 Axes>"
      ]
     },
     "metadata": {
      "needs_background": "light"
     },
     "output_type": "display_data"
    }
   ],
   "source": [
    "plt.plot(history.history['accuracy'])\n",
    "plt.plot(history.history['val_accuracy'])\n",
    "plt.title('Model Accuracy')\n",
    "plt.ylabel('Accuracy')\n",
    "plt.xlabel('Epoch')\n",
    "plt.legend(['Train', 'Test'], loc = 'right')\n",
    "plt.show()\n",
    "\n",
    "plt.plot(history.history['loss'])\n",
    "plt.plot(history.history['val_loss'])\n",
    "plt.title('Model Loss')\n",
    "plt.ylabel('Loss')\n",
    "plt.xlabel('Epoch')\n",
    "plt.legend(['Train', 'Test'], loc = 'right')\n",
    "plt.show()"
   ]
  },
  {
   "cell_type": "markdown",
   "metadata": {
    "id": "owgscGW6yAF2"
   },
   "source": [
    "Loss went down but so did accuracy. Overall a better fit model, albeit not optimal. After digging around the image files, I can see that not all the image files are the same size. There's a bunch of empty space for some of the images. \n",
    "\n",
    "[PyImage Search Gurus](https://pyimagesearch.com/2016/04/11/finding-extreme-points-in-contours-with-opencv/)"
   ]
  },
  {
   "cell_type": "markdown",
   "metadata": {
    "id": "RZBTfIHDoVBM"
   },
   "source": [
    "To see if the function performs as it should, I pulled the core components of the function out to test on single files. "
   ]
  },
  {
   "cell_type": "code",
   "execution_count": null,
   "metadata": {
    "id": "atbPvk3B8lph"
   },
   "outputs": [],
   "source": [
    "image = cv2.imread('/content/drive/MyDrive/Colab/capstone/data/archive/train/pos/y396.jpg')\n",
    "image = cv2.resize(image, dsize = (224, 224), interpolation=cv2.INTER_CUBIC)\n",
    "# INTER_CUBIC: This uses bicubic interpolation for resizing the image. \n",
    "# While resizing and interpolating new pixels, this method acts on the 4×4 \n",
    "# neighboring pixels of the image. It then takes the weights average of the \n",
    "# 16 pixels to create the new interpolated pixel.\n",
    "gray = cv2.cvtColor(image, cv2.COLOR_RGB2GRAY)\n",
    "gray = cv2.GaussianBlur(gray, (5,5), 0)\n",
    "\n",
    "\n",
    "thresh = cv2.threshold(gray, 45, 255, cv2.THRESH_BINARY)[1]\n",
    "thresh = cv2.erode(thresh, None, iterations=2)\n",
    "thresh = cv2.dilate(thresh, None, iterations=2)\n",
    "\n",
    "# find contours in thresholded image, then grab the largest one\n",
    "\n",
    "cnts = cv2.findContours(thresh.copy(), cv2.RETR_EXTERNAL,\n",
    "  cv2.CHAIN_APPROX_SIMPLE)\n",
    "cnts = imutils.grab_contours(cnts)\n",
    "c = max(cnts, key=cv2.contourArea)\n",
    "\n",
    "# extract extreme points\n",
    "# extLeft (West) is the X-axis min\n",
    "extLeft = tuple(c[c[:, :, 0].argmin()][0])\n",
    "# extRight (East) X-axis max\n",
    "extRight = tuple(c[c[:, :, 0].argmax()][0])\n",
    "# extTop Y-axis max (North)\n",
    "extTop = tuple(c[c[:, :, 1].argmin()][0])\n",
    "# extBot Y-axis min (South)\n",
    "extBot = tuple(c[c[:, :, 1].argmax()][0])\n",
    "\n",
    "# cropping step\n",
    "ADD_PIXELS = 0\n",
    "new_img = image[extTop[1]-ADD_PIXELS:extBot[1]+ADD_PIXELS,\\\n",
    "              extLeft[0]-ADD_PIXELS:extRight[0]+ADD_PIXELS].copy()"
   ]
  },
  {
   "cell_type": "code",
   "execution_count": null,
   "metadata": {
    "colab": {
     "base_uri": "https://localhost:8080/",
     "height": 322
    },
    "id": "XX-kNXWQAsit",
    "outputId": "13dae82a-938a-41ee-d56b-dfce7cc70496"
   },
   "outputs": [
    {
     "data": {
      "image/png": "[encoded data removed]",
      "text/plain": [
       "<Figure size 720x360 with 2 Axes>"
      ]
     },
     "metadata": {},
     "output_type": "display_data"
    }
   ],
   "source": [
    "fig, ax = plt.subplots(1, 2, figsize= (10,5))\n",
    "\n",
    "ax[0].imshow(image)\n",
    "ax[0].set_xticks([])\n",
    "ax[0].set_yticks([])\n",
    "ax[0].set_title('Original Image')\n",
    "\n",
    "ax[1].imshow(new_img)\n",
    "ax[1].set_xticks([])\n",
    "ax[1].set_yticks([])\n",
    "ax[1].set_title('Cropped Image')\n",
    "\n",
    "plt.show()"
   ]
  },
  {
   "cell_type": "code",
   "execution_count": null,
   "metadata": {
    "id": "grX6Rgpi4jTK"
   },
   "outputs": [],
   "source": [
    "# for this function to work, I need to reimport my data as np.arrays.\n",
    "\n",
    "labels = ['neg', 'pos']\n",
    "image_size = 224\n",
    "# empty lists to append the np.arrays to\n",
    "X_train = []\n",
    "y_train = []\n",
    "X_test = []\n",
    "y_test = []\n",
    "X_val = []\n",
    "y_val = []\n",
    "for i in labels:\n",
    "    folderPath = os.path.join('/content/drive/MyDrive/Colab/capstone/data/archive/','train',i)\n",
    "    for j in os.listdir(folderPath):\n",
    "        img = cv2.imread(os.path.join(folderPath,j))\n",
    "        img = cv2.resize(img,(image_size, image_size))\n",
    "        X_train.append(img)\n",
    "        y_train.append(i)\n",
    "        \n",
    "for i in labels:\n",
    "    folderPath = os.path.join('/content/drive/MyDrive/Colab/capstone/data/archive/','test',i)\n",
    "    for j in os.listdir(folderPath):\n",
    "        img = cv2.imread(os.path.join(folderPath,j))\n",
    "        img = cv2.resize(img,(image_size,image_size))\n",
    "        X_test.append(img)\n",
    "        y_test.append(i)\n",
    "\n",
    "for i in labels:\n",
    "    folderPath = os.path.join('/content/drive/MyDrive/Colab/capstone/data/archive/','val',i)\n",
    "    for j in os.listdir(folderPath):\n",
    "        img = cv2.imread(os.path.join(folderPath,j))\n",
    "        img = cv2.resize(img,(image_size,image_size))\n",
    "        X_val.append(img)\n",
    "        y_val.append(i)\n",
    "        \n",
    "X_train = np.array(X_train)\n",
    "y_train = np.array(y_train)\n",
    "X_test = np.array(X_test)\n",
    "y_test = np.array(y_test)\n",
    "X_val = np.array(X_val)\n",
    "y_val = np.array(y_val)"
   ]
  },
  {
   "cell_type": "code",
   "execution_count": null,
   "metadata": {
    "colab": {
     "base_uri": "https://localhost:8080/"
    },
    "id": "99bTJNLL4jMi",
    "outputId": "98aa8e23-7695-425f-cf10-f80fc9b33813"
   },
   "outputs": [
    {
     "name": "stderr",
     "output_type": "stream",
     "text": [
      "<ipython-input-321-bfbf791a9fa0>:40: VisibleDeprecationWarning: Creating an ndarray from ragged nested sequences (which is a list-or-tuple of lists-or-tuples-or ndarrays with different lengths or shapes) is deprecated. If you meant to do this, you must specify 'dtype=object' when creating the ndarray.\n",
      "  return np.array(cropped)\n"
     ]
    }
   ],
   "source": [
    "cropped_X_train = crop_images(images = X_train)\n",
    "cropped_X_test = crop_images(images = X_test)\n",
    "cropped_X_val = crop_images(images = X_val)"
   ]
  },
  {
   "cell_type": "code",
   "execution_count": null,
   "metadata": {
    "id": "jcQLj4x5CwTI"
   },
   "outputs": [],
   "source": [
    "file_path = '/content/drive/MyDrive/Colab/capstone/data/archive/cropped'"
   ]
  },
  {
   "cell_type": "code",
   "execution_count": null,
   "metadata": {
    "id": "yKtYw0Z6NpTy"
   },
   "outputs": [],
   "source": [
    "# # commenting out to prevent file duplication\n",
    "\n",
    "# save_new_images(cropped_X_train, y_train, file_path + '/train')\n",
    "# save_new_images(cropped_X_test, y_test, file_path + '/test')\n",
    "# save_new_images(cropped_X_val, y_val, file_path+ '/val')"
   ]
  },
  {
   "cell_type": "markdown",
   "metadata": {
    "id": "j3xUBeUwpF-y"
   },
   "source": [
    "Importing the cropped image files for modeling into data generators. For simplicity, I've redecalred my train, test, val variables as above to run them through the model. "
   ]
  },
  {
   "cell_type": "code",
   "execution_count": 13,
   "metadata": {
    "id": "fLw4L8PJGbPz"
   },
   "outputs": [],
   "source": [
    "datagen = ImageDataGenerator(rescale=1/255)"
   ]
  },
  {
   "cell_type": "code",
   "execution_count": 14,
   "metadata": {
    "colab": {
     "base_uri": "https://localhost:8080/"
    },
    "id": "WXF3IfSKI5eT",
    "outputId": "c6e1ce85-f273-4356-8fdf-00f49be19205"
   },
   "outputs": [
    {
     "name": "stdout",
     "output_type": "stream",
     "text": [
      "Found 2100 images belonging to 2 classes.\n"
     ]
    }
   ],
   "source": [
    "train_data = datagen.flow_from_directory(\n",
    "    directory = '/content/drive/MyDrive/Colab/capstone/data/archive/cropped/train/',\n",
    "    target_size = (224, 224),\n",
    "    color_mode='rgb',\n",
    "    classes=['neg', 'pos'],\n",
    "    class_mode='binary',\n",
    "    batch_size= 32,\n",
    "    shuffle=True,\n",
    "    seed=33\n",
    ")"
   ]
  },
  {
   "cell_type": "code",
   "execution_count": 15,
   "metadata": {
    "colab": {
     "base_uri": "https://localhost:8080/"
    },
    "id": "eeDdBAvuXUs2",
    "outputId": "2067416c-ff56-4ceb-9804-3f0feabe516d"
   },
   "outputs": [
    {
     "name": "stdout",
     "output_type": "stream",
     "text": [
      "Found 600 images belonging to 2 classes.\n"
     ]
    }
   ],
   "source": [
    "test_data = datagen.flow_from_directory(\n",
    "    directory = '/content/drive/MyDrive/Colab/capstone/data/archive/cropped/test/',\n",
    "    target_size = (224, 224),\n",
    "    color_mode='rgb',\n",
    "    classes=['neg', 'pos'],\n",
    "    class_mode='binary',\n",
    "    batch_size= 32,\n",
    "    shuffle=True,\n",
    "    seed=33\n",
    ")"
   ]
  },
  {
   "cell_type": "code",
   "execution_count": 16,
   "metadata": {
    "colab": {
     "base_uri": "https://localhost:8080/"
    },
    "id": "TLHMd73jXbR4",
    "outputId": "c9bf686c-f59a-4bbf-ed96-8bb71625a0c8"
   },
   "outputs": [
    {
     "name": "stdout",
     "output_type": "stream",
     "text": [
      "Found 300 images belonging to 2 classes.\n"
     ]
    }
   ],
   "source": [
    "val_data = datagen.flow_from_directory(\n",
    "    directory = '/content/drive/MyDrive/Colab/capstone/data/archive/cropped/val/',\n",
    "    target_size = (224, 224),\n",
    "    color_mode='rgb',\n",
    "    classes=['neg', 'pos'],\n",
    "    class_mode='binary',\n",
    "    batch_size= 32,\n",
    "    shuffle=True,\n",
    "    seed=33\n",
    ")"
   ]
  },
  {
   "cell_type": "code",
   "execution_count": null,
   "metadata": {
    "id": "6SsmtaHTXsxX"
   },
   "outputs": [],
   "source": [
    "# This architecture is a manual implementation of \n",
    "# what I understood as the foundation of VGG16\n",
    "model = Sequential()\n",
    "\n",
    "model.add(Conv2D(input_shape=(224,224,3), filters=64, kernel_size=(3,3), padding='same', activation='relu'))\n",
    "model.add(Conv2D(filters=64, kernel_size=(3,3), padding='same', activation='relu'))\n",
    "\n",
    "model.add(MaxPooling2D(pool_size=(2,2), strides=(2,2)))\n",
    "\n",
    "model.add(Conv2D(filters=128, kernel_size=(3,3), padding='same', activation='relu'))\n",
    "model.add(Conv2D(filters=128, kernel_size=(3,3), padding='same', activation='relu'))\n",
    "\n",
    "model.add(MaxPooling2D(pool_size=(2,2), strides=(2,2)))\n",
    "\n",
    "model.add(Conv2D(filters=256, kernel_size=(3,3), padding='same', activation='relu'))\n",
    "model.add(Conv2D(filters=256, kernel_size=(3,3), padding='same', activation='relu'))\n",
    "model.add(Conv2D(filters=256, kernel_size=(3,3), padding='same', activation='relu'))\n",
    "\n",
    "model.add(MaxPooling2D(pool_size=(2,2), strides=(2,2)))\n",
    "\n",
    "model.add(Conv2D(filters=512, kernel_size=(3,3), padding='same', activation='relu'))\n",
    "model.add(Conv2D(filters=512, kernel_size=(3,3), padding='same', activation='relu'))\n",
    "model.add(Conv2D(filters=512, kernel_size=(3,3), padding='same', activation='relu'))\n",
    "\n",
    "model.add(MaxPooling2D(pool_size=(2,2), strides=(2,2)))\n",
    "\n",
    "model.add(Conv2D(filters=512, kernel_size=(3,3), padding='same', activation='relu'))\n",
    "model.add(Conv2D(filters=512, kernel_size=(3,3), padding='same', activation='relu'))\n",
    "model.add(Conv2D(filters=512, kernel_size=(3,3), padding='same', activation='relu'))\n",
    "\n",
    "model.add(MaxPooling2D(pool_size=(2,2), strides=(2,2)))\n",
    "\n",
    "model.add(Flatten(name='flatten'))\n",
    "\n",
    "model.add(Dense(256, activation='relu'))\n",
    "model.add(Dense(128, activation='relu'))\n",
    "model.add(Dense(1, activation='sigmoid'))\n",
    "\n",
    "model.compile(optimizer='adam', \n",
    "              loss='binary_crossentropy', \n",
    "              metrics =['accuracy'])"
   ]
  },
  {
   "cell_type": "code",
   "execution_count": null,
   "metadata": {
    "id": "KANyrVzeXpBY"
   },
   "outputs": [],
   "source": [
    "history = model.fit(X_train, y_train,\n",
    "                    batch_size = 16,\n",
    "                    validation_data = (X_test, y_test),\n",
    "                    epochs = 1000,\n",
    "                    callbacks = [es],\n",
    "                    verbose =0)"
   ]
  },
  {
   "cell_type": "code",
   "execution_count": null,
   "metadata": {
    "colab": {
     "base_uri": "https://localhost:8080/",
     "height": 86
    },
    "id": "gObFoUkFYaRI",
    "outputId": "fdb15109-a132-4623-8230-7b1c7ec87d16"
   },
   "outputs": [
    {
     "name": "stdout",
     "output_type": "stream",
     "text": [
      "1/1 [==============================] - 0s 459ms/step - loss: 0.6616 - accuracy: 0.6250\n",
      "1/1 [==============================] - 0s 164ms/step - loss: 0.7094 - accuracy: 0.5625\n",
      "1/1 [==============================] - 0s 163ms/step - loss: 0.8673 - accuracy: 0.3125\n"
     ]
    },
    {
     "data": {
      "application/vnd.google.colaboratory.intrinsic+json": {
       "type": "string"
      },
      "text/plain": [
       "'Train:[0.661562979221344, 0.625], Test:[0.7093635201454163, 0.5625], Val:[0.8672688007354736, 0.3125]'"
      ]
     },
     "execution_count": 62,
     "metadata": {},
     "output_type": "execute_result"
    }
   ],
   "source": [
    "model_eval(X_train, y_train, X_test, y_test, X_val, y_val)"
   ]
  },
  {
   "cell_type": "markdown",
   "metadata": {
    "id": "xa3BSStAATZr"
   },
   "source": [
    "I could spend months tinkering with the settings in this model but in the interest of time and resources, I'll move on to transfer learning to build upon pretrained models. I'll call upon the VGG16 pre-trained model and see how it performs. Afterwards, I'll address some hyperparameter tuning if needed."
   ]
  },
  {
   "cell_type": "markdown",
   "metadata": {
    "id": "4nVYisuSn2gb"
   },
   "source": [
    "## Utilizing transfer learning\n",
    "Using VGG16 and adjusting the last couple layers for my purposes here."
   ]
  },
  {
   "cell_type": "code",
   "execution_count": 10,
   "metadata": {
    "colab": {
     "base_uri": "https://localhost:8080/"
    },
    "id": "a2yaEk3umUIN",
    "outputId": "487081b8-8424-47e7-e8ce-2497065a7e09"
   },
   "outputs": [
    {
     "name": "stdout",
     "output_type": "stream",
     "text": [
      "Downloading data from https://storage.googleapis.com/tensorflow/keras-applications/vgg16/vgg16_weights_tf_dim_ordering_tf_kernels_notop.h5\n",
      "58889256/58889256 [==============================] - 0s 0us/step\n"
     ]
    }
   ],
   "source": [
    "# Import VGG16\n",
    "vgg = VGG16(input_shape=(224, 224, 3), weights='imagenet', include_top=False)\n",
    "\n",
    "# freezing the base layers as to not overwrite\n",
    "for layer in vgg.layers:\n",
    "    layer.trainable = False\n"
   ]
  },
  {
   "cell_type": "code",
   "execution_count": null,
   "metadata": {
    "id": "kV5XixJTrVYp"
   },
   "outputs": [],
   "source": [
    "model = Sequential()\n",
    "model.add(vgg)\n",
    "# Adding a final layer like one we'd find in the model.\n",
    "# The original model uses maxpooling 2D, trying average instead.\n",
    "model.add(GlobalAveragePooling2D())\n",
    "model.add(Dense(1024, activation='relu'))\n",
    "model.add(Dense(1024, activation='relu'))\n",
    "model.add(Dense(512, activation='relu'))\n",
    "model.add(Dropout(0.3))\n",
    "model.add(Dense(1, activation='sigmoid'))\n",
    "\n",
    "model.compile(optimizer=tf.optimizers.Adam(learning_rate=0.0001), \n",
    "              loss='binary_crossentropy', \n",
    "              metrics =['accuracy'])\n",
    "es = EarlyStopping(monitor = 'val_loss', patience = 5)"
   ]
  },
  {
   "cell_type": "code",
   "execution_count": null,
   "metadata": {
    "id": "nvsMX9TasKWo"
   },
   "outputs": [],
   "source": [
    "history = model.fit(train_data,\n",
    "                    batch_size = 8,\n",
    "                    validation_data = test_data,\n",
    "                    epochs = 50,\n",
    "                    callbacks = [es],\n",
    "                    verbose = 0)"
   ]
  },
  {
   "cell_type": "code",
   "execution_count": null,
   "metadata": {
    "id": "jKQbtgA7fICr"
   },
   "outputs": [],
   "source": [
    "accuracy_dict= {'optimizer': [], 'test_accuracy': [], 'val_accuracy': []}"
   ]
  },
  {
   "cell_type": "code",
   "execution_count": null,
   "metadata": {
    "colab": {
     "base_uri": "https://localhost:8080/"
    },
    "id": "w9O_soud9Fwa",
    "outputId": "7bd89fc3-2b21-473f-847e-95dea5fe4653"
   },
   "outputs": [
    {
     "name": "stdout",
     "output_type": "stream",
     "text": [
      "10/10 [==============================] - 1s 69ms/step - loss: 0.0698 - accuracy: 0.9733\n"
     ]
    }
   ],
   "source": [
    "# model.evaluate(train_data), model.evaluate(test_data), model.evaluate(val_data)\n",
    "accuracy_dict['optimizer'].append('Adam')\n",
    "accuracy_dict['test_accuracy'].append(history.history['val_accuracy'][-1])\n",
    "accuracy_dict['val_accuracy'].append(model.evaluate(val_data)[-1])"
   ]
  },
  {
   "cell_type": "markdown",
   "metadata": {
    "id": "hKal3dusUgDK"
   },
   "source": [
    "## Hyperparameter Tuning\n",
    "\n",
    "While about 97% test and 95% val accuracy is quite good, I have a little extra time and want to cover all my bases. I'll take a look at how some other optimizers perform and see if there's better performance or what the tradeoffs are.\n",
    "\n",
    "#### Available optimizers\n",
    "* SGD\n",
    "* RMSprop\n",
    "* Adam\n",
    "* AdamW - Adam but with a w! Uses adaptive estimations\n",
    "* Adadelta\n",
    "* Adagrad\n",
    "* Adamax\n",
    "* Adafactor - more commonly usd in NLP\n",
    "* Nadam - is RMSprop but with momentum\n",
    "* Ftrl - Better used for shallow modles and sparse feature space\n",
    "\n"
   ]
  },
  {
   "cell_type": "code",
   "execution_count": null,
   "metadata": {
    "colab": {
     "base_uri": "https://localhost:8080/"
    },
    "id": "RVLh00NQRBs5",
    "outputId": "dfe9ef9c-9dd1-43f8-ca20-6466226d9047"
   },
   "outputs": [
    {
     "name": "stdout",
     "output_type": "stream",
     "text": [
      "10/10 [==============================] - 1s 66ms/step - loss: 0.6694 - accuracy: 0.7167\n",
      "10/10 [==============================] - 1s 68ms/step - loss: 0.1238 - accuracy: 0.9600\n",
      "10/10 [==============================] - 1s 67ms/step - loss: 0.6814 - accuracy: 0.6633\n"
     ]
    }
   ],
   "source": [
    "# Optimizing model parameters:\n",
    "\n",
    "# list of optimizers to use from the available list taken from the Keras webiste\n",
    "# Of the ones listed, I feel SGD, RMSprop and Adadelta may lead to similar \n",
    "# or maybe better performance than our defacto Adam.\n",
    "optimizers = ['SGD', 'RMSprop', 'Adadelta']\n",
    "\n",
    "# creating a dict to store the scores\n",
    "# accuracy_dict= {'optimizer': [], 'accuracy': []}\n",
    "\n",
    "# create a for loop to iterate through the list and test each optimizer\n",
    "\n",
    "for optimizer in optimizers:\n",
    "  model = Sequential()\n",
    "  model.add(vgg)\n",
    "  model.add(GlobalAveragePooling2D())\n",
    "  model.add(Dense(1024, activation='relu'))\n",
    "  model.add(Dense(1024, activation='relu'))\n",
    "  model.add(Dense(512, activation='relu'))\n",
    "  model.add(Dropout(0.3))\n",
    "  model.add(Dense(1, activation='sigmoid'))\n",
    "\n",
    "  es = EarlyStopping(monitor = 'val_loss', patience = 5)\n",
    "  # in order to set the learning rate of each optimizer, I'll have to instantiate each one \n",
    "  optimizer_ins = getattr(tf.optimizers, optimizer)(learning_rate=0.0001)\n",
    "\n",
    "  model.compile(optimizer=optimizer_ins, loss='binary_crossentropy', metrics =['accuracy'])\n",
    "  history = model.fit(train_data,\n",
    "                    batch_size = 8,\n",
    "                    validation_data = test_data,\n",
    "                    epochs = 50,\n",
    "                    callbacks = [es],\n",
    "                    verbose = 0)\n",
    "  accuracy_dict['optimizer'].append(optimizer)\n",
    "  accuracy_dict['test_accuracy'].append(history.history['val_accuracy'][-1])\n",
    "  accuracy_dict['val_accuracy'].append(model.evaluate(val_data)[-1])"
   ]
  },
  {
   "cell_type": "code",
   "execution_count": null,
   "metadata": {
    "id": "vbETRkiNZ6al"
   },
   "outputs": [],
   "source": [
    "accuracy_df = pd.DataFrame(accuracy_dict)"
   ]
  },
  {
   "cell_type": "code",
   "execution_count": null,
   "metadata": {
    "colab": {
     "base_uri": "https://localhost:8080/",
     "height": 173
    },
    "id": "tM6F_jOGe_nd",
    "outputId": "5b92f8a8-d6ce-4e2f-fd28-68c4255d989c"
   },
   "outputs": [
    {
     "data": {
      "text/html": [
       "\n",
       "  <div id=\"df-2f963222-e964-4bbc-b593-6bf08f777087\">\n",
       "    <div class=\"colab-df-container\">\n",
       "      <div>\n",
       "<style scoped>\n",
       "    .dataframe tbody tr th:only-of-type {\n",
       "        vertical-align: middle;\n",
       "    }\n",
       "\n",
       "    .dataframe tbody tr th {\n",
       "        vertical-align: top;\n",
       "    }\n",
       "\n",
       "    .dataframe thead th {\n",
       "        text-align: right;\n",
       "    }\n",
       "</style>\n",
       "<table border=\"1\" class=\"dataframe\">\n",
       "  <thead>\n",
       "    <tr style=\"text-align: right;\">\n",
       "      <th></th>\n",
       "      <th>optimizer</th>\n",
       "      <th>test_accuracy</th>\n",
       "      <th>val_accuracy</th>\n",
       "    </tr>\n",
       "  </thead>\n",
       "  <tbody>\n",
       "    <tr>\n",
       "      <th>0</th>\n",
       "      <td>Adam</td>\n",
       "      <td>0.985000</td>\n",
       "      <td>0.973333</td>\n",
       "    </tr>\n",
       "    <tr>\n",
       "      <th>1</th>\n",
       "      <td>SGD</td>\n",
       "      <td>0.691667</td>\n",
       "      <td>0.716667</td>\n",
       "    </tr>\n",
       "    <tr>\n",
       "      <th>2</th>\n",
       "      <td>RMSprop</td>\n",
       "      <td>0.975000</td>\n",
       "      <td>0.960000</td>\n",
       "    </tr>\n",
       "    <tr>\n",
       "      <th>3</th>\n",
       "      <td>Adadelta</td>\n",
       "      <td>0.643333</td>\n",
       "      <td>0.663333</td>\n",
       "    </tr>\n",
       "  </tbody>\n",
       "</table>\n",
       "</div>\n",
       "      <button class=\"colab-df-convert\" onclick=\"convertToInteractive('df-2f963222-e964-4bbc-b593-6bf08f777087')\"\n",
       "              title=\"Convert this dataframe to an interactive table.\"\n",
       "              style=\"display:none;\">\n",
       "        \n",
       "  <svg xmlns=\"http://www.w3.org/2000/svg\" height=\"24px\"viewBox=\"0 0 24 24\"\n",
       "       width=\"24px\">\n",
       "    <path d=\"M0 0h24v24H0V0z\" fill=\"none\"/>\n",
       "    <path d=\"M18.56 5.44l.94 2.06.94-2.06 2.06-.94-2.06-.94-.94-2.06-.94 2.06-2.06.94zm-11 1L8.5 8.5l.94-2.06 2.06-.94-2.06-.94L8.5 2.5l-.94 2.06-2.06.94zm10 10l.94 2.06.94-2.06 2.06-.94-2.06-.94-.94-2.06-.94 2.06-2.06.94z\"/><path d=\"M17.41 7.96l-1.37-1.37c-.4-.4-.92-.59-1.43-.59-.52 0-1.04.2-1.43.59L10.3 9.45l-7.72 7.72c-.78.78-.78 2.05 0 2.83L4 21.41c.39.39.9.59 1.41.59.51 0 1.02-.2 1.41-.59l7.78-7.78 2.81-2.81c.8-.78.8-2.07 0-2.86zM5.41 20L4 18.59l7.72-7.72 1.47 1.35L5.41 20z\"/>\n",
       "  </svg>\n",
       "      </button>\n",
       "      \n",
       "  <style>\n",
       "    .colab-df-container {\n",
       "      display:flex;\n",
       "      flex-wrap:wrap;\n",
       "      gap: 12px;\n",
       "    }\n",
       "\n",
       "    .colab-df-convert {\n",
       "      background-color: #E8F0FE;\n",
       "      border: none;\n",
       "      border-radius: 50%;\n",
       "      cursor: pointer;\n",
       "      display: none;\n",
       "      fill: #1967D2;\n",
       "      height: 32px;\n",
       "      padding: 0 0 0 0;\n",
       "      width: 32px;\n",
       "    }\n",
       "\n",
       "    .colab-df-convert:hover {\n",
       "      background-color: #E2EBFA;\n",
       "      box-shadow: 0px 1px 2px rgba(60, 64, 67, 0.3), 0px 1px 3px 1px rgba(60, 64, 67, 0.15);\n",
       "      fill: #174EA6;\n",
       "    }\n",
       "\n",
       "    [theme=dark] .colab-df-convert {\n",
       "      background-color: #3B4455;\n",
       "      fill: #D2E3FC;\n",
       "    }\n",
       "\n",
       "    [theme=dark] .colab-df-convert:hover {\n",
       "      background-color: #434B5C;\n",
       "      box-shadow: 0px 1px 3px 1px rgba(0, 0, 0, 0.15);\n",
       "      filter: drop-shadow(0px 1px 2px rgba(0, 0, 0, 0.3));\n",
       "      fill: #FFFFFF;\n",
       "    }\n",
       "  </style>\n",
       "\n",
       "      <script>\n",
       "        const buttonEl =\n",
       "          document.querySelector('#df-2f963222-e964-4bbc-b593-6bf08f777087 button.colab-df-convert');\n",
       "        buttonEl.style.display =\n",
       "          google.colab.kernel.accessAllowed ? 'block' : 'none';\n",
       "\n",
       "        async function convertToInteractive(key) {\n",
       "          const element = document.querySelector('#df-2f963222-e964-4bbc-b593-6bf08f777087');\n",
       "          const dataTable =\n",
       "            await google.colab.kernel.invokeFunction('convertToInteractive',\n",
       "                                                     [key], {});\n",
       "          if (!dataTable) return;\n",
       "\n",
       "          const docLinkHtml = 'Like what you see? Visit the ' +\n",
       "            '<a target=\"_blank\" href=https://colab.research.google.com/notebooks/data_table.ipynb>data table notebook</a>'\n",
       "            + ' to learn more about interactive tables.';\n",
       "          element.innerHTML = '';\n",
       "          dataTable['output_type'] = 'display_data';\n",
       "          await google.colab.output.renderOutput(dataTable, element);\n",
       "          const docLink = document.createElement('div');\n",
       "          docLink.innerHTML = docLinkHtml;\n",
       "          element.appendChild(docLink);\n",
       "        }\n",
       "      </script>\n",
       "    </div>\n",
       "  </div>\n",
       "  "
      ],
      "text/plain": [
       "  optimizer  test_accuracy  val_accuracy\n",
       "0      Adam       0.985000      0.973333\n",
       "1       SGD       0.691667      0.716667\n",
       "2   RMSprop       0.975000      0.960000\n",
       "3  Adadelta       0.643333      0.663333"
      ]
     },
     "execution_count": 41,
     "metadata": {},
     "output_type": "execute_result"
    }
   ],
   "source": [
    "accuracy_df"
   ]
  },
  {
   "cell_type": "markdown",
   "metadata": {
    "id": "mVSjs_7TCuys"
   },
   "source": [
    "Adam is performing better, so I'll use that model for binary classification. The last parameter I want to adjust is the dropout layer since I've got a high accuracy and may be able to edge out a little more performance."
   ]
  },
  {
   "cell_type": "code",
   "execution_count": null,
   "metadata": {
    "id": "j7yyZUmKUjX3"
   },
   "outputs": [],
   "source": [
    "adam_drop_dict = {'dropout': [], 'test_accuracy': [], 'val_accuracy': []}"
   ]
  },
  {
   "cell_type": "code",
   "execution_count": null,
   "metadata": {
    "colab": {
     "base_uri": "https://localhost:8080/"
    },
    "id": "DM5SWuDBT-bi",
    "outputId": "0fae4221-cfda-4a79-96e4-38797a948d34"
   },
   "outputs": [
    {
     "name": "stdout",
     "output_type": "stream",
     "text": [
      "10/10 [==============================] - 1s 69ms/step - loss: 0.2469 - accuracy: 0.9300\n",
      "10/10 [==============================] - 1s 69ms/step - loss: 0.0813 - accuracy: 0.9767\n",
      "10/10 [==============================] - 1s 69ms/step - loss: 0.0766 - accuracy: 0.9733\n",
      "10/10 [==============================] - 1s 68ms/step - loss: 0.0925 - accuracy: 0.9633\n"
     ]
    }
   ],
   "source": [
    "dropouts = [0.7, 0.5, 0.3, 0.1]\n",
    "for dropout in dropouts:  \n",
    "  model = Sequential()\n",
    "  model.add(vgg)\n",
    "\n",
    "  model.add(GlobalAveragePooling2D())\n",
    "  model.add(Dense(1024, activation='relu'))\n",
    "  model.add(Dense(1024, activation='relu'))\n",
    "  model.add(Dense(512, activation='relu'))\n",
    "  model.add(Dropout(dropout))\n",
    "  model.add(Dense(1, activation='sigmoid'))\n",
    "\n",
    "  model.compile(optimizer=tf.optimizers.Adam(learning_rate=0.0001), \n",
    "                loss='binary_crossentropy', \n",
    "                metrics =['accuracy'])\n",
    "  es = EarlyStopping(monitor = 'val_loss', patience = 5)\n",
    "  history = model.fit(train_data,\n",
    "                    batch_size = 8,\n",
    "                    validation_data = test_data,\n",
    "                    epochs = 50,\n",
    "                    callbacks = [es],\n",
    "                    verbose = 0)\n",
    "  adam_drop_dict['dropout'].append(dropout)\n",
    "  adam_drop_dict['test_accuracy'].append(history.history['val_accuracy'][-1])\n",
    "  adam_drop_dict['val_accuracy'].append(model.evaluate(val_data)[-1])"
   ]
  },
  {
   "cell_type": "code",
   "execution_count": null,
   "metadata": {
    "colab": {
     "base_uri": "https://localhost:8080/",
     "height": 173
    },
    "id": "qEJ2Ha-WUCnK",
    "outputId": "40eaa0df-df6f-46c9-dc68-2e75afa473af"
   },
   "outputs": [
    {
     "data": {
      "text/html": [
       "\n",
       "  <div id=\"df-b76c650d-58ad-480a-ac75-2c4b8fbb3527\">\n",
       "    <div class=\"colab-df-container\">\n",
       "      <div>\n",
       "<style scoped>\n",
       "    .dataframe tbody tr th:only-of-type {\n",
       "        vertical-align: middle;\n",
       "    }\n",
       "\n",
       "    .dataframe tbody tr th {\n",
       "        vertical-align: top;\n",
       "    }\n",
       "\n",
       "    .dataframe thead th {\n",
       "        text-align: right;\n",
       "    }\n",
       "</style>\n",
       "<table border=\"1\" class=\"dataframe\">\n",
       "  <thead>\n",
       "    <tr style=\"text-align: right;\">\n",
       "      <th></th>\n",
       "      <th>dropout</th>\n",
       "      <th>test_accuracy</th>\n",
       "      <th>val_accuracy</th>\n",
       "    </tr>\n",
       "  </thead>\n",
       "  <tbody>\n",
       "    <tr>\n",
       "      <th>0</th>\n",
       "      <td>0.7</td>\n",
       "      <td>0.935000</td>\n",
       "      <td>0.930000</td>\n",
       "    </tr>\n",
       "    <tr>\n",
       "      <th>1</th>\n",
       "      <td>0.5</td>\n",
       "      <td>0.976667</td>\n",
       "      <td>0.976667</td>\n",
       "    </tr>\n",
       "    <tr>\n",
       "      <th>2</th>\n",
       "      <td>0.3</td>\n",
       "      <td>0.978333</td>\n",
       "      <td>0.973333</td>\n",
       "    </tr>\n",
       "    <tr>\n",
       "      <th>3</th>\n",
       "      <td>0.1</td>\n",
       "      <td>0.985000</td>\n",
       "      <td>0.963333</td>\n",
       "    </tr>\n",
       "  </tbody>\n",
       "</table>\n",
       "</div>\n",
       "      <button class=\"colab-df-convert\" onclick=\"convertToInteractive('df-b76c650d-58ad-480a-ac75-2c4b8fbb3527')\"\n",
       "              title=\"Convert this dataframe to an interactive table.\"\n",
       "              style=\"display:none;\">\n",
       "        \n",
       "  <svg xmlns=\"http://www.w3.org/2000/svg\" height=\"24px\"viewBox=\"0 0 24 24\"\n",
       "       width=\"24px\">\n",
       "    <path d=\"M0 0h24v24H0V0z\" fill=\"none\"/>\n",
       "    <path d=\"M18.56 5.44l.94 2.06.94-2.06 2.06-.94-2.06-.94-.94-2.06-.94 2.06-2.06.94zm-11 1L8.5 8.5l.94-2.06 2.06-.94-2.06-.94L8.5 2.5l-.94 2.06-2.06.94zm10 10l.94 2.06.94-2.06 2.06-.94-2.06-.94-.94-2.06-.94 2.06-2.06.94z\"/><path d=\"M17.41 7.96l-1.37-1.37c-.4-.4-.92-.59-1.43-.59-.52 0-1.04.2-1.43.59L10.3 9.45l-7.72 7.72c-.78.78-.78 2.05 0 2.83L4 21.41c.39.39.9.59 1.41.59.51 0 1.02-.2 1.41-.59l7.78-7.78 2.81-2.81c.8-.78.8-2.07 0-2.86zM5.41 20L4 18.59l7.72-7.72 1.47 1.35L5.41 20z\"/>\n",
       "  </svg>\n",
       "      </button>\n",
       "      \n",
       "  <style>\n",
       "    .colab-df-container {\n",
       "      display:flex;\n",
       "      flex-wrap:wrap;\n",
       "      gap: 12px;\n",
       "    }\n",
       "\n",
       "    .colab-df-convert {\n",
       "      background-color: #E8F0FE;\n",
       "      border: none;\n",
       "      border-radius: 50%;\n",
       "      cursor: pointer;\n",
       "      display: none;\n",
       "      fill: #1967D2;\n",
       "      height: 32px;\n",
       "      padding: 0 0 0 0;\n",
       "      width: 32px;\n",
       "    }\n",
       "\n",
       "    .colab-df-convert:hover {\n",
       "      background-color: #E2EBFA;\n",
       "      box-shadow: 0px 1px 2px rgba(60, 64, 67, 0.3), 0px 1px 3px 1px rgba(60, 64, 67, 0.15);\n",
       "      fill: #174EA6;\n",
       "    }\n",
       "\n",
       "    [theme=dark] .colab-df-convert {\n",
       "      background-color: #3B4455;\n",
       "      fill: #D2E3FC;\n",
       "    }\n",
       "\n",
       "    [theme=dark] .colab-df-convert:hover {\n",
       "      background-color: #434B5C;\n",
       "      box-shadow: 0px 1px 3px 1px rgba(0, 0, 0, 0.15);\n",
       "      filter: drop-shadow(0px 1px 2px rgba(0, 0, 0, 0.3));\n",
       "      fill: #FFFFFF;\n",
       "    }\n",
       "  </style>\n",
       "\n",
       "      <script>\n",
       "        const buttonEl =\n",
       "          document.querySelector('#df-b76c650d-58ad-480a-ac75-2c4b8fbb3527 button.colab-df-convert');\n",
       "        buttonEl.style.display =\n",
       "          google.colab.kernel.accessAllowed ? 'block' : 'none';\n",
       "\n",
       "        async function convertToInteractive(key) {\n",
       "          const element = document.querySelector('#df-b76c650d-58ad-480a-ac75-2c4b8fbb3527');\n",
       "          const dataTable =\n",
       "            await google.colab.kernel.invokeFunction('convertToInteractive',\n",
       "                                                     [key], {});\n",
       "          if (!dataTable) return;\n",
       "\n",
       "          const docLinkHtml = 'Like what you see? Visit the ' +\n",
       "            '<a target=\"_blank\" href=https://colab.research.google.com/notebooks/data_table.ipynb>data table notebook</a>'\n",
       "            + ' to learn more about interactive tables.';\n",
       "          element.innerHTML = '';\n",
       "          dataTable['output_type'] = 'display_data';\n",
       "          await google.colab.output.renderOutput(dataTable, element);\n",
       "          const docLink = document.createElement('div');\n",
       "          docLink.innerHTML = docLinkHtml;\n",
       "          element.appendChild(docLink);\n",
       "        }\n",
       "      </script>\n",
       "    </div>\n",
       "  </div>\n",
       "  "
      ],
      "text/plain": [
       "   dropout  test_accuracy  val_accuracy\n",
       "0      0.7       0.935000      0.930000\n",
       "1      0.5       0.976667      0.976667\n",
       "2      0.3       0.978333      0.973333\n",
       "3      0.1       0.985000      0.963333"
      ]
     },
     "execution_count": 45,
     "metadata": {},
     "output_type": "execute_result"
    }
   ],
   "source": [
    "best_drop = pd.DataFrame(adam_drop_dict)\n",
    "best_drop"
   ]
  },
  {
   "cell_type": "markdown",
   "metadata": {
    "id": "tJ8VPndjZ6MJ"
   },
   "source": [
    "Looksl ike 0.5 dropout is overall the best between test and val accuracy. \n",
    "\n",
    "Recompiling the model for export.\n",
    "\n"
   ]
  },
  {
   "cell_type": "code",
   "execution_count": null,
   "metadata": {
    "id": "BuwU4XfjcwMw"
   },
   "outputs": [],
   "source": [
    "model = Sequential()\n",
    "model.add(vgg)\n",
    "\n",
    "model.add(GlobalAveragePooling2D())\n",
    "model.add(Dense(1024, activation='relu'))\n",
    "model.add(Dense(1024, activation='relu'))\n",
    "model.add(Dense(512, activation='relu'))\n",
    "model.add(Dropout(0.5))\n",
    "model.add(Dense(1, activation='sigmoid'))\n",
    "\n",
    "model.compile(optimizer=tf.optimizers.Adam(learning_rate=0.0001), \n",
    "              loss='binary_crossentropy', \n",
    "              metrics =['accuracy'])\n",
    "es = EarlyStopping(monitor = 'val_loss', patience = 5)\n",
    "history = model.fit(train_data,\n",
    "                  batch_size = 8,\n",
    "                  validation_data = test_data,\n",
    "                  epochs = 50,\n",
    "                  callbacks = [es],\n",
    "                  verbose = 0)"
   ]
  },
  {
   "cell_type": "code",
   "execution_count": null,
   "metadata": {
    "colab": {
     "base_uri": "https://localhost:8080/"
    },
    "id": "HgyjpzkRc59N",
    "outputId": "dfe3f23d-6a7e-44bf-b97d-1d40a831e93e"
   },
   "outputs": [
    {
     "name": "stdout",
     "output_type": "stream",
     "text": [
      "Model: \"sequential_14\"\n",
      "_________________________________________________________________\n",
      " Layer (type)                Output Shape              Param #   \n",
      "=================================================================\n",
      " vgg16 (Functional)          (None, 7, 7, 512)         14714688  \n",
      "                                                                 \n",
      " global_average_pooling2d_14  (None, 512)              0         \n",
      "  (GlobalAveragePooling2D)                                       \n",
      "                                                                 \n",
      " dense_55 (Dense)            (None, 1024)              525312    \n",
      "                                                                 \n",
      " dense_56 (Dense)            (None, 1024)              1049600   \n",
      "                                                                 \n",
      " dense_57 (Dense)            (None, 512)               524800    \n",
      "                                                                 \n",
      " dropout_8 (Dropout)         (None, 512)               0         \n",
      "                                                                 \n",
      " dense_58 (Dense)            (None, 1)                 513       \n",
      "                                                                 \n",
      "=================================================================\n",
      "Total params: 16,814,913\n",
      "Trainable params: 2,100,225\n",
      "Non-trainable params: 14,714,688\n",
      "_________________________________________________________________\n"
     ]
    }
   ],
   "source": [
    "model.summary() # sanity check"
   ]
  },
  {
   "cell_type": "code",
   "execution_count": null,
   "metadata": {
    "id": "0RxmP9RJVuje"
   },
   "outputs": [],
   "source": [
    "model.save('/content/drive/MyDrive/Colab/capstone/models/vgg_binary_h5/binary_model.h5')"
   ]
  },
  {
   "cell_type": "code",
   "execution_count": 4,
   "metadata": {
    "id": "0rXp4jJfHdh_"
   },
   "outputs": [],
   "source": [
    "loaded_model = tf.keras.models.load_model('/content/drive/MyDrive/Colab/capstone/models/vgg_binary_h5/binary_model.h5')"
   ]
  },
  {
   "cell_type": "code",
   "execution_count": 17,
   "metadata": {
    "colab": {
     "base_uri": "https://localhost:8080/"
    },
    "id": "OF1ubCc5H3Xo",
    "outputId": "8371353c-32bc-4a37-b34a-007d9b9e7a0f"
   },
   "outputs": [
    {
     "name": "stdout",
     "output_type": "stream",
     "text": [
      "19/19 [==============================] - 61s 3s/step - loss: 0.0707 - accuracy: 0.9733\n"
     ]
    },
    {
     "data": {
      "text/plain": [
       "[0.0707443431019783, 0.9733333587646484]"
      ]
     },
     "execution_count": 17,
     "metadata": {},
     "output_type": "execute_result"
    }
   ],
   "source": [
    "loaded_model.evaluate(test_data)"
   ]
  },
  {
   "cell_type": "code",
   "execution_count": 18,
   "metadata": {
    "colab": {
     "base_uri": "https://localhost:8080/"
    },
    "id": "Yi1IceJ5H3QH",
    "outputId": "f9ec9f54-6569-4eba-ee23-3a3d7bf2f09a"
   },
   "outputs": [
    {
     "name": "stdout",
     "output_type": "stream",
     "text": [
      "10/10 [==============================] - 57s 6s/step - loss: 0.0757 - accuracy: 0.9733\n"
     ]
    },
    {
     "data": {
      "text/plain": [
       "[0.07568714022636414, 0.9733333587646484]"
      ]
     },
     "execution_count": 18,
     "metadata": {},
     "output_type": "execute_result"
    }
   ],
   "source": [
    "loaded_model.evaluate(val_data)"
   ]
  },
  {
   "cell_type": "markdown",
   "metadata": {
    "id": "_XCDKBPfHMg-"
   },
   "source": [
    "Final binary model has an accuracy of 97%"
   ]
  }
 ],
 "metadata": {
  "accelerator": "GPU",
  "colab": {
   "machine_shape": "hm",
   "provenance": []
  },
  "gpuClass": "premium",
  "kernelspec": {
   "display_name": "Python 3 (ipykernel)",
   "language": "python",
   "name": "python3"
  },
  "language_info": {
   "codemirror_mode": {
    "name": "ipython",
    "version": 3
   },
   "file_extension": ".py",
   "mimetype": "text/x-python",
   "name": "python",
   "nbconvert_exporter": "python",
   "pygments_lexer": "ipython3",
   "version": "3.9.15"
  }
 },
 "nbformat": 4,
 "nbformat_minor": 4
}
