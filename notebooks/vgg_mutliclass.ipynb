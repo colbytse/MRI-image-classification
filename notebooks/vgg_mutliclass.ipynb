{
 "cells": [
  {
   "cell_type": "code",
   "execution_count": 12,
   "metadata": {
    "colab": {
     "base_uri": "https://localhost:8080/"
    },
    "executionInfo": {
     "elapsed": 1388,
     "status": "ok",
     "timestamp": 1674704161273,
     "user": {
      "displayName": "Colby Tse",
      "userId": "15594811916867500508"
     },
     "user_tz": 480
    },
    "id": "yVXhK1LtET__",
    "outputId": "22154e0f-b0ad-427c-e31a-e3ecb568b921"
   },
   "outputs": [
    {
     "name": "stdout",
     "output_type": "stream",
     "text": [
      "Drive already mounted at /content/drive; to attempt to forcibly remount, call drive.mount(\"/content/drive\", force_remount=True).\n"
     ]
    }
   ],
   "source": [
    "from google.colab import drive\n",
    "drive.mount('/content/drive')"
   ]
  },
  {
   "cell_type": "markdown",
   "metadata": {
    "id": "iqQsNnwiMqIy"
   },
   "source": [
    "## Imports"
   ]
  },
  {
   "cell_type": "code",
   "execution_count": 13,
   "metadata": {
    "executionInfo": {
     "elapsed": 191,
     "status": "ok",
     "timestamp": 1674704162388,
     "user": {
      "displayName": "Colby Tse",
      "userId": "15594811916867500508"
     },
     "user_tz": 480
    },
    "id": "1LPOmn0hEKUY"
   },
   "outputs": [],
   "source": [
    "import numpy as np\n",
    "import matplotlib.pyplot as plt\n",
    "import seaborn as sns\n",
    "import pandas as pd\n",
    "\n",
    "import os\n",
    "import random\n",
    "import shutil\n",
    "\n",
    "import imutils\n",
    "import cv2\n",
    "\n",
    "from sklearn.model_selection import GridSearchCV\n",
    "\n",
    "import tensorflow as tf\n",
    "from tensorflow.keras.models import Sequential\n",
    "from tensorflow.keras.layers import Dense, Dropout, Flatten,\\\n",
    " Conv2D, MaxPooling2D, GlobalAveragePooling2D\n",
    "from tensorflow.keras import utils\n",
    "from tensorflow.keras.preprocessing.image import ImageDataGenerator\n",
    "from tensorflow.keras.callbacks import EarlyStopping\n",
    "from tensorflow.keras.applications import VGG16"
   ]
  },
  {
   "cell_type": "markdown",
   "metadata": {
    "id": "Zb7ofpA4MsK9"
   },
   "source": [
    "## Functions used in this notebook"
   ]
  },
  {
   "cell_type": "code",
   "execution_count": 14,
   "metadata": {
    "executionInfo": {
     "elapsed": 176,
     "status": "ok",
     "timestamp": 1674704164977,
     "user": {
      "displayName": "Colby Tse",
      "userId": "15594811916867500508"
     },
     "user_tz": 480
    },
    "id": "4ST-cNLcGxN8"
   },
   "outputs": [],
   "source": [
    "def crop_images(images, add_pixels_value=0):\n",
    "  '''fn identifies all \"extreme\" points of an image and crops a \n",
    "  rectangular cut based on the extreme points. Code adapted from pyimagesearch'''\n",
    "  cropped = []\n",
    "  # load the images, convert to greyscale and blur slightly\n",
    "  for image in images:\n",
    "    gray = cv2.cvtColor(image, cv2.COLOR_RGB2GRAY)\n",
    "    gray = cv2.GaussianBlur(gray, (5,5), 0)\n",
    "\n",
    "    # thresholds image then perform a series of erosions and \n",
    "    # dilations to remove small regions of noise\n",
    "    \n",
    "    thresh = cv2.threshold(gray, 45, 255, cv2.THRESH_BINARY)[1]\n",
    "    thresh = cv2.erode(thresh, None, iterations=2)\n",
    "    thresh = cv2.dilate(thresh, None, iterations=2)\n",
    "\n",
    "    # find contours in thresholded image, then grab the largest one\n",
    "\n",
    "    cnts = cv2.findContours(thresh.copy(), cv2.RETR_EXTERNAL,\n",
    "      cv2.CHAIN_APPROX_SIMPLE)\n",
    "    cnts = imutils.grab_contours(cnts)\n",
    "    c = max(cnts, key=cv2.contourArea)\n",
    "\n",
    "    # extract extreme points\n",
    "    # extLeft (West) is the X-axis min\n",
    "    extLeft = tuple(c[c[:, :, 0].argmin()][0])\n",
    "    # extRight (East) X-axis max\n",
    "    extRight = tuple(c[c[:, :, 0].argmax()][0])\n",
    "    # extTop Y-axis max (North)\n",
    "    extTop = tuple(c[c[:, :, 1].argmin()][0])\n",
    "    # extBot Y-axis min (South)\n",
    "    extBot = tuple(c[c[:, :, 1].argmax()][0])\n",
    "\n",
    "    # cropping step\n",
    "    ADD_PIXELS = add_pixels_value\n",
    "    new_img = image[extTop[1]-ADD_PIXELS:extBot[1]+ADD_PIXELS,\\\n",
    "                  extLeft[0]-ADD_PIXELS:extRight[0]+ADD_PIXELS].copy()\n",
    "    cropped.append(new_img)\n",
    "\n",
    "  return np.array(cropped)\n",
    "\n",
    "def model_stats():\n",
    "  '''fn will return accuracy metrics of current instantiated \"history\" model'''\n",
    "  accuracy = np.array(history.history['accuracy']).mean()\n",
    "  loss = np.array(history.history['loss']).mean()\n",
    "  val_acc = np.array(history.history['val_accuracy']).mean()\n",
    "  val_loss = np.array(history.history['val_loss']).mean()\n",
    "  return (f\"Loss: {loss:.2f}, Accuracy: {accuracy:.2f}, Val Loss: {val_loss:.2f}, Val Accuracy: {val_acc:.2f})\")"
   ]
  },
  {
   "cell_type": "markdown",
   "metadata": {
    "id": "2lCe58W-GP8F"
   },
   "source": [
    "## Preprocessing\n",
    "\n",
    "Create directories I will need to place the cropped images into to call upon later."
   ]
  },
  {
   "cell_type": "code",
   "execution_count": 15,
   "metadata": {
    "executionInfo": {
     "elapsed": 164,
     "status": "ok",
     "timestamp": 1674704166679,
     "user": {
      "displayName": "Colby Tse",
      "userId": "15594811916867500508"
     },
     "user_tz": 480
    },
    "id": "W2yqU2_5EtWq"
   },
   "outputs": [],
   "source": [
    "path = '/content/drive/MyDrive/Colab/capstone/data/archive-2'\n",
    "os.chdir(path)"
   ]
  },
  {
   "cell_type": "code",
   "execution_count": null,
   "metadata": {
    "id": "XdGH7YF5EwiC"
   },
   "outputs": [],
   "source": [
    "# code commented out after execution to prevent remaking directories\n",
    "# test_folder = '/content/drive/MyDrive/Colab/capstone/data/archive-2/cropped_test'\n",
    "\n",
    "# os.makedirs(os.path.join(test_folder, 'glioma'))\n",
    "# os.makedirs(os.path.join(test_folder, 'meningioma'))\n",
    "# os.makedirs(os.path.join(test_folder, 'notumor'))\n",
    "# os.makedirs(os.path.join(test_folder, 'pituitary'))"
   ]
  },
  {
   "cell_type": "code",
   "execution_count": null,
   "metadata": {
    "id": "CqQj5UcVEwbO"
   },
   "outputs": [],
   "source": [
    "# train_folder = '/content/drive/MyDrive/Colab/capstone/data/archive-2/cropped_train'\n",
    "\n",
    "# os.makedirs(os.path.join(train_folder, 'glioma'))\n",
    "# os.makedirs(os.path.join(train_folder, 'meningioma'))\n",
    "# os.makedirs(os.path.join(train_folder, 'notumor'))\n",
    "# os.makedirs(os.path.join(train_folder, 'pituitary'))"
   ]
  },
  {
   "cell_type": "code",
   "execution_count": null,
   "metadata": {
    "id": "SJmCWBK4EwSt"
   },
   "outputs": [],
   "source": [
    "image = cv2.imread('/content/drive/MyDrive/Colab/capstone/data/archive-2/Testing/glioma/Te-glTr_0000.jpg')\n",
    "image = cv2.resize(image, dsize = (224, 224), interpolation=cv2.INTER_CUBIC)\n",
    "# INTER_CUBIC: This uses bicubic interpolation for resizing the image. \n",
    "# While resizing and interpolating new pixels, this method acts on the 4×4 \n",
    "# neighboring pixels of the image. It then takes the weights average of the \n",
    "# 16 pixels to create the new interpolated pixel.\n",
    "gray = cv2.cvtColor(image, cv2.COLOR_RGB2GRAY)\n",
    "gray = cv2.GaussianBlur(gray, (5,5), 0)\n",
    "\n",
    "\n",
    "thresh = cv2.threshold(gray, 45, 255, cv2.THRESH_BINARY)[1]\n",
    "thresh = cv2.erode(thresh, None, iterations=2)\n",
    "thresh = cv2.dilate(thresh, None, iterations=2)\n",
    "\n",
    "# find contours in thresholded image, then grab the largest one\n",
    "\n",
    "cnts = cv2.findContours(thresh.copy(), cv2.RETR_EXTERNAL,\n",
    "  cv2.CHAIN_APPROX_SIMPLE)\n",
    "cnts = imutils.grab_contours(cnts)\n",
    "c = max(cnts, key=cv2.contourArea)\n",
    "\n",
    "# extract extreme points\n",
    "# extLeft (West) is the X-axis min\n",
    "extLeft = tuple(c[c[:, :, 0].argmin()][0])\n",
    "# extRight (East) X-axis max\n",
    "extRight = tuple(c[c[:, :, 0].argmax()][0])\n",
    "# extTop Y-axis max (North)\n",
    "extTop = tuple(c[c[:, :, 1].argmin()][0])\n",
    "# extBot Y-axis min (South)\n",
    "extBot = tuple(c[c[:, :, 1].argmax()][0])\n",
    "\n",
    "# cropping step\n",
    "ADD_PIXELS = 0\n",
    "new_img = image[extTop[1]-ADD_PIXELS:extBot[1]+ADD_PIXELS,\\\n",
    "              extLeft[0]-ADD_PIXELS:extRight[0]+ADD_PIXELS].copy()"
   ]
  },
  {
   "cell_type": "code",
   "execution_count": null,
   "metadata": {
    "colab": {
     "base_uri": "https://localhost:8080/",
     "height": 322
    },
    "executionInfo": {
     "elapsed": 709,
     "status": "ok",
     "timestamp": 1674619693241,
     "user": {
      "displayName": "Colby Tse",
      "userId": "15594811916867500508"
     },
     "user_tz": 480
    },
    "id": "Z0Yh9gWQHI76",
    "outputId": "18df115c-dc10-4aaf-fbad-ab433002ef12"
   },
   "outputs": [
    {
     "data": {
      "image/png": "[encoded data removed]",
      "text/plain": [
       "<Figure size 720x360 with 2 Axes>"
      ]
     },
     "metadata": {},
     "output_type": "display_data"
    }
   ],
   "source": [
    "fig, ax = plt.subplots(1, 2, figsize= (10,5))\n",
    "\n",
    "ax[0].imshow(image)\n",
    "ax[0].set_xticks([])\n",
    "ax[0].set_yticks([])\n",
    "ax[0].set_title('Original Image')\n",
    "\n",
    "ax[1].imshow(new_img)\n",
    "ax[1].set_xticks([])\n",
    "ax[1].set_yticks([])\n",
    "ax[1].set_title('Cropped Image')\n",
    "\n",
    "plt.show()"
   ]
  },
  {
   "cell_type": "code",
   "execution_count": null,
   "metadata": {
    "id": "pP-gSCL1HKPN"
   },
   "outputs": [],
   "source": [
    "# # changing my code from the binary classification model to be more efficient:\n",
    "\n",
    "# subfolders = ['glioma', 'meningioma', 'notumor', 'pituitary']\n",
    "# folderPath = '/content/drive/MyDrive/Colab/capstone/data/archive-2/'\n",
    "# image_size = 224\n",
    "\n",
    "# # iterate through each folder:\n",
    "# for directory in ['Testing', 'Training']:\n",
    "#   # set current directory, this should set the directory to Testing or Training\n",
    "#   current_path = os.path.join(folderPath, directory)\n",
    "#   # iterate through the list of subfolders:\n",
    "#   for subfolder in subfolders:\n",
    "#     # set current path to the subfolder (ie Testing/glioma)\n",
    "#     subfolder_path = os.path.join(current_path, subfolder)\n",
    "#     # for all image files in the subfolder:\n",
    "#     for image_file in os.listdir(subfolder_path):\n",
    "#       # targets each image file specifically\n",
    "#       image_path = os.path.join(subfolder_path, image_file)\n",
    "#       # declare the image file as an object/load it in\n",
    "#       image = cv2.imread(image_path)\n",
    "#       # crop the image with my custom function\n",
    "#       cropped_image = crop_images([image])[0]\n",
    "#       # set destination file to export the cropped image\n",
    "#       # the destination is \"cropped_testing\" or \"cropped_training so I need to set directory.lower()\n",
    "#       destination = os.path.join(folderPath, 'cropped_' + directory.lower() ,subfolder)\n",
    "#       # set the save path for the actual file\n",
    "#       save_path = os.path.join(destination, image_file)\n",
    "#       cv2.imwrite(save_path, cropped_image)\n",
    "      "
   ]
  },
  {
   "cell_type": "code",
   "execution_count": 16,
   "metadata": {
    "executionInfo": {
     "elapsed": 164,
     "status": "ok",
     "timestamp": 1674704170542,
     "user": {
      "displayName": "Colby Tse",
      "userId": "15594811916867500508"
     },
     "user_tz": 480
    },
    "id": "30cczW31N4mc"
   },
   "outputs": [],
   "source": [
    "datagen = ImageDataGenerator(rescale=1/255)"
   ]
  },
  {
   "cell_type": "code",
   "execution_count": 17,
   "metadata": {
    "colab": {
     "base_uri": "https://localhost:8080/"
    },
    "executionInfo": {
     "elapsed": 238,
     "status": "ok",
     "timestamp": 1674704171491,
     "user": {
      "displayName": "Colby Tse",
      "userId": "15594811916867500508"
     },
     "user_tz": 480
    },
    "id": "FL83qbMON4kJ",
    "outputId": "4b862a34-1316-4979-f147-29d808c219bf"
   },
   "outputs": [
    {
     "name": "stdout",
     "output_type": "stream",
     "text": [
      "Found 5712 images belonging to 4 classes.\n"
     ]
    }
   ],
   "source": [
    "train_data = datagen.flow_from_directory(\n",
    "    directory = '/content/drive/MyDrive/Colab/capstone/data/archive-2/cropped_training/',\n",
    "    target_size = (224, 224),\n",
    "    color_mode='rgb',\n",
    "    classes=['glioma', 'meningioma', 'notumor', 'pituitary'],\n",
    "    class_mode='categorical',\n",
    "    batch_size= 32,\n",
    "    shuffle=True,\n",
    "    seed=33\n",
    ")"
   ]
  },
  {
   "cell_type": "code",
   "execution_count": 18,
   "metadata": {
    "colab": {
     "base_uri": "https://localhost:8080/"
    },
    "executionInfo": {
     "elapsed": 4,
     "status": "ok",
     "timestamp": 1674704172374,
     "user": {
      "displayName": "Colby Tse",
      "userId": "15594811916867500508"
     },
     "user_tz": 480
    },
    "id": "bg2hwl9ZN4h0",
    "outputId": "c3f784b1-7e22-4e5d-881d-17d27121852a"
   },
   "outputs": [
    {
     "name": "stdout",
     "output_type": "stream",
     "text": [
      "Found 1311 images belonging to 4 classes.\n"
     ]
    }
   ],
   "source": [
    "test_data = datagen.flow_from_directory(\n",
    "    directory = '/content/drive/MyDrive/Colab/capstone/data/archive-2/cropped_testing/',\n",
    "    target_size = (224, 224),\n",
    "    color_mode='rgb',\n",
    "    classes=['glioma', 'meningioma', 'notumor', 'pituitary'],\n",
    "    class_mode='categorical',\n",
    "    batch_size= 32,\n",
    "    shuffle=True,\n",
    "    seed=33\n",
    ")"
   ]
  },
  {
   "cell_type": "markdown",
   "metadata": {
    "id": "klt6IV4dPZ6t"
   },
   "source": [
    "## Basemodel"
   ]
  },
  {
   "cell_type": "code",
   "execution_count": null,
   "metadata": {
    "id": "DvCBH0TlN7bQ"
   },
   "outputs": [],
   "source": [
    "model = Sequential()\n",
    "\n",
    "model.add(Conv2D(input_shape=(224,224,3), filters=64, kernel_size=(3,3), padding='same', activation='relu'))\n",
    "model.add(Conv2D(filters=64, kernel_size=(3,3), padding='same', activation='relu'))\n",
    "\n",
    "model.add(MaxPooling2D(pool_size=(2,2), strides=(2,2)))\n",
    "\n",
    "model.add(Conv2D(filters=128, kernel_size=(3,3), padding='same', activation='relu'))\n",
    "model.add(Conv2D(filters=128, kernel_size=(3,3), padding='same', activation='relu'))\n",
    "\n",
    "model.add(MaxPooling2D(pool_size=(2,2), strides=(2,2)))\n",
    "\n",
    "model.add(Conv2D(filters=256, kernel_size=(3,3), padding='same', activation='relu'))\n",
    "model.add(Conv2D(filters=256, kernel_size=(3,3), padding='same', activation='relu'))\n",
    "model.add(Conv2D(filters=256, kernel_size=(3,3), padding='same', activation='relu'))\n",
    "\n",
    "model.add(MaxPooling2D(pool_size=(2,2), strides=(2,2)))\n",
    "\n",
    "model.add(Conv2D(filters=512, kernel_size=(3,3), padding='same', activation='relu'))\n",
    "model.add(Conv2D(filters=512, kernel_size=(3,3), padding='same', activation='relu'))\n",
    "model.add(Conv2D(filters=512, kernel_size=(3,3), padding='same', activation='relu'))\n",
    "\n",
    "model.add(MaxPooling2D(pool_size=(2,2), strides=(2,2)))\n",
    "\n",
    "model.add(Conv2D(filters=512, kernel_size=(3,3), padding='same', activation='relu'))\n",
    "model.add(Conv2D(filters=512, kernel_size=(3,3), padding='same', activation='relu'))\n",
    "model.add(Conv2D(filters=512, kernel_size=(3,3), padding='same', activation='relu'))\n",
    "\n",
    "model.add(MaxPooling2D(pool_size=(2,2), strides=(2,2)))\n",
    "\n",
    "model.add(Flatten(name='flatten'))\n",
    "\n",
    "model.add(Dense(256, activation='relu'))\n",
    "model.add(Dense(128, activation='relu'))\n",
    "model.add(Dense(4, activation='softmax'))\n",
    "\n",
    "model.compile(optimizer='adam', \n",
    "              loss='categorical_crossentropy', \n",
    "              metrics =['accuracy'])"
   ]
  },
  {
   "cell_type": "code",
   "execution_count": null,
   "metadata": {
    "id": "mhwJYMNTN7ZJ"
   },
   "outputs": [],
   "source": [
    "es = EarlyStopping(monitor = 'val_loss', patience = 5)\n",
    "\n",
    "history = model.fit(train_data,\n",
    "                    batch_size = 16,\n",
    "                    validation_data = test_data,\n",
    "                    epochs=1000,\n",
    "                    callbacks=[es],\n",
    "                    verbose=0)"
   ]
  },
  {
   "cell_type": "code",
   "execution_count": null,
   "metadata": {
    "colab": {
     "base_uri": "https://localhost:8080/",
     "height": 35
    },
    "executionInfo": {
     "elapsed": 352,
     "status": "ok",
     "timestamp": 1674631026438,
     "user": {
      "displayName": "Colby Tse",
      "userId": "15594811916867500508"
     },
     "user_tz": 480
    },
    "id": "2eb89pMAyHQX",
    "outputId": "3e14604f-a087-43ab-eabf-68552b7e8e93"
   },
   "outputs": [
    {
     "data": {
      "application/vnd.google.colaboratory.intrinsic+json": {
       "type": "string"
      },
      "text/plain": [
       "'Loss: 1.39, Accuracy: 0.28, Val Loss: 1.38, Val Accuracy: 0.30)'"
      ]
     },
     "execution_count": 20,
     "metadata": {},
     "output_type": "execute_result"
    }
   ],
   "source": [
    "model_stats()"
   ]
  },
  {
   "cell_type": "markdown",
   "metadata": {
    "id": "sUqOQQDUyfGN"
   },
   "source": [
    "## VGG transfer learning model\n",
    "\n",
    "Settings are taken from binary classification model and tweaked for multiclassification."
   ]
  },
  {
   "cell_type": "code",
   "execution_count": 19,
   "metadata": {
    "executionInfo": {
     "elapsed": 530,
     "status": "ok",
     "timestamp": 1674704176890,
     "user": {
      "displayName": "Colby Tse",
      "userId": "15594811916867500508"
     },
     "user_tz": 480
    },
    "id": "QrkgOHP4wi3t"
   },
   "outputs": [],
   "source": [
    "# Import VGG16\n",
    "vgg = VGG16(input_shape=(224, 224, 3), weights='imagenet', include_top=False)\n",
    "\n",
    "# freezing the base layers as to not overwrite\n",
    "for layer in vgg.layers:\n",
    "    layer.trainable = False"
   ]
  },
  {
   "cell_type": "code",
   "execution_count": 25,
   "metadata": {
    "executionInfo": {
     "elapsed": 175,
     "status": "ok",
     "timestamp": 1674704404678,
     "user": {
      "displayName": "Colby Tse",
      "userId": "15594811916867500508"
     },
     "user_tz": 480
    },
    "id": "FGyHtaSHxPSd"
   },
   "outputs": [],
   "source": [
    "model = Sequential()\n",
    "model.add(vgg)\n",
    "# Adding a final layer like one we'd find in the model.\n",
    "# The original model uses maxpooling 2D, trying average instead.\n",
    "model.add(GlobalAveragePooling2D())\n",
    "model.add(Dense(1024, activation='relu'))\n",
    "model.add(Dense(1024, activation='relu'))\n",
    "model.add(Dense(512, activation='relu'))\n",
    "model.add(Dense(4, activation='softmax'))\n",
    "\n",
    "model.compile(optimizer=tf.optimizers.Adam(learning_rate=0.0001), \n",
    "              loss='categorical_crossentropy', \n",
    "              metrics =['accuracy'])\n",
    "es = EarlyStopping(monitor = 'val_loss', patience = 5)"
   ]
  },
  {
   "cell_type": "code",
   "execution_count": 26,
   "metadata": {
    "executionInfo": {
     "elapsed": 1538038,
     "status": "ok",
     "timestamp": 1674705944795,
     "user": {
      "displayName": "Colby Tse",
      "userId": "15594811916867500508"
     },
     "user_tz": 480
    },
    "id": "eF9UnFx4xP7i"
   },
   "outputs": [],
   "source": [
    "history = model.fit(train_data,\n",
    "                    batch_size = 16,\n",
    "                    validation_data = test_data,\n",
    "                    epochs = 50,\n",
    "                    callbacks = [es],\n",
    "                    verbose = 0)"
   ]
  },
  {
   "cell_type": "code",
   "execution_count": 27,
   "metadata": {
    "colab": {
     "base_uri": "https://localhost:8080/",
     "height": 35
    },
    "executionInfo": {
     "elapsed": 181,
     "status": "ok",
     "timestamp": 1674705975604,
     "user": {
      "displayName": "Colby Tse",
      "userId": "15594811916867500508"
     },
     "user_tz": 480
    },
    "id": "JUCHudnsxT9j",
    "outputId": "2eb2743b-9e95-4c04-e7a9-5cdb3bb3d625"
   },
   "outputs": [
    {
     "data": {
      "application/vnd.google.colaboratory.intrinsic+json": {
       "type": "string"
      },
      "text/plain": [
       "'Loss: 0.18, Accuracy: 0.93, Val Loss: 0.29, Val Accuracy: 0.89)'"
      ]
     },
     "execution_count": 27,
     "metadata": {},
     "output_type": "execute_result"
    }
   ],
   "source": [
    "model_stats()"
   ]
  },
  {
   "cell_type": "code",
   "execution_count": 29,
   "metadata": {
    "executionInfo": {
     "elapsed": 179,
     "status": "ok",
     "timestamp": 1674707813713,
     "user": {
      "displayName": "Colby Tse",
      "userId": "15594811916867500508"
     },
     "user_tz": 480
    },
    "id": "yrhIyOshgOGE"
   },
   "outputs": [],
   "source": [
    "accuracy_dict= {'dropout_prob': [], 'test_accuracy': []}"
   ]
  },
  {
   "cell_type": "code",
   "execution_count": 21,
   "metadata": {
    "executionInfo": {
     "elapsed": 167,
     "status": "ok",
     "timestamp": 1674704182928,
     "user": {
      "displayName": "Colby Tse",
      "userId": "15594811916867500508"
     },
     "user_tz": 480
    },
    "id": "Ae7E4bAyhDkU"
   },
   "outputs": [],
   "source": [
    "model = Sequential()\n",
    "model.add(vgg)\n",
    "# Adding a final layer like one we'd find in the model.\n",
    "# The original model uses maxpooling 2D, trying average instead.\n",
    "model.add(GlobalAveragePooling2D())\n",
    "model.add(Dense(1024, activation='relu'))\n",
    "model.add(Dense(1024, activation='relu'))\n",
    "model.add(Dense(512, activation='relu'))\n",
    "model.add(Dense(4, activation='softmax'))\n",
    "\n",
    "model.compile(optimizer=tf.optimizers.Adam(learning_rate=0.0001), \n",
    "              loss='categorical_crossentropy', \n",
    "              metrics =['accuracy'])\n",
    "es = EarlyStopping(monitor = 'val_loss', patience = 5)"
   ]
  },
  {
   "cell_type": "code",
   "execution_count": null,
   "metadata": {
    "id": "tmBnPH7OTKLJ"
   },
   "outputs": [],
   "source": [
    "history = model.fit(train_data,\n",
    "                    batch_size = 16,\n",
    "                    validation_data = test_data,\n",
    "                    epochs = 50,\n",
    "                    callbacks = [es],\n",
    "                    verbose = 0)"
   ]
  },
  {
   "cell_type": "code",
   "execution_count": null,
   "metadata": {
    "id": "dee9YgTDgODK"
   },
   "outputs": [],
   "source": [
    "# Optimizing model parameters:\n",
    "\n",
    "# list of optimizers to use from the available list taken from the Keras webiste\n",
    "# optimizers = ['Adam', 'Adadelta', 'Adagrad', 'Adamax']\n",
    "# optimizers took over 8 hours and Colab terminated the session.\n",
    "\n",
    "# create a for loop to iterate through the list and test each param\n",
    "\n",
    "# for optimizer in optimizers:\n",
    "#   model = Sequential()\n",
    "#   model.add(vgg)\n",
    "#   # Adding a final layer like one we'd find in the model.\n",
    "#   # The original model uses maxpooling 2D, trying average instead.\n",
    "#   model.add(GlobalAveragePooling2D())\n",
    "#   model.add(Dense(1024, activation='relu'))\n",
    "#   model.add(Dense(1024, activation='relu'))\n",
    "#   model.add(Dense(512, activation='relu'))\n",
    "#   model.add(Dense(4, activation='softmax'))\n",
    "\n",
    "#   model.compile(optimizer=tf.optimizers.Adam(learning_rate=0.0001), \n",
    "#                 loss='categorical_crossentropy', \n",
    "#                 metrics =['accuracy'])\n",
    "#   es = EarlyStopping(monitor = 'val_loss', patience = 5)\n",
    "#   # in order to set the learning rate of each optimizer, I'll have to instantiate each one \n",
    "#   optimizer_ins = getattr(tf.optimizers, optimizer)(learning_rate=0.0001)\n",
    "#   # \n",
    "#                     batch_size = 16,\n",
    "#                     validation_data = test_data,\n",
    "#                     epochs = 1000,\n",
    "#                     callbacks = [es],\n",
    "#                     verbose = 0)\n",
    "#   accuracy_dict['optimizer'].append(optimizer)\n",
    "#   accuracy_dict['test_accuracy'].append(history.history['val_accuracy'][-1])"
   ]
  },
  {
   "cell_type": "code",
   "execution_count": 32,
   "metadata": {
    "executionInfo": {
     "elapsed": 2265485,
     "status": "ok",
     "timestamp": 1674710357417,
     "user": {
      "displayName": "Colby Tse",
      "userId": "15594811916867500508"
     },
     "user_tz": 480
    },
    "id": "gwjCI2QdVNlK"
   },
   "outputs": [],
   "source": [
    "dropouts = [0.7, 0.5, 0.3]\n",
    "\n",
    "for drop in dropouts:\n",
    "  model = Sequential()\n",
    "  model.add(vgg)\n",
    "\n",
    "  model.add(GlobalAveragePooling2D())\n",
    "  model.add(Dense(1024, activation='relu'))\n",
    "  model.add(Dense(1024, activation='relu'))\n",
    "  model.add(Dense(512, activation='relu'))\n",
    "  model.add(Dropout(drop)) # dropout parameter here\n",
    "  model.add(Dense(4, activation='softmax'))\n",
    "\n",
    "  model.compile(optimizer=tf.optimizers.Adam(learning_rate=0.0001), \n",
    "                loss='categorical_crossentropy', \n",
    "                metrics =['accuracy'])\n",
    "  es = EarlyStopping(monitor = 'val_loss', patience = 5)\n",
    "\n",
    "  history = model.fit(train_data,\n",
    "                    batch_size = 8,\n",
    "                    validation_data = test_data,\n",
    "                    epochs = 30,\n",
    "                    callbacks = [es],\n",
    "                    verbose = 0)\n",
    "  accuracy_dict['dropout_prob'].append(drop)\n",
    "  accuracy_dict['test_accuracy'].append(history.history['val_accuracy'][-1])"
   ]
  },
  {
   "cell_type": "code",
   "execution_count": 34,
   "metadata": {
    "executionInfo": {
     "elapsed": 191,
     "status": "ok",
     "timestamp": 1674710829327,
     "user": {
      "displayName": "Colby Tse",
      "userId": "15594811916867500508"
     },
     "user_tz": 480
    },
    "id": "xAZN_w8IgN8Y"
   },
   "outputs": [],
   "source": [
    "dropout_df = pd.DataFrame(accuracy_dict)"
   ]
  },
  {
   "cell_type": "code",
   "execution_count": 35,
   "metadata": {
    "colab": {
     "base_uri": "https://localhost:8080/",
     "height": 142
    },
    "executionInfo": {
     "elapsed": 161,
     "status": "ok",
     "timestamp": 1674710835881,
     "user": {
      "displayName": "Colby Tse",
      "userId": "15594811916867500508"
     },
     "user_tz": 480
    },
    "id": "m0hlukBLi1Mz",
    "outputId": "99cce004-727d-4480-8b95-8aa9341a5d59"
   },
   "outputs": [
    {
     "data": {
      "text/html": [
       "\n",
       "  <div id=\"df-68679447-f669-482d-be75-9a13a3281883\">\n",
       "    <div class=\"colab-df-container\">\n",
       "      <div>\n",
       "<style scoped>\n",
       "    .dataframe tbody tr th:only-of-type {\n",
       "        vertical-align: middle;\n",
       "    }\n",
       "\n",
       "    .dataframe tbody tr th {\n",
       "        vertical-align: top;\n",
       "    }\n",
       "\n",
       "    .dataframe thead th {\n",
       "        text-align: right;\n",
       "    }\n",
       "</style>\n",
       "<table border=\"1\" class=\"dataframe\">\n",
       "  <thead>\n",
       "    <tr style=\"text-align: right;\">\n",
       "      <th></th>\n",
       "      <th>dropout_prob</th>\n",
       "      <th>test_accuracy</th>\n",
       "    </tr>\n",
       "  </thead>\n",
       "  <tbody>\n",
       "    <tr>\n",
       "      <th>0</th>\n",
       "      <td>0.7</td>\n",
       "      <td>0.905416</td>\n",
       "    </tr>\n",
       "    <tr>\n",
       "      <th>1</th>\n",
       "      <td>0.5</td>\n",
       "      <td>0.922960</td>\n",
       "    </tr>\n",
       "    <tr>\n",
       "      <th>2</th>\n",
       "      <td>0.3</td>\n",
       "      <td>0.932876</td>\n",
       "    </tr>\n",
       "  </tbody>\n",
       "</table>\n",
       "</div>\n",
       "      <button class=\"colab-df-convert\" onclick=\"convertToInteractive('df-68679447-f669-482d-be75-9a13a3281883')\"\n",
       "              title=\"Convert this dataframe to an interactive table.\"\n",
       "              style=\"display:none;\">\n",
       "        \n",
       "  <svg xmlns=\"http://www.w3.org/2000/svg\" height=\"24px\"viewBox=\"0 0 24 24\"\n",
       "       width=\"24px\">\n",
       "    <path d=\"M0 0h24v24H0V0z\" fill=\"none\"/>\n",
       "    <path d=\"M18.56 5.44l.94 2.06.94-2.06 2.06-.94-2.06-.94-.94-2.06-.94 2.06-2.06.94zm-11 1L8.5 8.5l.94-2.06 2.06-.94-2.06-.94L8.5 2.5l-.94 2.06-2.06.94zm10 10l.94 2.06.94-2.06 2.06-.94-2.06-.94-.94-2.06-.94 2.06-2.06.94z\"/><path d=\"M17.41 7.96l-1.37-1.37c-.4-.4-.92-.59-1.43-.59-.52 0-1.04.2-1.43.59L10.3 9.45l-7.72 7.72c-.78.78-.78 2.05 0 2.83L4 21.41c.39.39.9.59 1.41.59.51 0 1.02-.2 1.41-.59l7.78-7.78 2.81-2.81c.8-.78.8-2.07 0-2.86zM5.41 20L4 18.59l7.72-7.72 1.47 1.35L5.41 20z\"/>\n",
       "  </svg>\n",
       "      </button>\n",
       "      \n",
       "  <style>\n",
       "    .colab-df-container {\n",
       "      display:flex;\n",
       "      flex-wrap:wrap;\n",
       "      gap: 12px;\n",
       "    }\n",
       "\n",
       "    .colab-df-convert {\n",
       "      background-color: #E8F0FE;\n",
       "      border: none;\n",
       "      border-radius: 50%;\n",
       "      cursor: pointer;\n",
       "      display: none;\n",
       "      fill: #1967D2;\n",
       "      height: 32px;\n",
       "      padding: 0 0 0 0;\n",
       "      width: 32px;\n",
       "    }\n",
       "\n",
       "    .colab-df-convert:hover {\n",
       "      background-color: #E2EBFA;\n",
       "      box-shadow: 0px 1px 2px rgba(60, 64, 67, 0.3), 0px 1px 3px 1px rgba(60, 64, 67, 0.15);\n",
       "      fill: #174EA6;\n",
       "    }\n",
       "\n",
       "    [theme=dark] .colab-df-convert {\n",
       "      background-color: #3B4455;\n",
       "      fill: #D2E3FC;\n",
       "    }\n",
       "\n",
       "    [theme=dark] .colab-df-convert:hover {\n",
       "      background-color: #434B5C;\n",
       "      box-shadow: 0px 1px 3px 1px rgba(0, 0, 0, 0.15);\n",
       "      filter: drop-shadow(0px 1px 2px rgba(0, 0, 0, 0.3));\n",
       "      fill: #FFFFFF;\n",
       "    }\n",
       "  </style>\n",
       "\n",
       "      <script>\n",
       "        const buttonEl =\n",
       "          document.querySelector('#df-68679447-f669-482d-be75-9a13a3281883 button.colab-df-convert');\n",
       "        buttonEl.style.display =\n",
       "          google.colab.kernel.accessAllowed ? 'block' : 'none';\n",
       "\n",
       "        async function convertToInteractive(key) {\n",
       "          const element = document.querySelector('#df-68679447-f669-482d-be75-9a13a3281883');\n",
       "          const dataTable =\n",
       "            await google.colab.kernel.invokeFunction('convertToInteractive',\n",
       "                                                     [key], {});\n",
       "          if (!dataTable) return;\n",
       "\n",
       "          const docLinkHtml = 'Like what you see? Visit the ' +\n",
       "            '<a target=\"_blank\" href=https://colab.research.google.com/notebooks/data_table.ipynb>data table notebook</a>'\n",
       "            + ' to learn more about interactive tables.';\n",
       "          element.innerHTML = '';\n",
       "          dataTable['output_type'] = 'display_data';\n",
       "          await google.colab.output.renderOutput(dataTable, element);\n",
       "          const docLink = document.createElement('div');\n",
       "          docLink.innerHTML = docLinkHtml;\n",
       "          element.appendChild(docLink);\n",
       "        }\n",
       "      </script>\n",
       "    </div>\n",
       "  </div>\n",
       "  "
      ],
      "text/plain": [
       "   dropout_prob  test_accuracy\n",
       "0           0.7       0.905416\n",
       "1           0.5       0.922960\n",
       "2           0.3       0.932876"
      ]
     },
     "execution_count": 35,
     "metadata": {},
     "output_type": "execute_result"
    }
   ],
   "source": [
    "dropout_df"
   ]
  },
  {
   "cell_type": "code",
   "execution_count": 36,
   "metadata": {
    "executionInfo": {
     "elapsed": 805374,
     "status": "ok",
     "timestamp": 1674711661631,
     "user": {
      "displayName": "Colby Tse",
      "userId": "15594811916867500508"
     },
     "user_tz": 480
    },
    "id": "WmfkTO35gN52"
   },
   "outputs": [],
   "source": [
    "# Recompiling final model for export\n",
    "model = Sequential()\n",
    "model.add(vgg)\n",
    "\n",
    "model.add(GlobalAveragePooling2D())\n",
    "model.add(Dense(1024, activation='relu'))\n",
    "model.add(Dense(1024, activation='relu'))\n",
    "model.add(Dense(512, activation='relu'))\n",
    "model.add(Dropout(0.3))\n",
    "model.add(Dense(4, activation='softmax'))\n",
    "\n",
    "model.compile(optimizer=tf.optimizers.Adam(learning_rate=0.0001), \n",
    "              loss='categorical_crossentropy', \n",
    "              metrics =['accuracy'])\n",
    "es = EarlyStopping(monitor = 'val_loss', patience = 5)\n",
    "\n",
    "history = model.fit(train_data,\n",
    "                  batch_size = 8,\n",
    "                  validation_data = test_data,\n",
    "                  epochs = 30,\n",
    "                  callbacks = [es],\n",
    "                  verbose = 0)"
   ]
  },
  {
   "cell_type": "code",
   "execution_count": 37,
   "metadata": {
    "colab": {
     "base_uri": "https://localhost:8080/"
    },
    "executionInfo": {
     "elapsed": 202,
     "status": "ok",
     "timestamp": 1674711753504,
     "user": {
      "displayName": "Colby Tse",
      "userId": "15594811916867500508"
     },
     "user_tz": 480
    },
    "id": "rugkL-4jmVLr",
    "outputId": "5ca19050-a55c-41d4-fed7-1570191b7d4c"
   },
   "outputs": [
    {
     "name": "stdout",
     "output_type": "stream",
     "text": [
      "Model: \"sequential_11\"\n",
      "_________________________________________________________________\n",
      " Layer (type)                Output Shape              Param #   \n",
      "=================================================================\n",
      " vgg16 (Functional)          (None, 7, 7, 512)         14714688  \n",
      "                                                                 \n",
      " global_average_pooling2d_11  (None, 512)              0         \n",
      "  (GlobalAveragePooling2D)                                       \n",
      "                                                                 \n",
      " dense_44 (Dense)            (None, 1024)              525312    \n",
      "                                                                 \n",
      " dense_45 (Dense)            (None, 1024)              1049600   \n",
      "                                                                 \n",
      " dense_46 (Dense)            (None, 512)               524800    \n",
      "                                                                 \n",
      " dropout_4 (Dropout)         (None, 512)               0         \n",
      "                                                                 \n",
      " dense_47 (Dense)            (None, 4)                 2052      \n",
      "                                                                 \n",
      "=================================================================\n",
      "Total params: 16,816,452\n",
      "Trainable params: 2,101,764\n",
      "Non-trainable params: 14,714,688\n",
      "_________________________________________________________________\n"
     ]
    }
   ],
   "source": [
    "model.summary()"
   ]
  },
  {
   "cell_type": "code",
   "execution_count": 38,
   "metadata": {
    "colab": {
     "base_uri": "https://localhost:8080/"
    },
    "executionInfo": {
     "elapsed": 3777,
     "status": "ok",
     "timestamp": 1674711760768,
     "user": {
      "displayName": "Colby Tse",
      "userId": "15594811916867500508"
     },
     "user_tz": 480
    },
    "id": "9rRMJZQdPsM4",
    "outputId": "34ae0348-078f-4aaa-8625-946c4516f5eb"
   },
   "outputs": [
    {
     "name": "stderr",
     "output_type": "stream",
     "text": [
      "WARNING:absl:Found untraced functions such as _jit_compiled_convolution_op, _jit_compiled_convolution_op, _jit_compiled_convolution_op, _jit_compiled_convolution_op, _jit_compiled_convolution_op while saving (showing 5 of 13). These functions will not be directly callable after loading.\n"
     ]
    }
   ],
   "source": [
    "model.save('/content/drive/MyDrive/Colab/capstone/models/vgg_xfer_multi')"
   ]
  },
  {
   "cell_type": "code",
   "execution_count": 41,
   "metadata": {
    "executionInfo": {
     "elapsed": 1409,
     "status": "ok",
     "timestamp": 1674712009975,
     "user": {
      "displayName": "Colby Tse",
      "userId": "15594811916867500508"
     },
     "user_tz": 480
    },
    "id": "FmNNs6y8nCIw"
   },
   "outputs": [],
   "source": [
    "loaded_model = tf.saved_model.load('/content/drive/MyDrive/Colab/capstone/models/vgg_xfer_multi')"
   ]
  },
  {
   "cell_type": "code",
   "execution_count": 50,
   "metadata": {
    "colab": {
     "base_uri": "https://localhost:8080/"
    },
    "executionInfo": {
     "elapsed": 284,
     "status": "ok",
     "timestamp": 1674712245965,
     "user": {
      "displayName": "Colby Tse",
      "userId": "15594811916867500508"
     },
     "user_tz": 480
    },
    "id": "TfnRShiHnKqP",
    "outputId": "e6ea68c8-7f46-4b4d-ec27-f31f434fd954"
   },
   "outputs": [
    {
     "name": "stdout",
     "output_type": "stream",
     "text": [
      "Model: \"sequential_11\"\n",
      "_________________________________________________________________\n",
      " Layer (type)                Output Shape              Param #   \n",
      "=================================================================\n",
      " vgg16 (Functional)          (None, 7, 7, 512)         14714688  \n",
      "                                                                 \n",
      " global_average_pooling2d_11  (None, 512)              0         \n",
      "  (GlobalAveragePooling2D)                                       \n",
      "                                                                 \n",
      " dense_44 (Dense)            (None, 1024)              525312    \n",
      "                                                                 \n",
      " dense_45 (Dense)            (None, 1024)              1049600   \n",
      "                                                                 \n",
      " dense_46 (Dense)            (None, 512)               524800    \n",
      "                                                                 \n",
      " dropout_4 (Dropout)         (None, 512)               0         \n",
      "                                                                 \n",
      " dense_47 (Dense)            (None, 4)                 2052      \n",
      "                                                                 \n",
      "=================================================================\n",
      "Total params: 16,816,452\n",
      "Trainable params: 2,101,764\n",
      "Non-trainable params: 14,714,688\n",
      "_________________________________________________________________\n"
     ]
    }
   ],
   "source": [
    "model.summary()"
   ]
  },
  {
   "cell_type": "code",
   "execution_count": 52,
   "metadata": {
    "executionInfo": {
     "elapsed": 560,
     "status": "ok",
     "timestamp": 1674712404403,
     "user": {
      "displayName": "Colby Tse",
      "userId": "15594811916867500508"
     },
     "user_tz": 480
    },
    "id": "g6BzmFu0nWXW"
   },
   "outputs": [],
   "source": [
    "model.save('/content/drive/MyDrive/Colab/capstone/models/vgg_multi_h5/model.h5')"
   ]
  },
  {
   "cell_type": "code",
   "execution_count": 53,
   "metadata": {
    "executionInfo": {
     "elapsed": 1925,
     "status": "ok",
     "timestamp": 1674712479374,
     "user": {
      "displayName": "Colby Tse",
      "userId": "15594811916867500508"
     },
     "user_tz": 480
    },
    "id": "T2ajfuoxokXD"
   },
   "outputs": [],
   "source": [
    "loaded_model = tf.keras.models.load_model('/content/drive/MyDrive/Colab/capstone/models/vgg_multi_h5/model.h5')"
   ]
  },
  {
   "cell_type": "code",
   "execution_count": 54,
   "metadata": {
    "colab": {
     "base_uri": "https://localhost:8080/"
    },
    "executionInfo": {
     "elapsed": 189,
     "status": "ok",
     "timestamp": 1674712486805,
     "user": {
      "displayName": "Colby Tse",
      "userId": "15594811916867500508"
     },
     "user_tz": 480
    },
    "id": "-Wxot9cGpG4M",
    "outputId": "ffa65d39-ec54-4163-953b-c4ad3f57396d"
   },
   "outputs": [
    {
     "name": "stdout",
     "output_type": "stream",
     "text": [
      "Model: \"sequential_11\"\n",
      "_________________________________________________________________\n",
      " Layer (type)                Output Shape              Param #   \n",
      "=================================================================\n",
      " vgg16 (Functional)          (None, 7, 7, 512)         14714688  \n",
      "                                                                 \n",
      " global_average_pooling2d_11  (None, 512)              0         \n",
      "  (GlobalAveragePooling2D)                                       \n",
      "                                                                 \n",
      " dense_44 (Dense)            (None, 1024)              525312    \n",
      "                                                                 \n",
      " dense_45 (Dense)            (None, 1024)              1049600   \n",
      "                                                                 \n",
      " dense_46 (Dense)            (None, 512)               524800    \n",
      "                                                                 \n",
      " dropout_4 (Dropout)         (None, 512)               0         \n",
      "                                                                 \n",
      " dense_47 (Dense)            (None, 4)                 2052      \n",
      "                                                                 \n",
      "=================================================================\n",
      "Total params: 16,816,452\n",
      "Trainable params: 2,101,764\n",
      "Non-trainable params: 14,714,688\n",
      "_________________________________________________________________\n"
     ]
    }
   ],
   "source": [
    "loaded_model.summary()"
   ]
  },
  {
   "cell_type": "markdown",
   "metadata": {
    "id": "0o1txTZlpJET"
   },
   "source": [
    "Final model has an accuracy of 93%"
   ]
  }
 ],
 "metadata": {
  "accelerator": "GPU",
  "colab": {
   "authorship_tag": "ABX9TyOLSunCRrUoQ+OOFqZyMQmZ",
   "machine_shape": "hm",
   "mount_file_id": "116QnUFyiHqd0HajTO0dJK37uVgcL12Fa",
   "provenance": []
  },
  "gpuClass": "premium",
  "kernelspec": {
   "display_name": "Python 3 (ipykernel)",
   "language": "python",
   "name": "python3"
  },
  "language_info": {
   "codemirror_mode": {
    "name": "ipython",
    "version": 3
   },
   "file_extension": ".py",
   "mimetype": "text/x-python",
   "name": "python",
   "nbconvert_exporter": "python",
   "pygments_lexer": "ipython3",
   "version": "3.9.15"
  }
 },
 "nbformat": 4,
 "nbformat_minor": 4
}
