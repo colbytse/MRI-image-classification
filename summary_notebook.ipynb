{
 "cells": [
  {
   "cell_type": "markdown",
   "metadata": {
    "id": "1vdFIAiy2Fj9"
   },
   "source": [
    "## Introduction\n",
    "\n",
    "This project was made in loving memory of my grandmother, Donna Leung. \n",
    "\n",
    "In this notebook, I utilize Google Colab to create two Convolutional Neural Network (CNN) models. The first model is a binary classification model to identify brain tumors by virtue of a yes or no model. The second model is a multiple classification model with 4 classes; glioma, meningioma, no tumor, and pituitary. Due to the nature of multiclass models there is a higher likelihood of misclassifying an image. In an effort to reduce misclassification I my first model as a high accuracy binary classificaion model to determine whether or not there is a tumor to flag. Then the multiclass model is fed the same image to attempt to classify the tumor. \n",
    "\n",
    "# Table of Contents\n",
    "\n",
    "* [Functions Used](#Functions_Used)\n",
    "* [Data Sorting and Cleaning](#Data_Sorting_and_Cleaning)\n",
    "* [Binary Classification Model](#Binary_Classification_Model)\n",
    "* [Baseline Model](#Baseline_Model)\n",
    "* [Image Cleaning and Manipulation](#Image_Cleaning_and_Manipulation)\n",
    "* [Hyperparameter Tuning (Binary)](#Hyperparameter_Tuning_(Binary))\n",
    "* [Multiclassification Model](#Multiclassification_Model)\n",
    "* [Hyperparameter Optimization (Multiclass)](#Hyperparameter_Optimization_* (Multiclass))\n",
    "* [Summary](#Summary)\n",
    "* [Next Steps](#Next_Steps)\n",
    "\n",
    "\n",
    "## Resources\n",
    "*   References\n",
    "  *   [Very Deep Convolutional Networks for Large-Scale Image Recognition](https://arxiv.org/pdf/1409.1556.pdf)\n",
    "  *   [PyImage Search Gurus](https://pyimagesearch.com/2016/04/11/finding-extreme-points-in-contours-with-opencv/) \n",
    "*   Data Sources\n",
    "  *   [Binary data](https://www.kaggle.com/datasets/masoudnickparvar/brain-tumor-mri-dataset)\n",
    "  *   [Clean multiclass data](https://www.kaggle.com/datasets/sartajbhuvaji/brain-tumor-classification-mri)\n",
    "  *   [Not so clean multiclass data](https://www.kaggle.com/datasets/sartajbhuvaji/brain-tumor-classification-mri)\n",
    "\n"
   ]
  },
  {
   "cell_type": "code",
   "execution_count": 2,
   "metadata": {
    "colab": {
     "base_uri": "https://localhost:8080/"
    },
    "id": "GSJc0S5q1du9",
    "outputId": "4952da05-5fa8-473f-87ce-b24c7decbffb"
   },
   "outputs": [
    {
     "name": "stdout",
     "output_type": "stream",
     "text": [
      "Mounted at /content/drive\n"
     ]
    }
   ],
   "source": [
    "from google.colab import drive\n",
    "drive.mount('/content/drive')"
   ]
  },
  {
   "cell_type": "markdown",
   "metadata": {
    "id": "Fshpb3db2CqO"
   },
   "source": [
    "## Imports"
   ]
  },
  {
   "cell_type": "code",
   "execution_count": 3,
   "metadata": {
    "id": "h30JHXTX1zC_"
   },
   "outputs": [],
   "source": [
    "import numpy as np\n",
    "import matplotlib.pyplot as plt\n",
    "import seaborn as sns\n",
    "import pandas as pd\n",
    "\n",
    "import os\n",
    "import random\n",
    "import shutil\n",
    "\n",
    "import imutils\n",
    "import cv2\n",
    "import pickle\n",
    "\n",
    "import tensorflow as tf\n",
    "from tensorflow.keras.models import Sequential\n",
    "from tensorflow.keras.layers import Dense, Dropout, Flatten,\\\n",
    " Conv2D, MaxPooling2D, GlobalAveragePooling2D\n",
    "from tensorflow.keras import utils\n",
    "from tensorflow.keras.preprocessing.image import ImageDataGenerator\n",
    "from tensorflow.keras.callbacks import EarlyStopping\n",
    "from tensorflow.keras.applications import VGG16, EfficientNetB0"
   ]
  },
  {
   "cell_type": "markdown",
   "metadata": {
    "id": "krBbk_lq7d4s"
   },
   "source": [
    "## Functions Used"
   ]
  },
  {
   "cell_type": "code",
   "execution_count": null,
   "metadata": {
    "id": "4Dpf-Dz019Qz"
   },
   "outputs": [],
   "source": [
    "def model_eval(X_train, y_train, X_test, y_test, X_val, y_val):\n",
    "  '''fn accepts above input variables and \n",
    "  returns the associated score from the most recent model'''\n",
    "  train_results = model.evaluate(X_train, y_train) \n",
    "  test_results = model.evaluate(X_test, y_test)\n",
    "  val_results = model.evaluate(X_val, y_val)\n",
    "\n",
    "  return (f\"Train:{train_results}, Test:{test_results}, Val:{val_results}\")"
   ]
  },
  {
   "cell_type": "code",
   "execution_count": null,
   "metadata": {
    "id": "30o_UzQu18zf"
   },
   "outputs": [],
   "source": [
    "def save_new_images(X, y, file_path):\n",
    "\n",
    "  '''fn reforms image files from the np.array back into a jpg'''\n",
    "  i = 0\n",
    "  for (img, imclass) in zip(X, y):\n",
    "      if imclass == 'neg':\n",
    "          cv2.imwrite(file_path + '/neg/' + str(i) + '.jpg', img)\n",
    "      else:\n",
    "          cv2.imwrite(file_path + '/pos/' + str(i) + '.jpg', img)\n",
    "      i += 1\n"
   ]
  },
  {
   "cell_type": "code",
   "execution_count": null,
   "metadata": {
    "id": "gvmxo62_1_Y5"
   },
   "outputs": [],
   "source": [
    "def crop_images(images, add_pixels_value=0):\n",
    "  '''fn identifies all \"extreme\" points of an image and crops a \n",
    "  rectangular cut based on the extreme points. Code adapted from pyimagesearch'''\n",
    "  cropped = []\n",
    "  # load the images, convert to greyscale and blur slightly\n",
    "  for image in images:\n",
    "    gray = cv2.cvtColor(image, cv2.COLOR_RGB2GRAY)\n",
    "    gray = cv2.GaussianBlur(gray, (5,5), 0)\n",
    "\n",
    "    # thresholds image then perform a series of erosions and \n",
    "    # dilations to remove small regions of noise\n",
    "    \n",
    "    thresh = cv2.threshold(gray, 45, 255, cv2.THRESH_BINARY)[1]\n",
    "    thresh = cv2.erode(thresh, None, iterations=2)\n",
    "    thresh = cv2.dilate(thresh, None, iterations=2)\n",
    "\n",
    "    # find contours in thresholded image, then grab the largest one\n",
    "\n",
    "    cnts = cv2.findContours(thresh.copy(), cv2.RETR_EXTERNAL,\n",
    "      cv2.CHAIN_APPROX_SIMPLE)\n",
    "    cnts = imutils.grab_contours(cnts)\n",
    "    c = max(cnts, key=cv2.contourArea)\n",
    "\n",
    "    # extract extreme points\n",
    "    # extLeft (West) is the X-axis min\n",
    "    extLeft = tuple(c[c[:, :, 0].argmin()][0])\n",
    "    # extRight (East) X-axis max\n",
    "    extRight = tuple(c[c[:, :, 0].argmax()][0])\n",
    "    # extTop Y-axis max (North)\n",
    "    extTop = tuple(c[c[:, :, 1].argmin()][0])\n",
    "    # extBot Y-axis min (South)\n",
    "    extBot = tuple(c[c[:, :, 1].argmax()][0])\n",
    "\n",
    "    # cropping step\n",
    "    ADD_PIXELS = add_pixels_value\n",
    "    new_img = image[extTop[1]-ADD_PIXELS:extBot[1]+ADD_PIXELS,\\\n",
    "                  extLeft[0]-ADD_PIXELS:extRight[0]+ADD_PIXELS].copy()\n",
    "    cropped.append(new_img)\n",
    "\n",
    "  return np.array(cropped)"
   ]
  },
  {
   "cell_type": "markdown",
   "metadata": {
    "id": "IAAnaVlK_H5o"
   },
   "source": [
    "## Data Sorting and Cleaning"
   ]
  },
  {
   "cell_type": "code",
   "execution_count": null,
   "metadata": {
    "id": "8rSA70uF_OBO"
   },
   "outputs": [],
   "source": [
    "path = '/content/drive/MyDrive/Colab/capstone/data/archive'\n",
    "os.chdir(path)"
   ]
  },
  {
   "cell_type": "code",
   "execution_count": null,
   "metadata": {
    "id": "iJApYZLcBcbw"
   },
   "outputs": [],
   "source": [
    "## The following code block is commented out to prevent file duplication\n",
    "# # code block shuffles and evenly splits 'yes' and 'no' file images into \n",
    "# # train, test, val folders 'pos' and 'neg' folders\n",
    "# # Each folder contains a 1:1 split of 'yes' and 'no' images\n",
    "# # The original data set has more 'no' images than 'yes'. \n",
    "\n",
    "# yes_images = os.listdir('yes')\n",
    "# no_images = os.listdir('no')\n",
    "\n",
    "# # randomize the images\n",
    "# random.shuffle(yes_images)\n",
    "# random.shuffle(no_images) \n",
    "\n",
    "# #70% train, 20% test, 10% val\n",
    "# pos_train_images = int(len(yes_images)*0.7)\n",
    "# pos_test_images = int(len(yes_images)*0.2)\n",
    "# pos_val_images = int(len(yes_images)*0.1)\n",
    "\n",
    "# neg_train_images = int(len(no_images)*0.7)\n",
    "# neg_test_images = int(len(no_images)*0.2)\n",
    "# neg_val_images = int(len(no_images)*0.1)\n",
    "\n",
    "# # select the images\n",
    "# train_yes = yes_images[:pos_train_images]\n",
    "# train_no = no_images[:neg_train_images]\n",
    "\n",
    "# # move the files into each respective folder\n",
    "# for image in train_yes:\n",
    "#   shutil.move(f'yes/{image}', 'train/pos')\n",
    "# for image in train_no:\n",
    "#   shutil.move(f'no/{image}', 'train/neg')\n",
    "\n",
    "# # redeclare variable with with the prior images removed\n",
    "# yes_images = yes_images[pos_train_images:]\n",
    "# no_images = no_images[neg_train_images:]\n",
    "\n",
    "# # rinse and repeat for test and val\n",
    "\n",
    "# test_yes = yes_images[:pos_test_images]\n",
    "# test_no = no_images[:neg_test_images]\n",
    "\n",
    "# for image in test_yes:\n",
    "#   shutil.move(f'yes/{image}', 'test/pos')\n",
    "# for image in test_no:\n",
    "#   shutil.move(f'no/{image}', 'test/neg')\n",
    "\n",
    "# yes_images = yes_images[pos_test_images:]\n",
    "# no_images = no_images[neg_test_images:]\n",
    "\n",
    "# val_yes = yes_images[:pos_val_images]\n",
    "# val_no = no_images[:neg_val_images]\n",
    "\n",
    "# for image in val_yes:\n",
    "#   shutil.move(f'yes/{image}', 'val/pos')\n",
    "# for image in val_no:\n",
    "#   shutil.move(f'no/{image}', 'val/neg')"
   ]
  },
  {
   "cell_type": "code",
   "execution_count": null,
   "metadata": {
    "id": "9m3RmSStBp5z"
   },
   "outputs": [],
   "source": [
    "# # This code block will move all the images back into their original folders\n",
    "# # Always have an exit plan!\n",
    "\n",
    "# train_pos_images = os.listdir('train/pos')\n",
    "# train_neg_images = os.listdir('train/neg')\n",
    "\n",
    "# for image in train_pos_images:\n",
    "#   shutil.move(f'train/pos/{image}', 'yes')\n",
    "\n",
    "# for image in train_neg_images:\n",
    "#   shutil.move(f'train/neg/{image}', 'no')\n",
    "\n",
    "# test_pos_images = os.listdir('test/pos')\n",
    "# test_neg_images = os.listdir('test/neg')\n",
    "\n",
    "# for image in test_pos_images:\n",
    "#   shutil.move(f'test/pos/{image}', 'yes')\n",
    "\n",
    "# for image in test_neg_images:\n",
    "#   shutil.move(f'test/neg/{image}', 'no')\n",
    "\n",
    "# val_pos_images = os.listdir('val/pos')\n",
    "# val_neg_images = os.listdir('val/neg')\n",
    "\n",
    "# for image in val_pos_images:\n",
    "#   shutil.move(f'val/pos/{image}', 'yes')\n",
    "\n",
    "# for image in val_neg_images:\n",
    "#   shutil.move(f'val/neg/{image}', 'no')"
   ]
  },
  {
   "cell_type": "code",
   "execution_count": null,
   "metadata": {
    "id": "zdZi2rhuBteC"
   },
   "outputs": [],
   "source": [
    "# For ease of use, I've decided to use Image Data Generator\n",
    "datagen = ImageDataGenerator()"
   ]
  },
  {
   "cell_type": "markdown",
   "metadata": {
    "id": "R0tzFGl7B9cI"
   },
   "source": [
    "# Binary Classification Model\n",
    "\n",
    "My baseline 46.5% yes images. As a dry run I will construct a basic model to see if I need to alter the images in any way."
   ]
  },
  {
   "cell_type": "code",
   "execution_count": null,
   "metadata": {
    "colab": {
     "base_uri": "https://localhost:8080/"
    },
    "id": "ObPdXZkYC8SF",
    "outputId": "2cfd452a-7000-4866-b759-43d1acd857db"
   },
   "outputs": [
    {
     "name": "stdout",
     "output_type": "stream",
     "text": [
      "Found 2100 images belonging to 2 classes.\n",
      "Found 600 images belonging to 2 classes.\n",
      "Found 300 images belonging to 2 classes.\n"
     ]
    }
   ],
   "source": [
    "train_data = datagen.flow_from_directory(\n",
    "    directory = '/content/drive/MyDrive/Colab/capstone/data/archive/train/',\n",
    "    target_size = (224, 224),\n",
    "    color_mode='rgb',\n",
    "    classes=['neg', 'pos'],\n",
    "    class_mode='binary',\n",
    "    batch_size= 32,\n",
    "    shuffle=True,\n",
    "    seed=33\n",
    ")\n",
    "\n",
    "test_data = datagen.flow_from_directory(\n",
    "    directory = '/content/drive/MyDrive/Colab/capstone/data/archive/test/',\n",
    "    target_size = (224, 224),\n",
    "    color_mode='rgb',\n",
    "    classes=['neg', 'pos'],\n",
    "    class_mode='binary',\n",
    "    batch_size= 32,\n",
    "    shuffle=True,\n",
    "    seed=33\n",
    ")\n",
    "\n",
    "val_data = datagen.flow_from_directory(\n",
    "    directory = '/content/drive/MyDrive/Colab/capstone/data/archive/val/',\n",
    "    target_size = (224, 224),\n",
    "    color_mode='rgb',\n",
    "    classes=['neg', 'pos'],\n",
    "    class_mode='binary',\n",
    "    batch_size= 32,\n",
    "    shuffle=True,\n",
    "    seed=33\n",
    ")"
   ]
  },
  {
   "cell_type": "code",
   "execution_count": null,
   "metadata": {
    "colab": {
     "base_uri": "https://localhost:8080/"
    },
    "id": "1TH9DnjbF40q",
    "outputId": "e27f7954-bf33-45ca-d27f-f4d0ac6b8c69"
   },
   "outputs": [
    {
     "data": {
      "text/plain": [
       "((32, 224, 224, 3), (32,), (32, 224, 224, 3), (32,), (32, 224, 224, 3), (32,))"
      ]
     },
     "execution_count": 30,
     "metadata": {},
     "output_type": "execute_result"
    }
   ],
   "source": [
    "# Although I do not need to define/separate my generators for X and y, I do so\n",
    "# to be able to explore the data a little deeper.\n",
    "X_train, y_train = train_data.next()\n",
    "X_test, y_test = test_data.next()\n",
    "X_val, y_val = val_data.next()\n",
    "\n",
    "X_train.shape, y_train.shape, X_test.shape, y_test.shape, X_val.shape, y_val.shape"
   ]
  },
  {
   "cell_type": "markdown",
   "metadata": {
    "id": "wj8qi3dmD07t"
   },
   "source": [
    "## Baseline Model\n",
    "\n",
    "The baseline model is more of a proof of concept to see if my intuition is correct. I will expand upon this model at a later step.\n",
    "\n",
    "*   kernel size (3, 3) to get as many meaningful snapshots as possible\n",
    "*   input shape (224, 224, 3) - 224 x 224 for the image size because after 5 max pools, images go from (224, 224) -> (7, 7) and has a distinct center point opposed to (256, 256) -> (8, 8). This can help account for objects in an image at the center of the image. \n",
    "\n"
   ]
  },
  {
   "cell_type": "code",
   "execution_count": null,
   "metadata": {
    "id": "oMxHKSheDr6U"
   },
   "outputs": [],
   "source": [
    "model = Sequential()\n",
    "\n",
    "model.add(\n",
    "    Conv2D(32, kernel_size=(3, 3), \n",
    "           activation='relu', input_shape=(224, 224, 3)))\n",
    "\n",
    "model.add(MaxPooling2D(pool_size=(2,2)))\n",
    "\n",
    "model.add(\n",
    "    Conv2D(64, kernel_size=(3, 3),\n",
    "           activation='relu')\n",
    ")\n",
    "\n",
    "model.add(MaxPooling2D(pool_size=(2,2)))\n",
    "\n",
    "model.add(Flatten())\n",
    "\n",
    "model.add(Dense(128, activation='relu'))\n",
    "\n",
    "model.add(Dropout(0.5))\n",
    "\n",
    "model.add(Dense(1, activation='sigmoid'))\n",
    "\n",
    "model.compile(optimizer='adam', \n",
    "              loss='binary_crossentropy', \n",
    "              metrics =['accuracy'])\n",
    "\n",
    "early_stopping = EarlyStopping(monitor = 'val_loss', patience = 5)"
   ]
  },
  {
   "cell_type": "code",
   "execution_count": null,
   "metadata": {
    "id": "fWZmK9bIFuA8"
   },
   "outputs": [],
   "source": [
    "# I set the epochs 1000 as I'm sure the model won't reach that point \n",
    "# since it's a binary model but didn't want to arbitrarily cut off\n",
    "# the process.\n",
    "history = model.fit(X_train, y_train,\n",
    "                    batch_size = 16,\n",
    "                    validation_data = (X_test, y_test),\n",
    "                    epochs = 1000,\n",
    "                    callbacks = [early_stopping],\n",
    "                    verbose =0)"
   ]
  },
  {
   "cell_type": "code",
   "execution_count": null,
   "metadata": {
    "colab": {
     "base_uri": "https://localhost:8080/",
     "height": 108
    },
    "id": "WAhUa0i3JE5K",
    "outputId": "318339f7-0c82-4811-f31e-cebf97ef209c"
   },
   "outputs": [
    {
     "name": "stdout",
     "output_type": "stream",
     "text": [
      "1/1 [==============================] - 0s 211ms/step - loss: 7.6353e-14 - accuracy: 1.0000\n",
      "1/1 [==============================] - 0s 41ms/step - loss: 11.8206 - accuracy: 0.6875\n",
      "1/1 [==============================] - 0s 39ms/step - loss: 16.6155 - accuracy: 0.6875\n"
     ]
    },
    {
     "data": {
      "application/vnd.google.colaboratory.intrinsic+json": {
       "type": "string"
      },
      "text/plain": [
       "'Train:[7.635308130107127e-14, 1.0], Test:[11.820557594299316, 0.6875], Val:[16.61553955078125, 0.6875]'"
      ]
     },
     "execution_count": 33,
     "metadata": {},
     "output_type": "execute_result"
    }
   ],
   "source": [
    "model_eval(X_train, y_train, X_test, y_test, X_val, y_val)"
   ]
  },
  {
   "cell_type": "code",
   "execution_count": null,
   "metadata": {
    "colab": {
     "base_uri": "https://localhost:8080/",
     "height": 594
    },
    "id": "JenhtebDJOt2",
    "outputId": "cc4722d5-cb04-4d54-b0cc-1a104aa5e726"
   },
   "outputs": [
    {
     "data": {
      "image/png": "[encoded data removed]",
      "text/plain": [
       "<Figure size 432x288 with 1 Axes>"
      ]
     },
     "metadata": {
      "needs_background": "light"
     },
     "output_type": "display_data"
    },
    {
     "data": {
      "image/png": "[encoded data removed]",
      "text/plain": [
       "<Figure size 432x288 with 1 Axes>"
      ]
     },
     "metadata": {
      "needs_background": "light"
     },
     "output_type": "display_data"
    }
   ],
   "source": [
    "plt.plot(history.history['accuracy'])\n",
    "plt.plot(history.history['val_accuracy'])\n",
    "plt.title('Model Accuracy')\n",
    "plt.ylabel('Accuracy')\n",
    "plt.xlabel('Epoch')\n",
    "plt.legend(['Train', 'Test'], loc = 'right')\n",
    "plt.show()\n",
    "\n",
    "plt.plot(history.history['loss'])\n",
    "plt.plot(history.history['val_loss'])\n",
    "plt.title('Model Loss')\n",
    "plt.ylabel('Loss')\n",
    "plt.xlabel('Epoch')\n",
    "plt.legend(['Train', 'Test'], loc = 'right')\n",
    "plt.show()"
   ]
  },
  {
   "cell_type": "markdown",
   "metadata": {
    "id": "Qcvs2pDIJZ-i"
   },
   "source": [
    "For a basic model, we see it only went to 15 epochs and is overfit. Scores are:\n",
    "Train/Test/Val = 100%, 65.6%, 65.6%.\n",
    "\n",
    "Before attempting transfer learning, I want to use the architecture described in the VGG16 CNN model. \n",
    "\n",
    "[Very Deep Convolutional Networks for Large-Scale Image Recognition](https://arxiv.org/pdf/1409.1556.pdf)\n",
    "\n",
    "I decided to use VGG16 for this process mostly due to it's renown in this image classification modeling. From what I understand, the architecture has 13 convolutional layers, 5 max pooling layers, and 3 dense layers with 16 of the layers carrying weights (hence the 16). "
   ]
  },
  {
   "cell_type": "code",
   "execution_count": null,
   "metadata": {
    "id": "PPgbZBBFKnIO"
   },
   "outputs": [],
   "source": [
    "model = Sequential()\n",
    "\n",
    "model.add(Conv2D(input_shape=(224,224,3), filters=64, kernel_size=(3,3), padding='same', activation='relu'))\n",
    "model.add(Conv2D(filters=64, kernel_size=(3,3), padding='same', activation='relu'))\n",
    "\n",
    "model.add(MaxPooling2D(pool_size=(2,2), strides=(2,2)))\n",
    "\n",
    "model.add(Conv2D(filters=128, kernel_size=(3,3), padding='same', activation='relu'))\n",
    "model.add(Conv2D(filters=128, kernel_size=(3,3), padding='same', activation='relu'))\n",
    "\n",
    "model.add(MaxPooling2D(pool_size=(2,2), strides=(2,2)))\n",
    "\n",
    "model.add(Conv2D(filters=256, kernel_size=(3,3), padding='same', activation='relu'))\n",
    "model.add(Conv2D(filters=256, kernel_size=(3,3), padding='same', activation='relu'))\n",
    "model.add(Conv2D(filters=256, kernel_size=(3,3), padding='same', activation='relu'))\n",
    "\n",
    "model.add(MaxPooling2D(pool_size=(2,2), strides=(2,2)))\n",
    "\n",
    "model.add(Conv2D(filters=512, kernel_size=(3,3), padding='same', activation='relu'))\n",
    "model.add(Conv2D(filters=512, kernel_size=(3,3), padding='same', activation='relu'))\n",
    "model.add(Conv2D(filters=512, kernel_size=(3,3), padding='same', activation='relu'))\n",
    "\n",
    "model.add(MaxPooling2D(pool_size=(2,2), strides=(2,2)))\n",
    "\n",
    "model.add(Conv2D(filters=1024, kernel_size=(3,3), padding='same', activation='relu'))\n",
    "model.add(Conv2D(filters=1024, kernel_size=(3,3), padding='same', activation='relu'))\n",
    "model.add(Conv2D(filters=1024, kernel_size=(3,3), padding='same', activation='relu'))\n",
    "\n",
    "model.add(MaxPooling2D(pool_size=(2,2), strides=(2,2)))\n",
    "\n",
    "model.add(Flatten(name='flatten'))\n",
    "\n",
    "model.add(Dense(256, activation='relu'))\n",
    "model.add(Dense(128, activation='relu'))\n",
    "model.add(Dense(1, activation='sigmoid'))\n",
    "\n",
    "model.compile(optimizer='adam', \n",
    "              loss='binary_crossentropy', \n",
    "              metrics =['accuracy'])\n",
    "\n",
    "es = EarlyStopping(monitor = 'val_loss', patience = 10)"
   ]
  },
  {
   "cell_type": "code",
   "execution_count": null,
   "metadata": {
    "id": "jK9HclNoKwEC"
   },
   "outputs": [],
   "source": [
    "history = model.fit(X_train, y_train,\n",
    "                    batch_size = 16,\n",
    "                    validation_data = (X_test, y_test),\n",
    "                    epochs = 1000,\n",
    "                    callbacks = [es],\n",
    "                    verbose = 0)"
   ]
  },
  {
   "cell_type": "code",
   "execution_count": null,
   "metadata": {
    "colab": {
     "base_uri": "https://localhost:8080/",
     "height": 108
    },
    "id": "LkMP8Ht5KxP4",
    "outputId": "effbf1dc-afa5-43b9-c1f0-3cf57d7cf63b"
   },
   "outputs": [
    {
     "name": "stdout",
     "output_type": "stream",
     "text": [
      "1/1 [==============================] - 3s 3s/step - loss: 0.6456 - accuracy: 0.6250\n",
      "1/1 [==============================] - 0s 194ms/step - loss: 0.6557 - accuracy: 0.5625\n",
      "1/1 [==============================] - 0s 192ms/step - loss: 0.7876 - accuracy: 0.3125\n"
     ]
    },
    {
     "data": {
      "application/vnd.google.colaboratory.intrinsic+json": {
       "type": "string"
      },
      "text/plain": [
       "'Train:[0.6456354856491089, 0.625], Test:[0.6556792259216309, 0.5625], Val:[0.7876430749893188, 0.3125]'"
      ]
     },
     "execution_count": 37,
     "metadata": {},
     "output_type": "execute_result"
    }
   ],
   "source": [
    "model_eval(X_train, y_train, X_test, y_test, X_val, y_val)"
   ]
  },
  {
   "cell_type": "code",
   "execution_count": null,
   "metadata": {
    "colab": {
     "base_uri": "https://localhost:8080/",
     "height": 594
    },
    "id": "xepJq-k0K1ZV",
    "outputId": "138d691d-e96f-4189-8ca9-f92df92caef6"
   },
   "outputs": [
    {
     "data": {
      "image/png": "[encoded data removed]",
      "text/plain": [
       "<Figure size 432x288 with 1 Axes>"
      ]
     },
     "metadata": {
      "needs_background": "light"
     },
     "output_type": "display_data"
    },
    {
     "data": {
      "image/png": "[encoded data removed]",
      "text/plain": [
       "<Figure size 432x288 with 1 Axes>"
      ]
     },
     "metadata": {
      "needs_background": "light"
     },
     "output_type": "display_data"
    }
   ],
   "source": [
    "plt.plot(history.history['accuracy'])\n",
    "plt.plot(history.history['val_accuracy'])\n",
    "plt.title('Model Accuracy')\n",
    "plt.ylabel('Accuracy')\n",
    "plt.xlabel('Epoch')\n",
    "plt.legend(['Train', 'Test'], loc = 'right')\n",
    "plt.show()\n",
    "\n",
    "plt.plot(history.history['loss'])\n",
    "plt.plot(history.history['val_loss'])\n",
    "plt.title('Model Loss')\n",
    "plt.ylabel('Loss')\n",
    "plt.xlabel('Epoch')\n",
    "plt.legend(['Train', 'Test'], loc = 'right')\n",
    "plt.show()"
   ]
  },
  {
   "cell_type": "markdown",
   "metadata": {
    "id": "YLzWIYacL_B8"
   },
   "source": [
    "Overall, the model is signifcantly less overfit but doesn't handle new data very well. From here I will implement transfer learning and utilize VGG16 to it's fullest and to give the model a better chance I will standardize all the images. It is at this point I realize not all of the images are of the same size or contain the image within the same space; there are some images with more black space than others. \n",
    "\n",
    "## Image Cleaning and Manipulation\n",
    "\n",
    "[PyImage Search Gurus](https://pyimagesearch.com/2016/04/11/finding-extreme-points-in-contours-with-opencv/) \n",
    "\n",
    "The following code is adapted from PyImage Search Gurus."
   ]
  },
  {
   "cell_type": "code",
   "execution_count": null,
   "metadata": {
    "id": "OOtvMRu6L90V"
   },
   "outputs": [],
   "source": [
    "# testing the code with a random image\n",
    "image = cv2.imread('/content/drive/MyDrive/Colab/capstone/data/archive/train/pos/y396.jpg')\n",
    "image = cv2.resize(image, dsize = (224, 224), interpolation=cv2.INTER_CUBIC)\n",
    "# INTER_CUBIC: This uses bicubic interpolation for resizing the image. \n",
    "# While resizing and interpolating new pixels, this method acts on the 4×4 \n",
    "# neighboring pixels of the image. It then takes the weights average of the \n",
    "# 16 pixels to create the new interpolated pixel.\n",
    "gray = cv2.cvtColor(image, cv2.COLOR_RGB2GRAY)\n",
    "gray = cv2.GaussianBlur(gray, (5,5), 0)\n",
    "\n",
    "\n",
    "thresh = cv2.threshold(gray, 45, 255, cv2.THRESH_BINARY)[1]\n",
    "thresh = cv2.erode(thresh, None, iterations=2)\n",
    "thresh = cv2.dilate(thresh, None, iterations=2)\n",
    "\n",
    "# find contours in thresholded image, then grab the largest one\n",
    "\n",
    "cnts = cv2.findContours(thresh.copy(), cv2.RETR_EXTERNAL,\n",
    "  cv2.CHAIN_APPROX_SIMPLE)\n",
    "cnts = imutils.grab_contours(cnts)\n",
    "c = max(cnts, key=cv2.contourArea)\n",
    "\n",
    "# extract extreme points\n",
    "# extLeft (West) is the X-axis min\n",
    "extLeft = tuple(c[c[:, :, 0].argmin()][0])\n",
    "# extRight (East) X-axis max\n",
    "extRight = tuple(c[c[:, :, 0].argmax()][0])\n",
    "# extTop Y-axis max (North)\n",
    "extTop = tuple(c[c[:, :, 1].argmin()][0])\n",
    "# extBot Y-axis min (South)\n",
    "extBot = tuple(c[c[:, :, 1].argmax()][0])\n",
    "\n",
    "# cropping step\n",
    "ADD_PIXELS = 0\n",
    "new_img = image[extTop[1]-ADD_PIXELS:extBot[1]+ADD_PIXELS,\\\n",
    "              extLeft[0]-ADD_PIXELS:extRight[0]+ADD_PIXELS].copy()"
   ]
  },
  {
   "cell_type": "code",
   "execution_count": null,
   "metadata": {
    "colab": {
     "base_uri": "https://localhost:8080/",
     "height": 342
    },
    "id": "vRKgji0xMzJm",
    "outputId": "4c057a18-cf02-4b50-e598-4ea6d97352bc"
   },
   "outputs": [
    {
     "data": {
      "image/png": "[encoded data removed]",
      "text/plain": [
       "<Figure size 720x360 with 2 Axes>"
      ]
     },
     "metadata": {},
     "output_type": "display_data"
    }
   ],
   "source": [
    "fig, ax = plt.subplots(1, 2, figsize= (10,5))\n",
    "\n",
    "ax[0].imshow(image)\n",
    "ax[0].set_xticks([])\n",
    "ax[0].set_yticks([])\n",
    "ax[0].set_title('Original Image')\n",
    "\n",
    "ax[1].imshow(new_img)\n",
    "ax[1].set_xticks([])\n",
    "ax[1].set_yticks([])\n",
    "ax[1].set_title('Cropped Image')\n",
    "\n",
    "plt.show()"
   ]
  },
  {
   "cell_type": "code",
   "execution_count": null,
   "metadata": {
    "colab": {
     "base_uri": "https://localhost:8080/"
    },
    "id": "d9dMQExwM0tr",
    "outputId": "822570e6-5eaa-48a4-f071-80e50124a5d4"
   },
   "outputs": [
    {
     "name": "stderr",
     "output_type": "stream",
     "text": [
      "<ipython-input-24-bfbf791a9fa0>:40: VisibleDeprecationWarning: Creating an ndarray from ragged nested sequences (which is a list-or-tuple of lists-or-tuples-or ndarrays with different lengths or shapes) is deprecated. If you meant to do this, you must specify 'dtype=object' when creating the ndarray.\n",
      "  return np.array(cropped)\n"
     ]
    }
   ],
   "source": [
    "# for this function to work, I need to reimport my data as np.arrays.\n",
    "\n",
    "labels = ['neg', 'pos']\n",
    "image_size = 224\n",
    "# empty lists to append the np.arrays to\n",
    "X_train = []\n",
    "y_train = []\n",
    "X_test = []\n",
    "y_test = []\n",
    "X_val = []\n",
    "y_val = []\n",
    "for i in labels:\n",
    "    folderPath = os.path.join('/content/drive/MyDrive/Colab/capstone/data/archive/','train',i)\n",
    "    for j in os.listdir(folderPath):\n",
    "        img = cv2.imread(os.path.join(folderPath,j))\n",
    "        img = cv2.resize(img,(image_size, image_size))\n",
    "        X_train.append(img)\n",
    "        y_train.append(i)\n",
    "        \n",
    "for i in labels:\n",
    "    folderPath = os.path.join('/content/drive/MyDrive/Colab/capstone/data/archive/','test',i)\n",
    "    for j in os.listdir(folderPath):\n",
    "        img = cv2.imread(os.path.join(folderPath,j))\n",
    "        img = cv2.resize(img,(image_size,image_size))\n",
    "        X_test.append(img)\n",
    "        y_test.append(i)\n",
    "\n",
    "for i in labels:\n",
    "    folderPath = os.path.join('/content/drive/MyDrive/Colab/capstone/data/archive/','val',i)\n",
    "    for j in os.listdir(folderPath):\n",
    "        img = cv2.imread(os.path.join(folderPath,j))\n",
    "        img = cv2.resize(img,(image_size,image_size))\n",
    "        X_val.append(img)\n",
    "        y_val.append(i)\n",
    "        \n",
    "X_train = np.array(X_train)\n",
    "y_train = np.array(y_train)\n",
    "X_test = np.array(X_test)\n",
    "y_test = np.array(y_test)\n",
    "X_val = np.array(X_val)\n",
    "y_val = np.array(y_val)\n",
    "\n",
    "cropped_X_train = crop_images(images = X_train)\n",
    "cropped_X_test = crop_images(images = X_test)\n",
    "cropped_X_val = crop_images(images = X_val)"
   ]
  },
  {
   "cell_type": "code",
   "execution_count": null,
   "metadata": {
    "id": "ujk4b_JoM-fR"
   },
   "outputs": [],
   "source": [
    "# # commenting out to prevent file duplication\n",
    "\n",
    "# save_new_images(cropped_X_train, y_train, file_path + '/train')\n",
    "# save_new_images(cropped_X_test, y_test, file_path + '/test')\n",
    "# save_new_images(cropped_X_val, y_val, file_path+ '/val')"
   ]
  },
  {
   "cell_type": "markdown",
   "metadata": {
    "id": "WERPZG99NC4h"
   },
   "source": [
    "Now to import the cropped image files as a data generator."
   ]
  },
  {
   "cell_type": "code",
   "execution_count": null,
   "metadata": {
    "id": "7t25clqQM_ur"
   },
   "outputs": [],
   "source": [
    "datagen = ImageDataGenerator(rescale=1/255)"
   ]
  },
  {
   "cell_type": "code",
   "execution_count": null,
   "metadata": {
    "colab": {
     "base_uri": "https://localhost:8080/"
    },
    "id": "9M-27dS0NCUp",
    "outputId": "31c0e39e-b0b6-402f-88d1-46640d274c97"
   },
   "outputs": [
    {
     "name": "stdout",
     "output_type": "stream",
     "text": [
      "Found 2100 images belonging to 2 classes.\n",
      "Found 600 images belonging to 2 classes.\n",
      "Found 300 images belonging to 2 classes.\n"
     ]
    }
   ],
   "source": [
    "train_data = datagen.flow_from_directory(\n",
    "    directory = '/content/drive/MyDrive/Colab/capstone/data/archive/cropped/train/',\n",
    "    target_size = (224, 224),\n",
    "    color_mode='rgb',\n",
    "    classes=['neg', 'pos'],\n",
    "    class_mode='binary',\n",
    "    batch_size= 32,\n",
    "    shuffle=True,\n",
    "    seed=33\n",
    ")\n",
    "\n",
    "test_data = datagen.flow_from_directory(\n",
    "    directory = '/content/drive/MyDrive/Colab/capstone/data/archive/cropped/test/',\n",
    "    target_size = (224, 224),\n",
    "    color_mode='rgb',\n",
    "    classes=['neg', 'pos'],\n",
    "    class_mode='binary',\n",
    "    batch_size= 32,\n",
    "    shuffle=True,\n",
    "    seed=33\n",
    ")\n",
    "\n",
    "val_data = datagen.flow_from_directory(\n",
    "    directory = '/content/drive/MyDrive/Colab/capstone/data/archive/cropped/val/',\n",
    "    target_size = (224, 224),\n",
    "    color_mode='rgb',\n",
    "    classes=['neg', 'pos'],\n",
    "    class_mode='binary',\n",
    "    batch_size= 32,\n",
    "    shuffle=True,\n",
    "    seed=33\n",
    ")"
   ]
  },
  {
   "cell_type": "markdown",
   "metadata": {
    "id": "Nzf6asWzNSsW"
   },
   "source": [
    "## Transfer Learning with VGG16"
   ]
  },
  {
   "cell_type": "code",
   "execution_count": null,
   "metadata": {
    "colab": {
     "base_uri": "https://localhost:8080/"
    },
    "id": "8_GtVPfLNRJ6",
    "outputId": "6d5c4199-7317-40fe-b84b-02d3dd9a33bd"
   },
   "outputs": [
    {
     "name": "stdout",
     "output_type": "stream",
     "text": [
      "Downloading data from https://storage.googleapis.com/tensorflow/keras-applications/vgg16/vgg16_weights_tf_dim_ordering_tf_kernels_notop.h5\n",
      "58889256/58889256 [==============================] - 0s 0us/step\n"
     ]
    }
   ],
   "source": [
    "# Import VGG16\n",
    "vgg = VGG16(input_shape=(224, 224, 3), weights='imagenet', include_top=False)\n",
    "\n",
    "# freezing the base layers as to not overwrite\n",
    "for layer in vgg.layers:\n",
    "    layer.trainable = False"
   ]
  },
  {
   "cell_type": "code",
   "execution_count": null,
   "metadata": {
    "id": "CXRTF4jtNa2V"
   },
   "outputs": [],
   "source": [
    "model = Sequential()\n",
    "model.add(vgg)\n",
    "# Adding a final layer like one we'd find in the model.\n",
    "# The original model uses maxpooling 2D, trying average instead.\n",
    "model.add(GlobalAveragePooling2D())\n",
    "model.add(Dense(1024, activation='relu'))\n",
    "model.add(Dense(1024, activation='relu'))\n",
    "model.add(Dense(512, activation='relu'))\n",
    "model.add(Dropout(0.3))\n",
    "model.add(Dense(1, activation='sigmoid'))\n",
    "\n",
    "model.compile(optimizer=tf.optimizers.Adam(learning_rate=0.0001), \n",
    "              loss='binary_crossentropy', \n",
    "              metrics =['accuracy'])\n",
    "es = EarlyStopping(monitor = 'val_loss', patience = 5)"
   ]
  },
  {
   "cell_type": "markdown",
   "metadata": {
    "id": "09PXIXvHNpmo"
   },
   "source": [
    "Due to the added processing time from the complexity of the VGG16 model, I've decided to hard cap the process at 50 epochs with a patience of 5."
   ]
  },
  {
   "cell_type": "code",
   "execution_count": null,
   "metadata": {
    "id": "w_JwHFVWNaru"
   },
   "outputs": [],
   "source": [
    "history = model.fit(train_data,\n",
    "                    batch_size = 8,\n",
    "                    validation_data = test_data,\n",
    "                    epochs = 50,\n",
    "                    callbacks = [es],\n",
    "                    verbose = 0)"
   ]
  },
  {
   "cell_type": "markdown",
   "metadata": {
    "id": "FrJ2-SnAOEgQ"
   },
   "source": [
    "## Hyperparameter Tuning (Binary)\n",
    "\n",
    "While about 97% test and 95% val accuracy is quite good, I have a little extra time and want to cover all my bases. I'll take a look at how some other optimizers perform and see if there's better performance or what the tradeoffs are.\n",
    "\n",
    "#### Available optimizers\n",
    "* SGD\n",
    "* RMSprop\n",
    "* Adam\n",
    "* AdamW - Adam but with a w! Uses adaptive estimations\n",
    "* Adadelta\n",
    "* Adagrad\n",
    "* Adamax\n",
    "* Adafactor - more commonly usd in NLP\n",
    "* Nadam - is RMSprop but with momentum\n",
    "* Ftrl - Better used for shallow modles and sparse feature space"
   ]
  },
  {
   "cell_type": "code",
   "execution_count": null,
   "metadata": {
    "id": "fjH7g_K_NZ1Z"
   },
   "outputs": [],
   "source": [
    "# creating a dictionary to store model parameters.\n",
    "accuracy_dict= {'optimizer': [], 'test_accuracy': [], 'val_accuracy': []}"
   ]
  },
  {
   "cell_type": "code",
   "execution_count": null,
   "metadata": {
    "colab": {
     "base_uri": "https://localhost:8080/"
    },
    "id": "NIlQQCcgOJHF",
    "outputId": "e99d5f2d-e27b-41b1-a4b8-cac226c70bfa"
   },
   "outputs": [
    {
     "name": "stdout",
     "output_type": "stream",
     "text": [
      "10/10 [==============================] - 62s 7s/step - loss: 0.0896 - accuracy: 0.9667\n"
     ]
    }
   ],
   "source": [
    "# model.evaluate(train_data), model.evaluate(test_data), model.evaluate(val_data)\n",
    "accuracy_dict['optimizer'].append('Adam')\n",
    "accuracy_dict['test_accuracy'].append(history.history['val_accuracy'][-1])\n",
    "accuracy_dict['val_accuracy'].append(model.evaluate(val_data)[-1])"
   ]
  },
  {
   "cell_type": "code",
   "execution_count": null,
   "metadata": {
    "colab": {
     "base_uri": "https://localhost:8080/"
    },
    "id": "btOlJyfVOYgS",
    "outputId": "8f1155ce-98b8-482e-dfec-e4c3faaf163f"
   },
   "outputs": [
    {
     "data": {
      "text/plain": [
       "{'optimizer': ['Adam'],\n",
       " 'test_accuracy': [0.9750000238418579],\n",
       " 'val_accuracy': [0.9666666388511658]}"
      ]
     },
     "execution_count": 49,
     "metadata": {},
     "output_type": "execute_result"
    }
   ],
   "source": [
    "accuracy_dict"
   ]
  },
  {
   "cell_type": "code",
   "execution_count": null,
   "metadata": {
    "colab": {
     "base_uri": "https://localhost:8080/"
    },
    "id": "bqTzi-vwOJB6",
    "outputId": "eee7339e-a179-4298-9bd7-2577b8f6db2c"
   },
   "outputs": [
    {
     "name": "stdout",
     "output_type": "stream",
     "text": [
      "10/10 [==============================] - 2s 152ms/step - loss: 0.6727 - accuracy: 0.6767\n",
      "10/10 [==============================] - 2s 153ms/step - loss: 0.0650 - accuracy: 0.9767\n",
      "10/10 [==============================] - 2s 154ms/step - loss: 0.6831 - accuracy: 0.6067\n"
     ]
    }
   ],
   "source": [
    "# Optimizing model parameters:\n",
    "\n",
    "# list of optimizers to use from the available list taken from the Keras webiste\n",
    "# Of the ones listed, I feel SGD, RMSprop and Adadelta may lead to similar \n",
    "# or maybe better performance than our defacto Adam.\n",
    "optimizers = ['SGD', 'RMSprop', 'Adadelta']\n",
    "\n",
    "# creating a dict to store the scores\n",
    "# accuracy_dict= {'optimizer': [], 'accuracy': []}\n",
    "\n",
    "# create a for loop to iterate through the list and test each optimizer\n",
    "\n",
    "for optimizer in optimizers:\n",
    "  model = Sequential()\n",
    "  model.add(vgg)\n",
    "  model.add(GlobalAveragePooling2D())\n",
    "  model.add(Dense(1024, activation='relu'))\n",
    "  model.add(Dense(1024, activation='relu'))\n",
    "  model.add(Dense(512, activation='relu'))\n",
    "  model.add(Dropout(0.3))\n",
    "  model.add(Dense(1, activation='sigmoid'))\n",
    "\n",
    "  es = EarlyStopping(monitor = 'val_loss', patience = 5)\n",
    "  # in order to set the learning rate of each optimizer, I'll have to instantiate each one \n",
    "  optimizer_ins = getattr(tf.optimizers, optimizer)(learning_rate=0.0001)\n",
    "\n",
    "  model.compile(optimizer=optimizer_ins, loss='binary_crossentropy', metrics =['accuracy'])\n",
    "  history = model.fit(train_data,\n",
    "                    batch_size = 8,\n",
    "                    validation_data = test_data,\n",
    "                    epochs = 50,\n",
    "                    callbacks = [es],\n",
    "                    verbose = 0)\n",
    "  accuracy_dict['optimizer'].append(optimizer)\n",
    "  accuracy_dict['test_accuracy'].append(history.history['val_accuracy'][-1])\n",
    "  accuracy_dict['val_accuracy'].append(model.evaluate(val_data)[-1])"
   ]
  },
  {
   "cell_type": "code",
   "execution_count": null,
   "metadata": {
    "id": "g1ExupBHOI9J"
   },
   "outputs": [],
   "source": [
    "accuracy_df = pd.DataFrame(accuracy_dict)"
   ]
  },
  {
   "cell_type": "code",
   "execution_count": null,
   "metadata": {
    "colab": {
     "base_uri": "https://localhost:8080/",
     "height": 196
    },
    "id": "lSmpn8vNcEV3",
    "outputId": "c9192710-7a66-4ba1-a218-a7b7dba29661"
   },
   "outputs": [
    {
     "data": {
      "text/html": [
       "\n",
       "  <div id=\"df-90479448-5a4f-40d1-8b94-18cf1a2f3ab1\">\n",
       "    <div class=\"colab-df-container\">\n",
       "      <div>\n",
       "<style scoped>\n",
       "    .dataframe tbody tr th:only-of-type {\n",
       "        vertical-align: middle;\n",
       "    }\n",
       "\n",
       "    .dataframe tbody tr th {\n",
       "        vertical-align: top;\n",
       "    }\n",
       "\n",
       "    .dataframe thead th {\n",
       "        text-align: right;\n",
       "    }\n",
       "</style>\n",
       "<table border=\"1\" class=\"dataframe\">\n",
       "  <thead>\n",
       "    <tr style=\"text-align: right;\">\n",
       "      <th></th>\n",
       "      <th>optimizer</th>\n",
       "      <th>test_accuracy</th>\n",
       "      <th>val_accuracy</th>\n",
       "    </tr>\n",
       "  </thead>\n",
       "  <tbody>\n",
       "    <tr>\n",
       "      <th>0</th>\n",
       "      <td>Adam</td>\n",
       "      <td>0.975000</td>\n",
       "      <td>0.966667</td>\n",
       "    </tr>\n",
       "    <tr>\n",
       "      <th>1</th>\n",
       "      <td>SGD</td>\n",
       "      <td>0.656667</td>\n",
       "      <td>0.676667</td>\n",
       "    </tr>\n",
       "    <tr>\n",
       "      <th>2</th>\n",
       "      <td>RMSprop</td>\n",
       "      <td>0.968333</td>\n",
       "      <td>0.976667</td>\n",
       "    </tr>\n",
       "    <tr>\n",
       "      <th>3</th>\n",
       "      <td>Adadelta</td>\n",
       "      <td>0.633333</td>\n",
       "      <td>0.606667</td>\n",
       "    </tr>\n",
       "  </tbody>\n",
       "</table>\n",
       "</div>\n",
       "      <button class=\"colab-df-convert\" onclick=\"convertToInteractive('df-90479448-5a4f-40d1-8b94-18cf1a2f3ab1')\"\n",
       "              title=\"Convert this dataframe to an interactive table.\"\n",
       "              style=\"display:none;\">\n",
       "        \n",
       "  <svg xmlns=\"http://www.w3.org/2000/svg\" height=\"24px\"viewBox=\"0 0 24 24\"\n",
       "       width=\"24px\">\n",
       "    <path d=\"M0 0h24v24H0V0z\" fill=\"none\"/>\n",
       "    <path d=\"M18.56 5.44l.94 2.06.94-2.06 2.06-.94-2.06-.94-.94-2.06-.94 2.06-2.06.94zm-11 1L8.5 8.5l.94-2.06 2.06-.94-2.06-.94L8.5 2.5l-.94 2.06-2.06.94zm10 10l.94 2.06.94-2.06 2.06-.94-2.06-.94-.94-2.06-.94 2.06-2.06.94z\"/><path d=\"M17.41 7.96l-1.37-1.37c-.4-.4-.92-.59-1.43-.59-.52 0-1.04.2-1.43.59L10.3 9.45l-7.72 7.72c-.78.78-.78 2.05 0 2.83L4 21.41c.39.39.9.59 1.41.59.51 0 1.02-.2 1.41-.59l7.78-7.78 2.81-2.81c.8-.78.8-2.07 0-2.86zM5.41 20L4 18.59l7.72-7.72 1.47 1.35L5.41 20z\"/>\n",
       "  </svg>\n",
       "      </button>\n",
       "      \n",
       "  <style>\n",
       "    .colab-df-container {\n",
       "      display:flex;\n",
       "      flex-wrap:wrap;\n",
       "      gap: 12px;\n",
       "    }\n",
       "\n",
       "    .colab-df-convert {\n",
       "      background-color: #E8F0FE;\n",
       "      border: none;\n",
       "      border-radius: 50%;\n",
       "      cursor: pointer;\n",
       "      display: none;\n",
       "      fill: #1967D2;\n",
       "      height: 32px;\n",
       "      padding: 0 0 0 0;\n",
       "      width: 32px;\n",
       "    }\n",
       "\n",
       "    .colab-df-convert:hover {\n",
       "      background-color: #E2EBFA;\n",
       "      box-shadow: 0px 1px 2px rgba(60, 64, 67, 0.3), 0px 1px 3px 1px rgba(60, 64, 67, 0.15);\n",
       "      fill: #174EA6;\n",
       "    }\n",
       "\n",
       "    [theme=dark] .colab-df-convert {\n",
       "      background-color: #3B4455;\n",
       "      fill: #D2E3FC;\n",
       "    }\n",
       "\n",
       "    [theme=dark] .colab-df-convert:hover {\n",
       "      background-color: #434B5C;\n",
       "      box-shadow: 0px 1px 3px 1px rgba(0, 0, 0, 0.15);\n",
       "      filter: drop-shadow(0px 1px 2px rgba(0, 0, 0, 0.3));\n",
       "      fill: #FFFFFF;\n",
       "    }\n",
       "  </style>\n",
       "\n",
       "      <script>\n",
       "        const buttonEl =\n",
       "          document.querySelector('#df-90479448-5a4f-40d1-8b94-18cf1a2f3ab1 button.colab-df-convert');\n",
       "        buttonEl.style.display =\n",
       "          google.colab.kernel.accessAllowed ? 'block' : 'none';\n",
       "\n",
       "        async function convertToInteractive(key) {\n",
       "          const element = document.querySelector('#df-90479448-5a4f-40d1-8b94-18cf1a2f3ab1');\n",
       "          const dataTable =\n",
       "            await google.colab.kernel.invokeFunction('convertToInteractive',\n",
       "                                                     [key], {});\n",
       "          if (!dataTable) return;\n",
       "\n",
       "          const docLinkHtml = 'Like what you see? Visit the ' +\n",
       "            '<a target=\"_blank\" href=https://colab.research.google.com/notebooks/data_table.ipynb>data table notebook</a>'\n",
       "            + ' to learn more about interactive tables.';\n",
       "          element.innerHTML = '';\n",
       "          dataTable['output_type'] = 'display_data';\n",
       "          await google.colab.output.renderOutput(dataTable, element);\n",
       "          const docLink = document.createElement('div');\n",
       "          docLink.innerHTML = docLinkHtml;\n",
       "          element.appendChild(docLink);\n",
       "        }\n",
       "      </script>\n",
       "    </div>\n",
       "  </div>\n",
       "  "
      ],
      "text/plain": [
       "  optimizer  test_accuracy  val_accuracy\n",
       "0      Adam       0.975000      0.966667\n",
       "1       SGD       0.656667      0.676667\n",
       "2   RMSprop       0.968333      0.976667\n",
       "3  Adadelta       0.633333      0.606667"
      ]
     },
     "execution_count": 52,
     "metadata": {},
     "output_type": "execute_result"
    }
   ],
   "source": [
    "accuracy_df"
   ]
  },
  {
   "cell_type": "markdown",
   "metadata": {
    "id": "Goi9iVZKcRpH"
   },
   "source": [
    "The test accuracy is doing a bit better on Adam than RMSprop but RMSprop has a higher validation accuracy. It's a tough call but I will use Adam. Adam (short for Adaptive Moment Estimation) takes advantage of momentum and RMSProp, which tends to work better in most cases. In this case, Adam is working very similarly to RMSprop but considering my sample size is not the largest, with additional data, having the Adam optimizer should achieve better results in the future. "
   ]
  },
  {
   "cell_type": "code",
   "execution_count": null,
   "metadata": {
    "id": "7vnK0Z3hdgby"
   },
   "outputs": [],
   "source": [
    "adam_drop_dict = {'dropout': [], 'test_accuracy': [], 'val_accuracy': []}"
   ]
  },
  {
   "cell_type": "code",
   "execution_count": null,
   "metadata": {
    "colab": {
     "base_uri": "https://localhost:8080/"
    },
    "id": "BMziEq1lcFc4",
    "outputId": "5aaa91ce-3f0f-4987-b10d-a44a3203b600"
   },
   "outputs": [
    {
     "name": "stdout",
     "output_type": "stream",
     "text": [
      "10/10 [==============================] - 2s 154ms/step - loss: 0.0796 - accuracy: 0.9833\n",
      "10/10 [==============================] - 2s 154ms/step - loss: 0.1042 - accuracy: 0.9567\n",
      "10/10 [==============================] - 2s 152ms/step - loss: 0.0967 - accuracy: 0.9700\n",
      "10/10 [==============================] - 2s 152ms/step - loss: 0.0647 - accuracy: 0.9733\n"
     ]
    }
   ],
   "source": [
    "# testing various dropout parameters\n",
    "dropouts = [0.7, 0.5, 0.3, 0.1]\n",
    "for dropout in dropouts:  \n",
    "  model = Sequential()\n",
    "  model.add(vgg)\n",
    "\n",
    "  model.add(GlobalAveragePooling2D())\n",
    "  model.add(Dense(1024, activation='relu'))\n",
    "  model.add(Dense(1024, activation='relu'))\n",
    "  model.add(Dense(512, activation='relu'))\n",
    "  model.add(Dropout(dropout))\n",
    "  model.add(Dense(1, activation='sigmoid'))\n",
    "\n",
    "  model.compile(optimizer=tf.optimizers.Adam(learning_rate=0.0001), \n",
    "                loss='binary_crossentropy', \n",
    "                metrics =['accuracy'])\n",
    "  es = EarlyStopping(monitor = 'val_loss', patience = 5)\n",
    "  history = model.fit(train_data,\n",
    "                    batch_size = 8,\n",
    "                    validation_data = test_data,\n",
    "                    epochs = 50,\n",
    "                    callbacks = [es],\n",
    "                    verbose = 0)\n",
    "  adam_drop_dict['dropout'].append(dropout)\n",
    "  adam_drop_dict['test_accuracy'].append(history.history['val_accuracy'][-1])\n",
    "  adam_drop_dict['val_accuracy'].append(model.evaluate(val_data)[-1])"
   ]
  },
  {
   "cell_type": "code",
   "execution_count": null,
   "metadata": {
    "colab": {
     "base_uri": "https://localhost:8080/",
     "height": 196
    },
    "id": "Pg33cwqfdgZU",
    "outputId": "b5269e2e-3b06-4938-9347-2fe00dd61ed8"
   },
   "outputs": [
    {
     "data": {
      "text/html": [
       "\n",
       "  <div id=\"df-e48d6a17-c4f3-4039-8507-70993d8ff6ee\">\n",
       "    <div class=\"colab-df-container\">\n",
       "      <div>\n",
       "<style scoped>\n",
       "    .dataframe tbody tr th:only-of-type {\n",
       "        vertical-align: middle;\n",
       "    }\n",
       "\n",
       "    .dataframe tbody tr th {\n",
       "        vertical-align: top;\n",
       "    }\n",
       "\n",
       "    .dataframe thead th {\n",
       "        text-align: right;\n",
       "    }\n",
       "</style>\n",
       "<table border=\"1\" class=\"dataframe\">\n",
       "  <thead>\n",
       "    <tr style=\"text-align: right;\">\n",
       "      <th></th>\n",
       "      <th>dropout</th>\n",
       "      <th>test_accuracy</th>\n",
       "      <th>val_accuracy</th>\n",
       "    </tr>\n",
       "  </thead>\n",
       "  <tbody>\n",
       "    <tr>\n",
       "      <th>0</th>\n",
       "      <td>0.7</td>\n",
       "      <td>0.970000</td>\n",
       "      <td>0.983333</td>\n",
       "    </tr>\n",
       "    <tr>\n",
       "      <th>1</th>\n",
       "      <td>0.5</td>\n",
       "      <td>0.978333</td>\n",
       "      <td>0.956667</td>\n",
       "    </tr>\n",
       "    <tr>\n",
       "      <th>2</th>\n",
       "      <td>0.3</td>\n",
       "      <td>0.968333</td>\n",
       "      <td>0.970000</td>\n",
       "    </tr>\n",
       "    <tr>\n",
       "      <th>3</th>\n",
       "      <td>0.1</td>\n",
       "      <td>0.968333</td>\n",
       "      <td>0.973333</td>\n",
       "    </tr>\n",
       "  </tbody>\n",
       "</table>\n",
       "</div>\n",
       "      <button class=\"colab-df-convert\" onclick=\"convertToInteractive('df-e48d6a17-c4f3-4039-8507-70993d8ff6ee')\"\n",
       "              title=\"Convert this dataframe to an interactive table.\"\n",
       "              style=\"display:none;\">\n",
       "        \n",
       "  <svg xmlns=\"http://www.w3.org/2000/svg\" height=\"24px\"viewBox=\"0 0 24 24\"\n",
       "       width=\"24px\">\n",
       "    <path d=\"M0 0h24v24H0V0z\" fill=\"none\"/>\n",
       "    <path d=\"M18.56 5.44l.94 2.06.94-2.06 2.06-.94-2.06-.94-.94-2.06-.94 2.06-2.06.94zm-11 1L8.5 8.5l.94-2.06 2.06-.94-2.06-.94L8.5 2.5l-.94 2.06-2.06.94zm10 10l.94 2.06.94-2.06 2.06-.94-2.06-.94-.94-2.06-.94 2.06-2.06.94z\"/><path d=\"M17.41 7.96l-1.37-1.37c-.4-.4-.92-.59-1.43-.59-.52 0-1.04.2-1.43.59L10.3 9.45l-7.72 7.72c-.78.78-.78 2.05 0 2.83L4 21.41c.39.39.9.59 1.41.59.51 0 1.02-.2 1.41-.59l7.78-7.78 2.81-2.81c.8-.78.8-2.07 0-2.86zM5.41 20L4 18.59l7.72-7.72 1.47 1.35L5.41 20z\"/>\n",
       "  </svg>\n",
       "      </button>\n",
       "      \n",
       "  <style>\n",
       "    .colab-df-container {\n",
       "      display:flex;\n",
       "      flex-wrap:wrap;\n",
       "      gap: 12px;\n",
       "    }\n",
       "\n",
       "    .colab-df-convert {\n",
       "      background-color: #E8F0FE;\n",
       "      border: none;\n",
       "      border-radius: 50%;\n",
       "      cursor: pointer;\n",
       "      display: none;\n",
       "      fill: #1967D2;\n",
       "      height: 32px;\n",
       "      padding: 0 0 0 0;\n",
       "      width: 32px;\n",
       "    }\n",
       "\n",
       "    .colab-df-convert:hover {\n",
       "      background-color: #E2EBFA;\n",
       "      box-shadow: 0px 1px 2px rgba(60, 64, 67, 0.3), 0px 1px 3px 1px rgba(60, 64, 67, 0.15);\n",
       "      fill: #174EA6;\n",
       "    }\n",
       "\n",
       "    [theme=dark] .colab-df-convert {\n",
       "      background-color: #3B4455;\n",
       "      fill: #D2E3FC;\n",
       "    }\n",
       "\n",
       "    [theme=dark] .colab-df-convert:hover {\n",
       "      background-color: #434B5C;\n",
       "      box-shadow: 0px 1px 3px 1px rgba(0, 0, 0, 0.15);\n",
       "      filter: drop-shadow(0px 1px 2px rgba(0, 0, 0, 0.3));\n",
       "      fill: #FFFFFF;\n",
       "    }\n",
       "  </style>\n",
       "\n",
       "      <script>\n",
       "        const buttonEl =\n",
       "          document.querySelector('#df-e48d6a17-c4f3-4039-8507-70993d8ff6ee button.colab-df-convert');\n",
       "        buttonEl.style.display =\n",
       "          google.colab.kernel.accessAllowed ? 'block' : 'none';\n",
       "\n",
       "        async function convertToInteractive(key) {\n",
       "          const element = document.querySelector('#df-e48d6a17-c4f3-4039-8507-70993d8ff6ee');\n",
       "          const dataTable =\n",
       "            await google.colab.kernel.invokeFunction('convertToInteractive',\n",
       "                                                     [key], {});\n",
       "          if (!dataTable) return;\n",
       "\n",
       "          const docLinkHtml = 'Like what you see? Visit the ' +\n",
       "            '<a target=\"_blank\" href=https://colab.research.google.com/notebooks/data_table.ipynb>data table notebook</a>'\n",
       "            + ' to learn more about interactive tables.';\n",
       "          element.innerHTML = '';\n",
       "          dataTable['output_type'] = 'display_data';\n",
       "          await google.colab.output.renderOutput(dataTable, element);\n",
       "          const docLink = document.createElement('div');\n",
       "          docLink.innerHTML = docLinkHtml;\n",
       "          element.appendChild(docLink);\n",
       "        }\n",
       "      </script>\n",
       "    </div>\n",
       "  </div>\n",
       "  "
      ],
      "text/plain": [
       "   dropout  test_accuracy  val_accuracy\n",
       "0      0.7       0.970000      0.983333\n",
       "1      0.5       0.978333      0.956667\n",
       "2      0.3       0.968333      0.970000\n",
       "3      0.1       0.968333      0.973333"
      ]
     },
     "execution_count": 56,
     "metadata": {},
     "output_type": "execute_result"
    }
   ],
   "source": [
    "best_drop = pd.DataFrame(adam_drop_dict)\n",
    "best_drop"
   ]
  },
  {
   "cell_type": "markdown",
   "metadata": {
    "id": "NahaNCt9m918"
   },
   "source": [
    "Note: dropout 0.7 is inconsistent. In my deeper dive 'vgg_bianaryclass' notebook, under the same conditions, 0.7 dropout yielded  93% accuracy. Due to the inconsistency in the output, I've chosen 0.5 as my dropout as it was the most consistent.\n",
    "\n",
    "Recompiling the model for export"
   ]
  },
  {
   "cell_type": "code",
   "execution_count": null,
   "metadata": {
    "id": "sBHUqj9ZdgW2"
   },
   "outputs": [],
   "source": [
    "model = Sequential()\n",
    "model.add(vgg)\n",
    "\n",
    "model.add(GlobalAveragePooling2D())\n",
    "model.add(Dense(1024, activation='relu'))\n",
    "model.add(Dense(1024, activation='relu'))\n",
    "model.add(Dense(512, activation='relu'))\n",
    "model.add(Dropout(0.5))\n",
    "model.add(Dense(1, activation='sigmoid'))\n",
    "\n",
    "model.compile(optimizer=tf.optimizers.Adam(learning_rate=0.0001), \n",
    "              loss='binary_crossentropy', \n",
    "              metrics =['accuracy'])\n",
    "es = EarlyStopping(monitor = 'val_loss', patience = 5)\n",
    "history = model.fit(train_data,\n",
    "                  batch_size = 8,\n",
    "                  validation_data = test_data,\n",
    "                  epochs = 50,\n",
    "                  callbacks = [es],\n",
    "                  verbose = 0)"
   ]
  },
  {
   "cell_type": "code",
   "execution_count": null,
   "metadata": {
    "id": "49Ufnab7rKY3"
   },
   "outputs": [],
   "source": [
    "history = history.history"
   ]
  },
  {
   "cell_type": "code",
   "execution_count": null,
   "metadata": {
    "id": "01FbHhgPdgSD"
   },
   "outputs": [],
   "source": [
    "binary_path = '/content/drive/MyDrive/Colab/capstone/models/vgg_binary_h5/'\n",
    "# # commenting out to prevent overwriting the original export\n",
    "# with open(binary_path+'binary_history.pkl', 'wb') as f:\n",
    "#   pickle.dump(history, f)"
   ]
  },
  {
   "cell_type": "code",
   "execution_count": null,
   "metadata": {
    "id": "NtfVO7Tzn-4a"
   },
   "outputs": [],
   "source": [
    "with open(binary_path+'binary_history.pkl', 'rb') as f:\n",
    "  history = pickle.load(f)"
   ]
  },
  {
   "cell_type": "code",
   "execution_count": null,
   "metadata": {
    "colab": {
     "base_uri": "https://localhost:8080/",
     "height": 594
    },
    "id": "4WdbeaIwn-w1",
    "outputId": "62d429f0-b0c5-4adf-ce86-fa226a5e44e8"
   },
   "outputs": [
    {
     "data": {
      "image/png": "[encoded data removed]",
      "text/plain": [
       "<Figure size 432x288 with 1 Axes>"
      ]
     },
     "metadata": {
      "needs_background": "light"
     },
     "output_type": "display_data"
    },
    {
     "data": {
      "image/png": "[encoded data removed]",
      "text/plain": [
       "<Figure size 432x288 with 1 Axes>"
      ]
     },
     "metadata": {
      "needs_background": "light"
     },
     "output_type": "display_data"
    }
   ],
   "source": [
    "acc = history['accuracy']\n",
    "val_acc = history['val_accuracy']\n",
    "loss = history['loss']\n",
    "val_loss = history['val_loss']\n",
    "\n",
    "plt.plot(acc)\n",
    "plt.plot(val_acc)\n",
    "plt.title('Binary Model Accuracy')\n",
    "plt.ylabel('Accuracy')\n",
    "plt.xlabel('Epoch')\n",
    "plt.legend(['Train', 'Test'], loc = 'right')\n",
    "plt.show()\n",
    "\n",
    "plt.plot(loss)\n",
    "plt.plot(val_loss)\n",
    "plt.title('Binary Model Loss')\n",
    "plt.ylabel('Loss')\n",
    "plt.xlabel('Epoch')\n",
    "plt.legend(['Train', 'Test'], loc = 'right')\n",
    "plt.show()"
   ]
  },
  {
   "cell_type": "code",
   "execution_count": null,
   "metadata": {
    "id": "T-fX1I9ToGJN"
   },
   "outputs": [],
   "source": [
    "# # commenting out to prevent overwriting original\n",
    "# model.save('/content/drive/MyDrive/Colab/capstone/models/vgg_binary_h5/binary_model.h5')"
   ]
  },
  {
   "cell_type": "markdown",
   "metadata": {
    "id": "g2A_QPxgrgvZ"
   },
   "source": [
    "# Multiclassification Model\n",
    "\n",
    "I perform similar work to the binary classification model, only I forgo recreating repetitive steps in this notebook. For greater detail, please refer to 'vgg_multiclass' notebook in the notebooks folder.\n",
    "\n",
    "Multiclass data is split up as so:\n",
    "23.11% Glioma, 23.45% Meningioma, 28.51% No Tumor, and 25.05% pituitary"
   ]
  },
  {
   "cell_type": "code",
   "execution_count": null,
   "metadata": {
    "id": "KNTZNnVbrgiU"
   },
   "outputs": [],
   "source": [
    "path = '/content/drive/MyDrive/Colab/capstone/data/archive-2'\n",
    "os.chdir(path)\n",
    "\n",
    "# code commented out after execution to prevent remaking directories\n",
    "# test_folder = '/content/drive/MyDrive/Colab/capstone/data/archive-2/cropped_testing'\n",
    "\n",
    "# os.makedirs(os.path.join(test_folder, 'glioma'))\n",
    "# os.makedirs(os.path.join(test_folder, 'meningioma'))\n",
    "# os.makedirs(os.path.join(test_folder, 'notumor'))\n",
    "# os.makedirs(os.path.join(test_folder, 'pituitary'))\n",
    "\n",
    "# train_folder = '/content/drive/MyDrive/Colab/capstone/data/archive-2/cropped_training'\n",
    "\n",
    "# os.makedirs(os.path.join(train_folder, 'glioma'))\n",
    "# os.makedirs(os.path.join(train_folder, 'meningioma'))\n",
    "# os.makedirs(os.path.join(train_folder, 'notumor'))\n",
    "# os.makedirs(os.path.join(train_folder, 'pituitary'))\n",
    "\n",
    "\n",
    "# # archive-3 contains images that are not ideal/cleaned MRI images. I use this\n",
    "# # set of data to limit test the model with messy MRI scans.\n",
    "# train_folder = '/content/drive/MyDrive/Colab/capstone/data/archive-3/cropped_training'\n",
    "\n",
    "# os.makedirs(os.path.join(train_folder, 'glioma_tumor'))\n",
    "# os.makedirs(os.path.join(train_folder, 'meningioma_tumor'))\n",
    "# os.makedirs(os.path.join(train_folder, 'no_tumor'))\n",
    "# os.makedirs(os.path.join(train_folder, 'pituitary_tumor'))\n",
    "\n",
    "# test_folder = '/content/drive/MyDrive/Colab/capstone/data/archive-3/cropped_testing'\n",
    "\n",
    "# os.makedirs(os.path.join(test_folder, 'glioma_tumor'))\n",
    "# os.makedirs(os.path.join(test_folder, 'meningioma_tumor'))\n",
    "# os.makedirs(os.path.join(test_folder, 'no_tumor'))\n",
    "# os.makedirs(os.path.join(test_folder, 'pituitary_tumor'))"
   ]
  },
  {
   "cell_type": "code",
   "execution_count": null,
   "metadata": {
    "id": "hlKs7xHjr0Oz"
   },
   "outputs": [],
   "source": [
    "# # I've altered the code from the binary classification step to be easier to\n",
    "# # parse here. Commented out to prevent duplication.\n",
    "\n",
    "# subfolders = ['glioma', 'meningioma', 'notumor', 'pituitary']\n",
    "# folderPath = '/content/drive/MyDrive/Colab/capstone/data/archive-2/'\n",
    "# image_size = 224\n",
    "\n",
    "# # iterate through each folder:\n",
    "# for directory in ['Testing', 'Training']:\n",
    "#   # set current directory, this should set the directory to Testing or Training\n",
    "#   current_path = os.path.join(folderPath, directory)\n",
    "#   # iterate through the list of subfolders:\n",
    "#   for subfolder in subfolders:\n",
    "#     # set current path to the subfolder (ie Testing/glioma)\n",
    "#     subfolder_path = os.path.join(current_path, subfolder)\n",
    "#     # for all image files in the subfolder:\n",
    "#     for image_file in os.listdir(subfolder_path):\n",
    "#       # targets each image file specifically\n",
    "#       image_path = os.path.join(subfolder_path, image_file)\n",
    "#       # declare the image file as an object/load it in\n",
    "#       image = cv2.imread(image_path)\n",
    "#       # crop the image with my custom function\n",
    "#       cropped_image = crop_images([image])[0]\n",
    "#       # set destination file to export the cropped image\n",
    "#       # the destination is \"cropped_testing\" or \"cropped_training so I need to set directory.lower()\n",
    "#       destination = os.path.join(folderPath, 'cropped_' + directory.lower() ,subfolder)\n",
    "#       # set the save path for the actual file\n",
    "#       save_path = os.path.join(destination, image_file)\n",
    "#       cv2.imwrite(save_path, cropped_image)"
   ]
  },
  {
   "cell_type": "code",
   "execution_count": null,
   "metadata": {
    "id": "TNBEqAoisu3K"
   },
   "outputs": [],
   "source": [
    "# # transforming the validation data\n",
    "# subfolders = ['glioma_tumor', 'meningioma_tumor', 'no_tumor', 'pituitary_tumor']\n",
    "# folderPath = '/content/drive/MyDrive/Colab/capstone/data/archive-3/'\n",
    "# image_size = 224\n",
    "\n",
    "# # iterate through each folder:\n",
    "# for directory in ['Testing', 'Training']:\n",
    "#   # set current directory, this should set the directory to Testing or Training\n",
    "#   current_path = os.path.join(folderPath, directory)\n",
    "#   # iterate through the list of subfolders:\n",
    "#   for subfolder in subfolders:\n",
    "#     # set current path to the subfolder (ie Testing/glioma)\n",
    "#     subfolder_path = os.path.join(current_path, subfolder)\n",
    "#     # for all image files in the subfolder:\n",
    "#     for image_file in os.listdir(subfolder_path):\n",
    "#       # targets each image file specifically\n",
    "#       image_path = os.path.join(subfolder_path, image_file)\n",
    "#       # declare the image file as an object/load it in\n",
    "#       image = cv2.imread(image_path)\n",
    "#       # crop the image with my custom function\n",
    "#       cropped_image = crop_images([image])[0]\n",
    "#       # set destination file to export the cropped image\n",
    "#       # the destination is \"cropped_testing\" or \"cropped_training so I need to set directory.lower()\n",
    "#       destination = os.path.join(folderPath, 'cropped_' + directory.lower() ,subfolder)\n",
    "#       # set the save path for the actual file\n",
    "#       save_path = os.path.join(destination, image_file)\n",
    "#       cv2.imwrite(save_path, cropped_image)"
   ]
  },
  {
   "cell_type": "code",
   "execution_count": null,
   "metadata": {
    "id": "ao19JWdtsv_2"
   },
   "outputs": [],
   "source": [
    "datagen = ImageDataGenerator(rescale=1/255)"
   ]
  },
  {
   "cell_type": "code",
   "execution_count": null,
   "metadata": {
    "colab": {
     "base_uri": "https://localhost:8080/"
    },
    "id": "Jq7NGDmDsxY3",
    "outputId": "def12aed-a469-4ef9-e33c-340e7728db4a"
   },
   "outputs": [
    {
     "name": "stdout",
     "output_type": "stream",
     "text": [
      "Found 5712 images belonging to 4 classes.\n",
      "Found 1311 images belonging to 4 classes.\n",
      "Found 394 images belonging to 4 classes.\n"
     ]
    }
   ],
   "source": [
    "train_data = datagen.flow_from_directory(\n",
    "    directory = '/content/drive/MyDrive/Colab/capstone/data/archive-2/cropped_training/',\n",
    "    target_size = (224, 224),\n",
    "    color_mode='rgb',\n",
    "    classes=['glioma', 'meningioma', 'notumor', 'pituitary'],\n",
    "    class_mode='categorical',\n",
    "    batch_size= 32,\n",
    "    shuffle=True,\n",
    "    seed=33\n",
    ")\n",
    "\n",
    "test_data = datagen.flow_from_directory(\n",
    "    directory = '/content/drive/MyDrive/Colab/capstone/data/archive-2/cropped_testing/',\n",
    "    target_size = (224, 224),\n",
    "    color_mode='rgb',\n",
    "    classes=['glioma', 'meningioma', 'notumor', 'pituitary'],\n",
    "    class_mode='categorical',\n",
    "    batch_size= 32,\n",
    "    shuffle=True,\n",
    "    seed=33\n",
    ")\n",
    "\n",
    "val_data = datagen.flow_from_directory(\n",
    "    directory = '/content/drive/MyDrive/Colab/capstone/data/archive-3/cropped_testing/',\n",
    "    target_size = (224, 224),\n",
    "    color_mode='rgb',\n",
    "    classes=['glioma', 'meningioma', 'notumor', 'pituitary'],\n",
    "    class_mode='categorical',\n",
    "    batch_size= 32,\n",
    "    shuffle=True,\n",
    "    seed=33\n",
    ")"
   ]
  },
  {
   "cell_type": "markdown",
   "metadata": {
    "id": "_UZTC7fqs4X8"
   },
   "source": [
    "A baseline model was created using the same architecture as the binary model adjusted for categorical crossentropy. The results were abyssmal at roughly 30% and I've omitted the code from this notebook. Please refer to 'vgg_multiclass.ipynb' in my notebooks folder for reference. "
   ]
  },
  {
   "cell_type": "code",
   "execution_count": null,
   "metadata": {
    "id": "9r8klRvVsxUn"
   },
   "outputs": [],
   "source": [
    "# Import VGG16\n",
    "vgg = VGG16(input_shape=(224, 224, 3), weights='imagenet', include_top=False)\n",
    "\n",
    "# freezing the base layers as to not overwrite\n",
    "for layer in vgg.layers:\n",
    "    layer.trainable = False"
   ]
  },
  {
   "cell_type": "code",
   "execution_count": null,
   "metadata": {
    "id": "Xwja7njusxH8"
   },
   "outputs": [],
   "source": [
    "model = Sequential()\n",
    "model.add(vgg)\n",
    "# Adding a final layer like one we'd find in the model.\n",
    "# The original model uses maxpooling 2D, trying average instead.\n",
    "model.add(GlobalAveragePooling2D())\n",
    "model.add(Dense(1024, activation='relu'))\n",
    "model.add(Dense(1024, activation='relu'))\n",
    "model.add(Dense(512, activation='relu'))\n",
    "model.add(Dense(4, activation='softmax'))\n",
    "\n",
    "model.compile(optimizer=tf.optimizers.Adam(learning_rate=0.0001), \n",
    "              loss='categorical_crossentropy', \n",
    "              metrics =['accuracy'])\n",
    "es = EarlyStopping(monitor = 'val_loss', patience = 5)"
   ]
  },
  {
   "cell_type": "code",
   "execution_count": null,
   "metadata": {
    "id": "ZWHugIZitQkq"
   },
   "outputs": [],
   "source": [
    "history = model.fit(train_data,\n",
    "                    batch_size = 16,\n",
    "                    validation_data = test_data,\n",
    "                    epochs = 50,\n",
    "                    callbacks = [es],\n",
    "                    verbose = 0)"
   ]
  },
  {
   "cell_type": "markdown",
   "metadata": {
    "id": "jhJv3QadtctZ"
   },
   "source": [
    "## Hyperparameter Optimization (Multiclass)\n",
    "\n",
    "A list of optimizers was attempted but the overall run time exceeded the time allowed by Google Colab. The explored list of opimizers are as follows:\n",
    "\n",
    "*   'Adam', 'Adadelta', 'Adagrad', 'Adamax'"
   ]
  },
  {
   "cell_type": "code",
   "execution_count": null,
   "metadata": {
    "id": "3TzgJYHDtV6A"
   },
   "outputs": [],
   "source": [
    "accuracy_dict= {'dropout_prob': [], 'test_accuracy': []}"
   ]
  },
  {
   "cell_type": "markdown",
   "metadata": {
    "id": "lLNN4QAJDmJj"
   },
   "source": [
    "Number of epochs adjusted to 30 since the previous run showed about 25 epochs to hit bottom out. "
   ]
  },
  {
   "cell_type": "code",
   "execution_count": null,
   "metadata": {
    "id": "aZS1jKrOuACU"
   },
   "outputs": [],
   "source": [
    "dropouts = [0.7, 0.5, 0.3]\n",
    "\n",
    "for drop in dropouts:\n",
    "  model = Sequential()\n",
    "  model.add(vgg)\n",
    "\n",
    "  model.add(GlobalAveragePooling2D())\n",
    "  model.add(Dense(1024, activation='relu'))\n",
    "  model.add(Dense(1024, activation='relu'))\n",
    "  model.add(Dense(512, activation='relu'))\n",
    "  model.add(Dropout(drop)) # dropout parameter here\n",
    "  model.add(Dense(4, activation='softmax'))\n",
    "\n",
    "  model.compile(optimizer=tf.optimizers.Adam(learning_rate=0.0001), \n",
    "                loss='categorical_crossentropy', \n",
    "                metrics =['accuracy'])\n",
    "  es = EarlyStopping(monitor = 'val_loss', patience = 5)\n",
    "\n",
    "  history = model.fit(train_data,\n",
    "                    batch_size = 8,\n",
    "                    validation_data = test_data,\n",
    "                    epochs = 30,\n",
    "                    callbacks = [es],\n",
    "                    verbose = 0)\n",
    "  accuracy_dict['dropout_prob'].append(drop)\n",
    "  accuracy_dict['test_accuracy'].append(history.history['val_accuracy'][-1])"
   ]
  },
  {
   "cell_type": "code",
   "execution_count": null,
   "metadata": {
    "colab": {
     "base_uri": "https://localhost:8080/",
     "height": 164
    },
    "id": "ORQof5NRuBlZ",
    "outputId": "6bf576f5-469d-4fdb-ee4e-3f8654701906"
   },
   "outputs": [
    {
     "data": {
      "text/html": [
       "\n",
       "  <div id=\"df-3a26175c-7927-4315-9854-e3d31b98ff1a\">\n",
       "    <div class=\"colab-df-container\">\n",
       "      <div>\n",
       "<style scoped>\n",
       "    .dataframe tbody tr th:only-of-type {\n",
       "        vertical-align: middle;\n",
       "    }\n",
       "\n",
       "    .dataframe tbody tr th {\n",
       "        vertical-align: top;\n",
       "    }\n",
       "\n",
       "    .dataframe thead th {\n",
       "        text-align: right;\n",
       "    }\n",
       "</style>\n",
       "<table border=\"1\" class=\"dataframe\">\n",
       "  <thead>\n",
       "    <tr style=\"text-align: right;\">\n",
       "      <th></th>\n",
       "      <th>dropout_prob</th>\n",
       "      <th>test_accuracy</th>\n",
       "    </tr>\n",
       "  </thead>\n",
       "  <tbody>\n",
       "    <tr>\n",
       "      <th>0</th>\n",
       "      <td>0.7</td>\n",
       "      <td>0.922197</td>\n",
       "    </tr>\n",
       "    <tr>\n",
       "      <th>1</th>\n",
       "      <td>0.5</td>\n",
       "      <td>0.922960</td>\n",
       "    </tr>\n",
       "    <tr>\n",
       "      <th>2</th>\n",
       "      <td>0.3</td>\n",
       "      <td>0.933638</td>\n",
       "    </tr>\n",
       "  </tbody>\n",
       "</table>\n",
       "</div>\n",
       "      <button class=\"colab-df-convert\" onclick=\"convertToInteractive('df-3a26175c-7927-4315-9854-e3d31b98ff1a')\"\n",
       "              title=\"Convert this dataframe to an interactive table.\"\n",
       "              style=\"display:none;\">\n",
       "        \n",
       "  <svg xmlns=\"http://www.w3.org/2000/svg\" height=\"24px\"viewBox=\"0 0 24 24\"\n",
       "       width=\"24px\">\n",
       "    <path d=\"M0 0h24v24H0V0z\" fill=\"none\"/>\n",
       "    <path d=\"M18.56 5.44l.94 2.06.94-2.06 2.06-.94-2.06-.94-.94-2.06-.94 2.06-2.06.94zm-11 1L8.5 8.5l.94-2.06 2.06-.94-2.06-.94L8.5 2.5l-.94 2.06-2.06.94zm10 10l.94 2.06.94-2.06 2.06-.94-2.06-.94-.94-2.06-.94 2.06-2.06.94z\"/><path d=\"M17.41 7.96l-1.37-1.37c-.4-.4-.92-.59-1.43-.59-.52 0-1.04.2-1.43.59L10.3 9.45l-7.72 7.72c-.78.78-.78 2.05 0 2.83L4 21.41c.39.39.9.59 1.41.59.51 0 1.02-.2 1.41-.59l7.78-7.78 2.81-2.81c.8-.78.8-2.07 0-2.86zM5.41 20L4 18.59l7.72-7.72 1.47 1.35L5.41 20z\"/>\n",
       "  </svg>\n",
       "      </button>\n",
       "      \n",
       "  <style>\n",
       "    .colab-df-container {\n",
       "      display:flex;\n",
       "      flex-wrap:wrap;\n",
       "      gap: 12px;\n",
       "    }\n",
       "\n",
       "    .colab-df-convert {\n",
       "      background-color: #E8F0FE;\n",
       "      border: none;\n",
       "      border-radius: 50%;\n",
       "      cursor: pointer;\n",
       "      display: none;\n",
       "      fill: #1967D2;\n",
       "      height: 32px;\n",
       "      padding: 0 0 0 0;\n",
       "      width: 32px;\n",
       "    }\n",
       "\n",
       "    .colab-df-convert:hover {\n",
       "      background-color: #E2EBFA;\n",
       "      box-shadow: 0px 1px 2px rgba(60, 64, 67, 0.3), 0px 1px 3px 1px rgba(60, 64, 67, 0.15);\n",
       "      fill: #174EA6;\n",
       "    }\n",
       "\n",
       "    [theme=dark] .colab-df-convert {\n",
       "      background-color: #3B4455;\n",
       "      fill: #D2E3FC;\n",
       "    }\n",
       "\n",
       "    [theme=dark] .colab-df-convert:hover {\n",
       "      background-color: #434B5C;\n",
       "      box-shadow: 0px 1px 3px 1px rgba(0, 0, 0, 0.15);\n",
       "      filter: drop-shadow(0px 1px 2px rgba(0, 0, 0, 0.3));\n",
       "      fill: #FFFFFF;\n",
       "    }\n",
       "  </style>\n",
       "\n",
       "      <script>\n",
       "        const buttonEl =\n",
       "          document.querySelector('#df-3a26175c-7927-4315-9854-e3d31b98ff1a button.colab-df-convert');\n",
       "        buttonEl.style.display =\n",
       "          google.colab.kernel.accessAllowed ? 'block' : 'none';\n",
       "\n",
       "        async function convertToInteractive(key) {\n",
       "          const element = document.querySelector('#df-3a26175c-7927-4315-9854-e3d31b98ff1a');\n",
       "          const dataTable =\n",
       "            await google.colab.kernel.invokeFunction('convertToInteractive',\n",
       "                                                     [key], {});\n",
       "          if (!dataTable) return;\n",
       "\n",
       "          const docLinkHtml = 'Like what you see? Visit the ' +\n",
       "            '<a target=\"_blank\" href=https://colab.research.google.com/notebooks/data_table.ipynb>data table notebook</a>'\n",
       "            + ' to learn more about interactive tables.';\n",
       "          element.innerHTML = '';\n",
       "          dataTable['output_type'] = 'display_data';\n",
       "          await google.colab.output.renderOutput(dataTable, element);\n",
       "          const docLink = document.createElement('div');\n",
       "          docLink.innerHTML = docLinkHtml;\n",
       "          element.appendChild(docLink);\n",
       "        }\n",
       "      </script>\n",
       "    </div>\n",
       "  </div>\n",
       "  "
      ],
      "text/plain": [
       "   dropout_prob  test_accuracy\n",
       "0           0.7       0.922197\n",
       "1           0.5       0.922960\n",
       "2           0.3       0.933638"
      ]
     },
     "execution_count": 76,
     "metadata": {},
     "output_type": "execute_result"
    }
   ],
   "source": [
    "dropout_df = pd.DataFrame(accuracy_dict)\n",
    "dropout_df"
   ]
  },
  {
   "cell_type": "code",
   "execution_count": null,
   "metadata": {
    "id": "1YX2e8R6D3V5"
   },
   "outputs": [],
   "source": [
    "# Recompiling final model for export\n",
    "model = Sequential()\n",
    "model.add(vgg)\n",
    "\n",
    "model.add(GlobalAveragePooling2D())\n",
    "model.add(Dense(1024, activation='relu'))\n",
    "model.add(Dense(1024, activation='relu'))\n",
    "model.add(Dense(512, activation='relu'))\n",
    "model.add(Dropout(0.3))\n",
    "model.add(Dense(4, activation='softmax'))\n",
    "\n",
    "model.compile(optimizer=tf.optimizers.Adam(learning_rate=0.0001), \n",
    "              loss='categorical_crossentropy', \n",
    "              metrics =['accuracy'])\n",
    "es = EarlyStopping(monitor = 'val_loss', patience = 5)\n",
    "\n",
    "history = model.fit(train_data,\n",
    "                  batch_size = 8,\n",
    "                  validation_data = test_data,\n",
    "                  epochs = 30,\n",
    "                  callbacks = [es],\n",
    "                  verbose = 0)"
   ]
  },
  {
   "cell_type": "code",
   "execution_count": 4,
   "metadata": {
    "id": "EWpJy-kvD3TQ"
   },
   "outputs": [],
   "source": [
    "# history = history.history\n",
    "mu_path = '/content/drive/MyDrive/Colab/capstone/models/vgg_multi_h5/'\n",
    "# # commenting out any writes to directory to prevent file duplication/overwriting\n",
    "# with open(mu_path+'multi_history.pkl', 'wb') as f:\n",
    "#   pickle.dump(history, f)\n",
    "\n",
    "with open(mu_path+'multi_history.pkl', 'rb') as f:\n",
    "  history = pickle.load(f)\n"
   ]
  },
  {
   "cell_type": "code",
   "execution_count": 5,
   "metadata": {
    "colab": {
     "base_uri": "https://localhost:8080/",
     "height": 594
    },
    "id": "JVl-2cfjD3Ql",
    "outputId": "81fe91d5-8f89-4999-e19a-4c9591c55774"
   },
   "outputs": [
    {
     "data": {
      "image/png": "[encoded data removed]",
      "text/plain": [
       "<Figure size 432x288 with 1 Axes>"
      ]
     },
     "metadata": {
      "needs_background": "light"
     },
     "output_type": "display_data"
    },
    {
     "data": {
      "image/png": "[encoded data removed]",
      "text/plain": [
       "<Figure size 432x288 with 1 Axes>"
      ]
     },
     "metadata": {
      "needs_background": "light"
     },
     "output_type": "display_data"
    }
   ],
   "source": [
    "acc = history['accuracy']\n",
    "val_acc = history['val_accuracy']\n",
    "loss = history['loss']\n",
    "val_loss = history['val_loss']\n",
    "\n",
    "plt.plot(acc)\n",
    "plt.plot(val_acc)\n",
    "plt.title('Model Accuracy')\n",
    "plt.ylabel('Accuracy')\n",
    "plt.xlabel('Epoch')\n",
    "plt.legend(['Train', 'Test'], loc = 'right')\n",
    "plt.show()\n",
    "\n",
    "plt.plot(loss)\n",
    "plt.plot(val_loss)\n",
    "plt.title('Model Loss')\n",
    "plt.ylabel('Loss')\n",
    "plt.xlabel('Epoch')\n",
    "plt.legend(['Train', 'Test'], loc = 'right')\n",
    "plt.show()"
   ]
  },
  {
   "cell_type": "code",
   "execution_count": null,
   "metadata": {
    "id": "pibFO-qBD3Ds"
   },
   "outputs": [],
   "source": [
    "# model.save('/content/drive/MyDrive/Colab/capstone/models/vgg_multi_h5/model.h5')\n",
    "loaded_model = tf.keras.models.load_model('/content/drive/MyDrive/Colab/capstone/models/vgg_multi_h5/multi_model.h5')"
   ]
  },
  {
   "cell_type": "code",
   "execution_count": null,
   "metadata": {
    "colab": {
     "base_uri": "https://localhost:8080/"
    },
    "id": "KCvvb_gQKRdb",
    "outputId": "544ae917-9e5f-4e57-b591-8f493a395086"
   },
   "outputs": [
    {
     "name": "stdout",
     "output_type": "stream",
     "text": [
      "Model: \"sequential_11\"\n",
      "_________________________________________________________________\n",
      " Layer (type)                Output Shape              Param #   \n",
      "=================================================================\n",
      " vgg16 (Functional)          (None, 7, 7, 512)         14714688  \n",
      "                                                                 \n",
      " global_average_pooling2d_11  (None, 512)              0         \n",
      "  (GlobalAveragePooling2D)                                       \n",
      "                                                                 \n",
      " dense_44 (Dense)            (None, 1024)              525312    \n",
      "                                                                 \n",
      " dense_45 (Dense)            (None, 1024)              1049600   \n",
      "                                                                 \n",
      " dense_46 (Dense)            (None, 512)               524800    \n",
      "                                                                 \n",
      " dropout_4 (Dropout)         (None, 512)               0         \n",
      "                                                                 \n",
      " dense_47 (Dense)            (None, 4)                 2052      \n",
      "                                                                 \n",
      "=================================================================\n",
      "Total params: 16,816,452\n",
      "Trainable params: 2,101,764\n",
      "Non-trainable params: 14,714,688\n",
      "_________________________________________________________________\n"
     ]
    }
   ],
   "source": [
    "loaded_model.summary() # sanity check"
   ]
  },
  {
   "cell_type": "code",
   "execution_count": null,
   "metadata": {
    "colab": {
     "base_uri": "https://localhost:8080/"
    },
    "id": "0Kn-IXAdKWTu",
    "outputId": "f02057b6-3de5-4ba8-aa7d-f547461cdb9c"
   },
   "outputs": [
    {
     "data": {
      "text/plain": [
       "[0.2574535012245178, 0.9138062596321106]"
      ]
     },
     "execution_count": 82,
     "metadata": {},
     "output_type": "execute_result"
    }
   ],
   "source": [
    "loaded_model.evaluate(test_data, verbose=0)"
   ]
  },
  {
   "cell_type": "markdown",
   "metadata": {
    "id": "krsDfNe0Kc9L"
   },
   "source": [
    "Final model accuracy is 91.4% on test.\n",
    "\n",
    "For this final test, I am using not ideal validation data wherein the images are blurry, offset, or any number of non-ideal situations. This will help limit test the model in it's current state and will determine how I move forward."
   ]
  },
  {
   "cell_type": "code",
   "execution_count": null,
   "metadata": {
    "colab": {
     "base_uri": "https://localhost:8080/"
    },
    "id": "99rcBsUjKaIr",
    "outputId": "1c357b10-6237-470e-cf67-776b6d431dcf"
   },
   "outputs": [
    {
     "data": {
      "text/plain": [
       "[1.810529351234436, 0.6852791905403137]"
      ]
     },
     "execution_count": 83,
     "metadata": {},
     "output_type": "execute_result"
    }
   ],
   "source": [
    "loaded_model.evaluate(val_data,verbose=0)"
   ]
  },
  {
   "cell_type": "markdown",
   "metadata": {
    "id": "LcLLUGlpLGBk"
   },
   "source": [
    "Utilizing messy MRI scans yields a 68.5% accuracy overall. This is pretty good for not being trained in any capacity on messy images but not practical for real world use. "
   ]
  },
  {
   "cell_type": "markdown",
   "metadata": {
    "id": "nZqMhssnLUH7"
   },
   "source": [
    "## Summary\n",
    "\n",
    "My binary model had to beat a baseline of 46.5% (tumor positive) and did so with an accuracy of 97.8% test and 95.7% validation using the Adam optimizer with a Dropout layer of 0.5. \n",
    "\n",
    "My multiclass model had to beat roughly 30% with a test accuracy of 91.4% and a hard validation set of 68.5%. Note the validation set for this specific example uses images that were not cleaned up and are considered messy images. \n",
    "\n",
    "I've created a Streamlit application, the code for which is in the Streamlit folder dubbed 'application.py'. The code for the application is provided below with comments.\n",
    "\n",
    "## Next Steps\n",
    "\n",
    "Due to time constraints, I will have to leave the models as they currently stand. There are a few areas I want to revisit and improve upon the models further.\n",
    "\n",
    "\n",
    "\n",
    "1.   Binary model\n",
    "  *   Generate more data by virtue of image manipulation\n",
    "      *   Flip images along the horizontal and veritcal axis'\n",
    "      *   Slightly rotate each image by 5, 10, 20 etc. degrees\n",
    "      *   Slightly blur images by varying degrees to account\n",
    "  *   Gather more images to train the models on\n",
    "2.   Multiclass model\n",
    "  *   Do very much the same for as the Binary model\n",
    "  *   gather additional images and expand the categories; why stop at 3 types?\n",
    "3.   Learn to better leverage resources from Google Colab to speed up modeling\n",
    "4.   Revisit RMSprop when more data is available. The early model for the binary classifier showed promising results with RMSprop. To truly test my hypothesis of Adam being better overall, I will need to test it by revisiting this with the expanded data set. "
   ]
  },
  {
   "cell_type": "code",
   "execution_count": null,
   "metadata": {
    "id": "PblCV8QHOG--"
   },
   "outputs": [],
   "source": [
    "import streamlit as st\n",
    "import keras\n",
    "import os\n",
    "from PIL import Image\n",
    "import numpy as np\n",
    "import cv2\n",
    "import imutils\n",
    "import shutil\n",
    "import tempfile\n",
    "from image_processing import crop_images \n",
    "\n",
    "user_image = st.file_uploader(\"Upload an image...\", type=[\"jpg\", \"jpeg\", \"png\"])\n",
    "\n",
    "#create a temporary direcory to store the st file for transformations\n",
    "# file path\n",
    "temp_dir = os.path.join(os.getcwd(), \"temp\")\n",
    "# if the file path doesn't exist, create it\n",
    "if not os.path.exists(temp_dir):\n",
    "    os.mkdir(temp_dir)\n",
    "    \n",
    "    # only runs if there's an image file \n",
    "if user_image is not None:\n",
    "\n",
    "    file_path = os.path.join(temp_dir, 'user_image.jpg')\n",
    "    with open(file_path, 'wb') as f:\n",
    "        f.write(user_image.getvalue())\n",
    "        \n",
    "    # cv2 read in the image for the transformation fn\n",
    "    image1 = cv2.imread(os.path.join(temp_dir, 'user_image.jpg'))\n",
    "    image = cv2.resize(image1, dsize = (224, 224), interpolation=cv2.INTER_CUBIC)\n",
    "    cropped_image = crop_images([image])[0]\n",
    "    # export the cropped image to temp folder\n",
    "    cv2.imwrite(os.path.join(temp_dir, 'cropped_image.jpg'), cropped_image)\n",
    "    # in order for the fn to work, I need it as an np array\n",
    "    # initialize array\n",
    "    np_image = []\n",
    "    # read in the image file with cv2\n",
    "    image = cv2.imread(os.path.join(temp_dir, 'cropped_image.jpg'))\n",
    "    # resize it to what VGG16 is expecting\n",
    "    image = cv2.resize(image,(224, 224))\n",
    "    # append to array\n",
    "    np_image.append(image)\n",
    "    # redeclare the array as variable to use in model\n",
    "    image = np.array(np_image)\n",
    "    \n",
    "    binary_model = keras.models.load_model('./models/binary_model.h5')\n",
    "    multi_model = keras.models.load_model('./models/multi_model.h5')\n",
    "    bi_prediction = binary_model.predict(image)\n",
    "    mu_prediction = multi_model.predict(image)\n",
    "    class_names={0: 'glioma', 1: 'meningioma', 2: 'no tumor', 3: 'pituitary tumor'}\n",
    "    mu_class = np.argmax(mu_prediction)\n",
    "    mu_class_cat = class_names[mu_class]\n",
    "    st.image(Image.open(user_image), caption = \"Uploaded Image\", use_column_width=False)\n",
    "    \n",
    "    if bi_prediction < 0.5:\n",
    "        st.write(f\"The image provided appears to have no indication of a tumor.\")\n",
    "    else:\n",
    "        # st.write(f\"The image provided appears to have cause for concern.\")\n",
    "        if mu_class_cat != 'no tumor':\n",
    "            st.write(f\"The image is similar to those with {mu_class_cat}\")\n",
    "        else:\n",
    "            st.write(f\"There's a tumor, but I don't know exactly what that is.\")\n",
    "\n",
    "    st.write(\"Disclaimer: This is not a diagnostic tool. Please consult a medical professional for any health related inquiries.\")\n",
    "    \n",
    "shutil.rmtree(temp_dir)"
   ]
  }
 ],
 "metadata": {
  "accelerator": "GPU",
  "colab": {
   "machine_shape": "hm",
   "provenance": []
  },
  "gpuClass": "standard",
  "kernelspec": {
   "display_name": "Python 3 (ipykernel)",
   "language": "python",
   "name": "python3"
  },
  "language_info": {
   "codemirror_mode": {
    "name": "ipython",
    "version": 3
   },
   "file_extension": ".py",
   "mimetype": "text/x-python",
   "name": "python",
   "nbconvert_exporter": "python",
   "pygments_lexer": "ipython3",
   "version": "3.9.15"
  }
 },
 "nbformat": 4,
 "nbformat_minor": 4
}
