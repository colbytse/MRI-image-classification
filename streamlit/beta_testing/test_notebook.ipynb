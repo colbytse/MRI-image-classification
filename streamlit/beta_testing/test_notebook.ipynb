{
 "cells": [
  {
   "cell_type": "code",
   "execution_count": 3,
   "id": "fe7a2283-2203-448e-883a-5a96e0b36f8b",
   "metadata": {
    "execution": {
     "iopub.execute_input": "2023-01-27T00:13:16.225317Z",
     "iopub.status.busy": "2023-01-27T00:13:16.224333Z",
     "iopub.status.idle": "2023-01-27T00:13:18.108996Z",
     "shell.execute_reply": "2023-01-27T00:13:18.108701Z",
     "shell.execute_reply.started": "2023-01-27T00:13:16.225267Z"
    },
    "tags": []
   },
   "outputs": [],
   "source": [
    "import streamlit as st\n",
    "from tensorflow.keras.models import load_model\n",
    "from PIL import Image\n",
    "import numpy as np\n",
    "import cv2\n",
    "import imutils\n"
   ]
  },
  {
   "cell_type": "code",
   "execution_count": 4,
   "id": "5916c379-7f3b-4d1d-aa34-082364f648e3",
   "metadata": {
    "execution": {
     "iopub.execute_input": "2023-01-26T20:34:48.245623Z",
     "iopub.status.busy": "2023-01-26T20:34:48.244749Z",
     "iopub.status.idle": "2023-01-26T20:34:48.497299Z",
     "shell.execute_reply": "2023-01-26T20:34:48.497016Z",
     "shell.execute_reply.started": "2023-01-26T20:34:48.245554Z"
    },
    "tags": []
   },
   "outputs": [
    {
     "name": "stderr",
     "output_type": "stream",
     "text": [
      "2023-01-26 12:34:48.495 \n",
      "  \u001b[33m\u001b[1mWarning:\u001b[0m to view this Streamlit app on a browser, run it with the following\n",
      "  command:\n",
      "\n",
      "    streamlit run /Users/colby/miniforge3/envs/tfm1/lib/python3.9/site-packages/ipykernel_launcher.py [ARGUMENTS]\n"
     ]
    }
   ],
   "source": [
    "stream = st.file_uploader('../models/vgg_binary_h5/binary_model.h5(.h5py.zip)', type='zip')\n",
    "if stream is not None:\n",
    "  myzipfile = zipfile.ZipFile(stream)\n",
    "  with tempfile.TemporaryDirectory() as tmp_dir:\n",
    "    myzipfile.extractall(tmp_dir)\n",
    "    root_folder = myzipfile.namelist()[0] # e.g. \"model.h5py\"\n",
    "    model_dir = os.path.join(tmp_dir, root_folder)\n",
    "    #st.info(f'trying to load model from tmp dir {model_dir}...')\n",
    "    model = tf.keras.models.load_model(model_dir)"
   ]
  },
  {
   "cell_type": "code",
   "execution_count": 4,
   "id": "fe25c26c-9c79-4080-b140-22639f4c9192",
   "metadata": {
    "execution": {
     "iopub.execute_input": "2023-01-27T00:13:18.110126Z",
     "iopub.status.busy": "2023-01-27T00:13:18.109837Z",
     "iopub.status.idle": "2023-01-27T00:13:18.340476Z",
     "shell.execute_reply": "2023-01-27T00:13:18.340166Z",
     "shell.execute_reply.started": "2023-01-27T00:13:18.110112Z"
    },
    "tags": []
   },
   "outputs": [],
   "source": [
    "bi_mod = load_model(\"binary_model.h5\")"
   ]
  },
  {
   "cell_type": "code",
   "execution_count": 7,
   "id": "1cd4dff4-2712-4876-b59a-f8e6c023aade",
   "metadata": {
    "execution": {
     "iopub.execute_input": "2023-01-27T00:14:20.916861Z",
     "iopub.status.busy": "2023-01-27T00:14:20.916087Z",
     "iopub.status.idle": "2023-01-27T00:14:20.964994Z",
     "shell.execute_reply": "2023-01-27T00:14:20.964133Z",
     "shell.execute_reply.started": "2023-01-27T00:14:20.916800Z"
    },
    "tags": []
   },
   "outputs": [
    {
     "ename": "TypeError",
     "evalue": "predict() missing 1 required positional argument: 'x'",
     "output_type": "error",
     "traceback": [
      "\u001b[0;31m---------------------------------------------------------------------------\u001b[0m",
      "\u001b[0;31mTypeError\u001b[0m                                 Traceback (most recent call last)",
      "Cell \u001b[0;32mIn[7], line 1\u001b[0m\n\u001b[0;32m----> 1\u001b[0m \u001b[43mbi_mod\u001b[49m\u001b[38;5;241;43m.\u001b[39;49m\u001b[43mpredict\u001b[49m\u001b[43m(\u001b[49m\u001b[43m)\u001b[49m\n",
      "File \u001b[0;32m~/miniforge3/envs/tfm1/lib/python3.9/site-packages/keras/utils/traceback_utils.py:70\u001b[0m, in \u001b[0;36mfilter_traceback.<locals>.error_handler\u001b[0;34m(*args, **kwargs)\u001b[0m\n\u001b[1;32m     67\u001b[0m     filtered_tb \u001b[38;5;241m=\u001b[39m _process_traceback_frames(e\u001b[38;5;241m.\u001b[39m__traceback__)\n\u001b[1;32m     68\u001b[0m     \u001b[38;5;66;03m# To get the full stack trace, call:\u001b[39;00m\n\u001b[1;32m     69\u001b[0m     \u001b[38;5;66;03m# `tf.debugging.disable_traceback_filtering()`\u001b[39;00m\n\u001b[0;32m---> 70\u001b[0m     \u001b[38;5;28;01mraise\u001b[39;00m e\u001b[38;5;241m.\u001b[39mwith_traceback(filtered_tb) \u001b[38;5;28;01mfrom\u001b[39;00m \u001b[38;5;28mNone\u001b[39m\n\u001b[1;32m     71\u001b[0m \u001b[38;5;28;01mfinally\u001b[39;00m:\n\u001b[1;32m     72\u001b[0m     \u001b[38;5;28;01mdel\u001b[39;00m filtered_tb\n",
      "File \u001b[0;32m~/miniforge3/envs/tfm1/lib/python3.9/site-packages/keras/utils/traceback_utils.py:65\u001b[0m, in \u001b[0;36mfilter_traceback.<locals>.error_handler\u001b[0;34m(*args, **kwargs)\u001b[0m\n\u001b[1;32m     63\u001b[0m filtered_tb \u001b[38;5;241m=\u001b[39m \u001b[38;5;28;01mNone\u001b[39;00m\n\u001b[1;32m     64\u001b[0m \u001b[38;5;28;01mtry\u001b[39;00m:\n\u001b[0;32m---> 65\u001b[0m     \u001b[38;5;28;01mreturn\u001b[39;00m fn(\u001b[38;5;241m*\u001b[39margs, \u001b[38;5;241m*\u001b[39m\u001b[38;5;241m*\u001b[39mkwargs)\n\u001b[1;32m     66\u001b[0m \u001b[38;5;28;01mexcept\u001b[39;00m \u001b[38;5;167;01mException\u001b[39;00m \u001b[38;5;28;01mas\u001b[39;00m e:\n\u001b[1;32m     67\u001b[0m     filtered_tb \u001b[38;5;241m=\u001b[39m _process_traceback_frames(e\u001b[38;5;241m.\u001b[39m__traceback__)\n",
      "\u001b[0;31mTypeError\u001b[0m: predict() missing 1 required positional argument: 'x'"
     ]
    }
   ],
   "source": [
    "bi_mod.predict()"
   ]
  },
  {
   "cell_type": "code",
   "execution_count": null,
   "id": "4f174535-a139-471c-890e-fe56d58d42d2",
   "metadata": {},
   "outputs": [],
   "source": []
  }
 ],
 "metadata": {
  "kernelspec": {
   "display_name": "Python 3 (ipykernel)",
   "language": "python",
   "name": "python3"
  },
  "language_info": {
   "codemirror_mode": {
    "name": "ipython",
    "version": 3
   },
   "file_extension": ".py",
   "mimetype": "text/x-python",
   "name": "python",
   "nbconvert_exporter": "python",
   "pygments_lexer": "ipython3",
   "version": "3.9.15"
  }
 },
 "nbformat": 4,
 "nbformat_minor": 5
}
